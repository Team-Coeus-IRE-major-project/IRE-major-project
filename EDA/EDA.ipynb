{
 "cells": [
  {
   "cell_type": "markdown",
   "id": "5a63ce3f",
   "metadata": {},
   "source": [
    "### Import the Libraries"
   ]
  },
  {
   "cell_type": "code",
   "execution_count": 11,
   "id": "2f32853d",
   "metadata": {
    "execution": {
     "iopub.execute_input": "2022-10-20T19:53:10.008380Z",
     "iopub.status.busy": "2022-10-20T19:53:10.006628Z",
     "iopub.status.idle": "2022-10-20T19:53:11.294867Z",
     "shell.execute_reply": "2022-10-20T19:53:11.293631Z",
     "shell.execute_reply.started": "2022-10-20T19:53:10.008251Z"
    }
   },
   "outputs": [],
   "source": [
    "import pandas as pd\n",
    "import numpy as np\n",
    "import matplotlib.pyplot as plt\n",
    "from pandas_profiling import ProfileReport\n",
    "%matplotlib inline"
   ]
  },
  {
   "cell_type": "markdown",
   "id": "72d27018",
   "metadata": {},
   "source": [
    "### Reading the data from both the csv files."
   ]
  },
  {
   "cell_type": "code",
   "execution_count": 2,
   "id": "15bf7b83",
   "metadata": {
    "execution": {
     "iopub.execute_input": "2022-10-20T19:53:11.301150Z",
     "iopub.status.busy": "2022-10-20T19:53:11.300775Z",
     "iopub.status.idle": "2022-10-20T19:53:13.485079Z",
     "shell.execute_reply": "2022-10-20T19:53:13.483367Z",
     "shell.execute_reply.started": "2022-10-20T19:53:11.301114Z"
    }
   },
   "outputs": [
    {
     "name": "stderr",
     "output_type": "stream",
     "text": [
      "/tmp/ipykernel_196339/842541664.py:1: DtypeWarning: Columns (10) have mixed types. Specify dtype option on import or set low_memory=False.\n",
      "  movie_metadata = pd.read_csv('../data/movies_metadata.csv')\n"
     ]
    }
   ],
   "source": [
    "movie_metadata = pd.read_csv('../data/movies_metadata.csv')\n",
    "mpst_data = pd.read_csv('../data/mpst_full_data.csv')"
   ]
  },
  {
   "cell_type": "code",
   "execution_count": 3,
   "id": "1a345c21",
   "metadata": {
    "execution": {
     "iopub.execute_input": "2022-10-20T19:53:13.487947Z",
     "iopub.status.busy": "2022-10-20T19:53:13.486921Z",
     "iopub.status.idle": "2022-10-20T19:53:13.526989Z",
     "shell.execute_reply": "2022-10-20T19:53:13.525242Z",
     "shell.execute_reply.started": "2022-10-20T19:53:13.487898Z"
    }
   },
   "outputs": [
    {
     "data": {
      "text/html": [
       "<div>\n",
       "<style scoped>\n",
       "    .dataframe tbody tr th:only-of-type {\n",
       "        vertical-align: middle;\n",
       "    }\n",
       "\n",
       "    .dataframe tbody tr th {\n",
       "        vertical-align: top;\n",
       "    }\n",
       "\n",
       "    .dataframe thead th {\n",
       "        text-align: right;\n",
       "    }\n",
       "</style>\n",
       "<table border=\"1\" class=\"dataframe\">\n",
       "  <thead>\n",
       "    <tr style=\"text-align: right;\">\n",
       "      <th></th>\n",
       "      <th>adult</th>\n",
       "      <th>belongs_to_collection</th>\n",
       "      <th>budget</th>\n",
       "      <th>genres</th>\n",
       "      <th>homepage</th>\n",
       "      <th>id</th>\n",
       "      <th>imdb_id</th>\n",
       "      <th>original_language</th>\n",
       "      <th>original_title</th>\n",
       "      <th>overview</th>\n",
       "      <th>...</th>\n",
       "      <th>release_date</th>\n",
       "      <th>revenue</th>\n",
       "      <th>runtime</th>\n",
       "      <th>spoken_languages</th>\n",
       "      <th>status</th>\n",
       "      <th>tagline</th>\n",
       "      <th>title</th>\n",
       "      <th>video</th>\n",
       "      <th>vote_average</th>\n",
       "      <th>vote_count</th>\n",
       "    </tr>\n",
       "  </thead>\n",
       "  <tbody>\n",
       "    <tr>\n",
       "      <th>0</th>\n",
       "      <td>False</td>\n",
       "      <td>{'id': 10194, 'name': 'Toy Story Collection', ...</td>\n",
       "      <td>30000000</td>\n",
       "      <td>[{'id': 16, 'name': 'Animation'}, {'id': 35, '...</td>\n",
       "      <td>http://toystory.disney.com/toy-story</td>\n",
       "      <td>862</td>\n",
       "      <td>tt0114709</td>\n",
       "      <td>en</td>\n",
       "      <td>Toy Story</td>\n",
       "      <td>Led by Woody, Andy's toys live happily in his ...</td>\n",
       "      <td>...</td>\n",
       "      <td>1995-10-30</td>\n",
       "      <td>373554033.0</td>\n",
       "      <td>81.0</td>\n",
       "      <td>[{'iso_639_1': 'en', 'name': 'English'}]</td>\n",
       "      <td>Released</td>\n",
       "      <td>NaN</td>\n",
       "      <td>Toy Story</td>\n",
       "      <td>False</td>\n",
       "      <td>7.7</td>\n",
       "      <td>5415.0</td>\n",
       "    </tr>\n",
       "    <tr>\n",
       "      <th>1</th>\n",
       "      <td>False</td>\n",
       "      <td>NaN</td>\n",
       "      <td>65000000</td>\n",
       "      <td>[{'id': 12, 'name': 'Adventure'}, {'id': 14, '...</td>\n",
       "      <td>NaN</td>\n",
       "      <td>8844</td>\n",
       "      <td>tt0113497</td>\n",
       "      <td>en</td>\n",
       "      <td>Jumanji</td>\n",
       "      <td>When siblings Judy and Peter discover an encha...</td>\n",
       "      <td>...</td>\n",
       "      <td>1995-12-15</td>\n",
       "      <td>262797249.0</td>\n",
       "      <td>104.0</td>\n",
       "      <td>[{'iso_639_1': 'en', 'name': 'English'}, {'iso...</td>\n",
       "      <td>Released</td>\n",
       "      <td>Roll the dice and unleash the excitement!</td>\n",
       "      <td>Jumanji</td>\n",
       "      <td>False</td>\n",
       "      <td>6.9</td>\n",
       "      <td>2413.0</td>\n",
       "    </tr>\n",
       "    <tr>\n",
       "      <th>2</th>\n",
       "      <td>False</td>\n",
       "      <td>{'id': 119050, 'name': 'Grumpy Old Men Collect...</td>\n",
       "      <td>0</td>\n",
       "      <td>[{'id': 10749, 'name': 'Romance'}, {'id': 35, ...</td>\n",
       "      <td>NaN</td>\n",
       "      <td>15602</td>\n",
       "      <td>tt0113228</td>\n",
       "      <td>en</td>\n",
       "      <td>Grumpier Old Men</td>\n",
       "      <td>A family wedding reignites the ancient feud be...</td>\n",
       "      <td>...</td>\n",
       "      <td>1995-12-22</td>\n",
       "      <td>0.0</td>\n",
       "      <td>101.0</td>\n",
       "      <td>[{'iso_639_1': 'en', 'name': 'English'}]</td>\n",
       "      <td>Released</td>\n",
       "      <td>Still Yelling. Still Fighting. Still Ready for...</td>\n",
       "      <td>Grumpier Old Men</td>\n",
       "      <td>False</td>\n",
       "      <td>6.5</td>\n",
       "      <td>92.0</td>\n",
       "    </tr>\n",
       "    <tr>\n",
       "      <th>3</th>\n",
       "      <td>False</td>\n",
       "      <td>NaN</td>\n",
       "      <td>16000000</td>\n",
       "      <td>[{'id': 35, 'name': 'Comedy'}, {'id': 18, 'nam...</td>\n",
       "      <td>NaN</td>\n",
       "      <td>31357</td>\n",
       "      <td>tt0114885</td>\n",
       "      <td>en</td>\n",
       "      <td>Waiting to Exhale</td>\n",
       "      <td>Cheated on, mistreated and stepped on, the wom...</td>\n",
       "      <td>...</td>\n",
       "      <td>1995-12-22</td>\n",
       "      <td>81452156.0</td>\n",
       "      <td>127.0</td>\n",
       "      <td>[{'iso_639_1': 'en', 'name': 'English'}]</td>\n",
       "      <td>Released</td>\n",
       "      <td>Friends are the people who let you be yourself...</td>\n",
       "      <td>Waiting to Exhale</td>\n",
       "      <td>False</td>\n",
       "      <td>6.1</td>\n",
       "      <td>34.0</td>\n",
       "    </tr>\n",
       "    <tr>\n",
       "      <th>4</th>\n",
       "      <td>False</td>\n",
       "      <td>{'id': 96871, 'name': 'Father of the Bride Col...</td>\n",
       "      <td>0</td>\n",
       "      <td>[{'id': 35, 'name': 'Comedy'}]</td>\n",
       "      <td>NaN</td>\n",
       "      <td>11862</td>\n",
       "      <td>tt0113041</td>\n",
       "      <td>en</td>\n",
       "      <td>Father of the Bride Part II</td>\n",
       "      <td>Just when George Banks has recovered from his ...</td>\n",
       "      <td>...</td>\n",
       "      <td>1995-02-10</td>\n",
       "      <td>76578911.0</td>\n",
       "      <td>106.0</td>\n",
       "      <td>[{'iso_639_1': 'en', 'name': 'English'}]</td>\n",
       "      <td>Released</td>\n",
       "      <td>Just When His World Is Back To Normal... He's ...</td>\n",
       "      <td>Father of the Bride Part II</td>\n",
       "      <td>False</td>\n",
       "      <td>5.7</td>\n",
       "      <td>173.0</td>\n",
       "    </tr>\n",
       "  </tbody>\n",
       "</table>\n",
       "<p>5 rows × 24 columns</p>\n",
       "</div>"
      ],
      "text/plain": [
       "   adult                              belongs_to_collection    budget  \\\n",
       "0  False  {'id': 10194, 'name': 'Toy Story Collection', ...  30000000   \n",
       "1  False                                                NaN  65000000   \n",
       "2  False  {'id': 119050, 'name': 'Grumpy Old Men Collect...         0   \n",
       "3  False                                                NaN  16000000   \n",
       "4  False  {'id': 96871, 'name': 'Father of the Bride Col...         0   \n",
       "\n",
       "                                              genres  \\\n",
       "0  [{'id': 16, 'name': 'Animation'}, {'id': 35, '...   \n",
       "1  [{'id': 12, 'name': 'Adventure'}, {'id': 14, '...   \n",
       "2  [{'id': 10749, 'name': 'Romance'}, {'id': 35, ...   \n",
       "3  [{'id': 35, 'name': 'Comedy'}, {'id': 18, 'nam...   \n",
       "4                     [{'id': 35, 'name': 'Comedy'}]   \n",
       "\n",
       "                               homepage     id    imdb_id original_language  \\\n",
       "0  http://toystory.disney.com/toy-story    862  tt0114709                en   \n",
       "1                                   NaN   8844  tt0113497                en   \n",
       "2                                   NaN  15602  tt0113228                en   \n",
       "3                                   NaN  31357  tt0114885                en   \n",
       "4                                   NaN  11862  tt0113041                en   \n",
       "\n",
       "                original_title  \\\n",
       "0                    Toy Story   \n",
       "1                      Jumanji   \n",
       "2             Grumpier Old Men   \n",
       "3            Waiting to Exhale   \n",
       "4  Father of the Bride Part II   \n",
       "\n",
       "                                            overview  ... release_date  \\\n",
       "0  Led by Woody, Andy's toys live happily in his ...  ...   1995-10-30   \n",
       "1  When siblings Judy and Peter discover an encha...  ...   1995-12-15   \n",
       "2  A family wedding reignites the ancient feud be...  ...   1995-12-22   \n",
       "3  Cheated on, mistreated and stepped on, the wom...  ...   1995-12-22   \n",
       "4  Just when George Banks has recovered from his ...  ...   1995-02-10   \n",
       "\n",
       "       revenue runtime                                   spoken_languages  \\\n",
       "0  373554033.0    81.0           [{'iso_639_1': 'en', 'name': 'English'}]   \n",
       "1  262797249.0   104.0  [{'iso_639_1': 'en', 'name': 'English'}, {'iso...   \n",
       "2          0.0   101.0           [{'iso_639_1': 'en', 'name': 'English'}]   \n",
       "3   81452156.0   127.0           [{'iso_639_1': 'en', 'name': 'English'}]   \n",
       "4   76578911.0   106.0           [{'iso_639_1': 'en', 'name': 'English'}]   \n",
       "\n",
       "     status                                            tagline  \\\n",
       "0  Released                                                NaN   \n",
       "1  Released          Roll the dice and unleash the excitement!   \n",
       "2  Released  Still Yelling. Still Fighting. Still Ready for...   \n",
       "3  Released  Friends are the people who let you be yourself...   \n",
       "4  Released  Just When His World Is Back To Normal... He's ...   \n",
       "\n",
       "                         title  video vote_average vote_count  \n",
       "0                    Toy Story  False          7.7     5415.0  \n",
       "1                      Jumanji  False          6.9     2413.0  \n",
       "2             Grumpier Old Men  False          6.5       92.0  \n",
       "3            Waiting to Exhale  False          6.1       34.0  \n",
       "4  Father of the Bride Part II  False          5.7      173.0  \n",
       "\n",
       "[5 rows x 24 columns]"
      ]
     },
     "execution_count": 3,
     "metadata": {},
     "output_type": "execute_result"
    }
   ],
   "source": [
    "movie_metadata.head()"
   ]
  },
  {
   "cell_type": "code",
   "execution_count": 4,
   "id": "45455c94",
   "metadata": {
    "execution": {
     "iopub.execute_input": "2022-10-20T19:53:13.531944Z",
     "iopub.status.busy": "2022-10-20T19:53:13.531549Z",
     "iopub.status.idle": "2022-10-20T19:53:13.549002Z",
     "shell.execute_reply": "2022-10-20T19:53:13.547266Z",
     "shell.execute_reply.started": "2022-10-20T19:53:13.531908Z"
    }
   },
   "outputs": [
    {
     "data": {
      "text/html": [
       "<div>\n",
       "<style scoped>\n",
       "    .dataframe tbody tr th:only-of-type {\n",
       "        vertical-align: middle;\n",
       "    }\n",
       "\n",
       "    .dataframe tbody tr th {\n",
       "        vertical-align: top;\n",
       "    }\n",
       "\n",
       "    .dataframe thead th {\n",
       "        text-align: right;\n",
       "    }\n",
       "</style>\n",
       "<table border=\"1\" class=\"dataframe\">\n",
       "  <thead>\n",
       "    <tr style=\"text-align: right;\">\n",
       "      <th></th>\n",
       "      <th>imdb_id</th>\n",
       "      <th>title</th>\n",
       "      <th>plot_synopsis</th>\n",
       "      <th>tags</th>\n",
       "      <th>split</th>\n",
       "      <th>synopsis_source</th>\n",
       "    </tr>\n",
       "  </thead>\n",
       "  <tbody>\n",
       "    <tr>\n",
       "      <th>0</th>\n",
       "      <td>tt0057603</td>\n",
       "      <td>I tre volti della paura</td>\n",
       "      <td>Note: this synopsis is for the orginal Italian...</td>\n",
       "      <td>cult, horror, gothic, murder, atmospheric</td>\n",
       "      <td>train</td>\n",
       "      <td>imdb</td>\n",
       "    </tr>\n",
       "    <tr>\n",
       "      <th>1</th>\n",
       "      <td>tt1733125</td>\n",
       "      <td>Dungeons &amp; Dragons: The Book of Vile Darkness</td>\n",
       "      <td>Two thousand years ago, Nhagruul the Foul, a s...</td>\n",
       "      <td>violence</td>\n",
       "      <td>train</td>\n",
       "      <td>imdb</td>\n",
       "    </tr>\n",
       "    <tr>\n",
       "      <th>2</th>\n",
       "      <td>tt0033045</td>\n",
       "      <td>The Shop Around the Corner</td>\n",
       "      <td>Matuschek's, a gift store in Budapest, is the ...</td>\n",
       "      <td>romantic</td>\n",
       "      <td>test</td>\n",
       "      <td>imdb</td>\n",
       "    </tr>\n",
       "    <tr>\n",
       "      <th>3</th>\n",
       "      <td>tt0113862</td>\n",
       "      <td>Mr. Holland's Opus</td>\n",
       "      <td>Glenn Holland, not a morning person by anyone'...</td>\n",
       "      <td>inspiring, romantic, stupid, feel-good</td>\n",
       "      <td>train</td>\n",
       "      <td>imdb</td>\n",
       "    </tr>\n",
       "    <tr>\n",
       "      <th>4</th>\n",
       "      <td>tt0086250</td>\n",
       "      <td>Scarface</td>\n",
       "      <td>In May 1980, a Cuban man named Tony Montana (A...</td>\n",
       "      <td>cruelty, murder, dramatic, cult, violence, atm...</td>\n",
       "      <td>val</td>\n",
       "      <td>imdb</td>\n",
       "    </tr>\n",
       "  </tbody>\n",
       "</table>\n",
       "</div>"
      ],
      "text/plain": [
       "     imdb_id                                          title  \\\n",
       "0  tt0057603                        I tre volti della paura   \n",
       "1  tt1733125  Dungeons & Dragons: The Book of Vile Darkness   \n",
       "2  tt0033045                     The Shop Around the Corner   \n",
       "3  tt0113862                             Mr. Holland's Opus   \n",
       "4  tt0086250                                       Scarface   \n",
       "\n",
       "                                       plot_synopsis  \\\n",
       "0  Note: this synopsis is for the orginal Italian...   \n",
       "1  Two thousand years ago, Nhagruul the Foul, a s...   \n",
       "2  Matuschek's, a gift store in Budapest, is the ...   \n",
       "3  Glenn Holland, not a morning person by anyone'...   \n",
       "4  In May 1980, a Cuban man named Tony Montana (A...   \n",
       "\n",
       "                                                tags  split synopsis_source  \n",
       "0          cult, horror, gothic, murder, atmospheric  train            imdb  \n",
       "1                                           violence  train            imdb  \n",
       "2                                           romantic   test            imdb  \n",
       "3             inspiring, romantic, stupid, feel-good  train            imdb  \n",
       "4  cruelty, murder, dramatic, cult, violence, atm...    val            imdb  "
      ]
     },
     "execution_count": 4,
     "metadata": {},
     "output_type": "execute_result"
    }
   ],
   "source": [
    "mpst_data.head()"
   ]
  },
  {
   "cell_type": "markdown",
   "id": "7166eb8f",
   "metadata": {},
   "source": [
    "### Merging both mpst and movies_metadata files based on imdb_id to get our final dataset"
   ]
  },
  {
   "cell_type": "code",
   "execution_count": 5,
   "id": "df64dd56",
   "metadata": {
    "execution": {
     "iopub.execute_input": "2022-10-20T19:53:13.550738Z",
     "iopub.status.busy": "2022-10-20T19:53:13.550381Z",
     "iopub.status.idle": "2022-10-20T19:53:13.618387Z",
     "shell.execute_reply": "2022-10-20T19:53:13.616731Z",
     "shell.execute_reply.started": "2022-10-20T19:53:13.550706Z"
    }
   },
   "outputs": [
    {
     "data": {
      "text/plain": [
       "(11387, 29)"
      ]
     },
     "execution_count": 5,
     "metadata": {},
     "output_type": "execute_result"
    }
   ],
   "source": [
    "dataset = pd.merge(movie_metadata , mpst_data, on='imdb_id')\n",
    "dataset.shape"
   ]
  },
  {
   "cell_type": "code",
   "execution_count": 6,
   "id": "8f9cc37e",
   "metadata": {
    "execution": {
     "iopub.execute_input": "2022-10-20T19:53:13.620992Z",
     "iopub.status.busy": "2022-10-20T19:53:13.620459Z",
     "iopub.status.idle": "2022-10-20T19:53:13.630244Z",
     "shell.execute_reply": "2022-10-20T19:53:13.628903Z",
     "shell.execute_reply.started": "2022-10-20T19:53:13.620912Z"
    }
   },
   "outputs": [
    {
     "data": {
      "text/plain": [
       "Index(['adult', 'belongs_to_collection', 'budget', 'genres', 'homepage', 'id',\n",
       "       'imdb_id', 'original_language', 'original_title', 'overview',\n",
       "       'popularity', 'poster_path', 'production_companies',\n",
       "       'production_countries', 'release_date', 'revenue', 'runtime',\n",
       "       'spoken_languages', 'status', 'tagline', 'title_x', 'video',\n",
       "       'vote_average', 'vote_count', 'title_y', 'plot_synopsis', 'tags',\n",
       "       'split', 'synopsis_source'],\n",
       "      dtype='object')"
      ]
     },
     "execution_count": 6,
     "metadata": {},
     "output_type": "execute_result"
    }
   ],
   "source": [
    "dataset.columns"
   ]
  },
  {
   "cell_type": "markdown",
   "id": "94bd5549",
   "metadata": {},
   "source": [
    "### Extracting important columns from the dataset"
   ]
  },
  {
   "cell_type": "code",
   "execution_count": 7,
   "id": "3f1907db",
   "metadata": {
    "execution": {
     "iopub.execute_input": "2022-10-20T19:53:13.632380Z",
     "iopub.status.busy": "2022-10-20T19:53:13.631786Z",
     "iopub.status.idle": "2022-10-20T19:53:13.683570Z",
     "shell.execute_reply": "2022-10-20T19:53:13.682492Z",
     "shell.execute_reply.started": "2022-10-20T19:53:13.632335Z"
    }
   },
   "outputs": [
    {
     "data": {
      "text/html": [
       "<div>\n",
       "<style scoped>\n",
       "    .dataframe tbody tr th:only-of-type {\n",
       "        vertical-align: middle;\n",
       "    }\n",
       "\n",
       "    .dataframe tbody tr th {\n",
       "        vertical-align: top;\n",
       "    }\n",
       "\n",
       "    .dataframe thead th {\n",
       "        text-align: right;\n",
       "    }\n",
       "</style>\n",
       "<table border=\"1\" class=\"dataframe\">\n",
       "  <thead>\n",
       "    <tr style=\"text-align: right;\">\n",
       "      <th></th>\n",
       "      <th>tagline</th>\n",
       "      <th>plot_synopsis</th>\n",
       "      <th>overview</th>\n",
       "    </tr>\n",
       "  </thead>\n",
       "  <tbody>\n",
       "    <tr>\n",
       "      <th>0</th>\n",
       "      <td>NaN</td>\n",
       "      <td>A boy called Andy Davis (voice: John Morris) u...</td>\n",
       "      <td>Led by Woody, Andy's toys live happily in his ...</td>\n",
       "    </tr>\n",
       "    <tr>\n",
       "      <th>1</th>\n",
       "      <td>Roll the dice and unleash the excitement!</td>\n",
       "      <td>The film begins in 1869 in the town of Brantfo...</td>\n",
       "      <td>When siblings Judy and Peter discover an encha...</td>\n",
       "    </tr>\n",
       "    <tr>\n",
       "      <th>2</th>\n",
       "      <td>Still Yelling. Still Fighting. Still Ready for...</td>\n",
       "      <td>The feud between Max (Walter Matthau) and John...</td>\n",
       "      <td>A family wedding reignites the ancient feud be...</td>\n",
       "    </tr>\n",
       "    <tr>\n",
       "      <th>3</th>\n",
       "      <td>Friends are the people who let you be yourself...</td>\n",
       "      <td>\"Friends are the People who let you be yoursel...</td>\n",
       "      <td>Cheated on, mistreated and stepped on, the wom...</td>\n",
       "    </tr>\n",
       "    <tr>\n",
       "      <th>4</th>\n",
       "      <td>Just When His World Is Back To Normal... He's ...</td>\n",
       "      <td>The film begins five years after the events of...</td>\n",
       "      <td>Just when George Banks has recovered from his ...</td>\n",
       "    </tr>\n",
       "    <tr>\n",
       "      <th>...</th>\n",
       "      <td>...</td>\n",
       "      <td>...</td>\n",
       "      <td>...</td>\n",
       "    </tr>\n",
       "    <tr>\n",
       "      <th>11382</th>\n",
       "      <td>When Night Falls, the Adventure Begins!</td>\n",
       "      <td>The story starts at a harem in Persia, where t...</td>\n",
       "      <td>Scheherezade puts herself in danger to save Su...</td>\n",
       "    </tr>\n",
       "    <tr>\n",
       "      <th>11383</th>\n",
       "      <td>Notorius Scandalous Unforgettable</td>\n",
       "      <td>Moll is born in Newgate to a convict woman, wh...</td>\n",
       "      <td>In her filthy cell in Newgate prison Moll Flan...</td>\n",
       "    </tr>\n",
       "    <tr>\n",
       "      <th>11384</th>\n",
       "      <td>Meet...The CREEPER!</td>\n",
       "      <td>Struggling sculptor, Marcel De Lange (Martin K...</td>\n",
       "      <td>An unsuccessful sculptor saves a madman named ...</td>\n",
       "    </tr>\n",
       "    <tr>\n",
       "      <th>11385</th>\n",
       "      <td>NaN</td>\n",
       "      <td>Alan-a-Dale introduces the story of Robin Hood...</td>\n",
       "      <td>Yet another version of the classic epic, with ...</td>\n",
       "    </tr>\n",
       "    <tr>\n",
       "      <th>11386</th>\n",
       "      <td>A deadly game of wits.</td>\n",
       "      <td>This episode presents a backwards narrative, b...</td>\n",
       "      <td>When one of her hits goes wrong, a professiona...</td>\n",
       "    </tr>\n",
       "  </tbody>\n",
       "</table>\n",
       "<p>11387 rows × 3 columns</p>\n",
       "</div>"
      ],
      "text/plain": [
       "                                                 tagline  \\\n",
       "0                                                    NaN   \n",
       "1              Roll the dice and unleash the excitement!   \n",
       "2      Still Yelling. Still Fighting. Still Ready for...   \n",
       "3      Friends are the people who let you be yourself...   \n",
       "4      Just When His World Is Back To Normal... He's ...   \n",
       "...                                                  ...   \n",
       "11382            When Night Falls, the Adventure Begins!   \n",
       "11383                  Notorius Scandalous Unforgettable   \n",
       "11384                                Meet...The CREEPER!   \n",
       "11385                                                NaN   \n",
       "11386                             A deadly game of wits.   \n",
       "\n",
       "                                           plot_synopsis  \\\n",
       "0      A boy called Andy Davis (voice: John Morris) u...   \n",
       "1      The film begins in 1869 in the town of Brantfo...   \n",
       "2      The feud between Max (Walter Matthau) and John...   \n",
       "3      \"Friends are the People who let you be yoursel...   \n",
       "4      The film begins five years after the events of...   \n",
       "...                                                  ...   \n",
       "11382  The story starts at a harem in Persia, where t...   \n",
       "11383  Moll is born in Newgate to a convict woman, wh...   \n",
       "11384  Struggling sculptor, Marcel De Lange (Martin K...   \n",
       "11385  Alan-a-Dale introduces the story of Robin Hood...   \n",
       "11386  This episode presents a backwards narrative, b...   \n",
       "\n",
       "                                                overview  \n",
       "0      Led by Woody, Andy's toys live happily in his ...  \n",
       "1      When siblings Judy and Peter discover an encha...  \n",
       "2      A family wedding reignites the ancient feud be...  \n",
       "3      Cheated on, mistreated and stepped on, the wom...  \n",
       "4      Just when George Banks has recovered from his ...  \n",
       "...                                                  ...  \n",
       "11382  Scheherezade puts herself in danger to save Su...  \n",
       "11383  In her filthy cell in Newgate prison Moll Flan...  \n",
       "11384  An unsuccessful sculptor saves a madman named ...  \n",
       "11385  Yet another version of the classic epic, with ...  \n",
       "11386  When one of her hits goes wrong, a professiona...  \n",
       "\n",
       "[11387 rows x 3 columns]"
      ]
     },
     "execution_count": 7,
     "metadata": {},
     "output_type": "execute_result"
    }
   ],
   "source": [
    "dataset = dataset[['tagline','plot_synopsis','overview']]\n",
    "dataset"
   ]
  },
  {
   "cell_type": "markdown",
   "id": "623494fa",
   "metadata": {},
   "source": [
    "### Generating the ProfileReport for the dataset"
   ]
  },
  {
   "cell_type": "code",
   "execution_count": 12,
   "id": "075ec686",
   "metadata": {
    "execution": {
     "iopub.execute_input": "2022-10-20T19:53:13.686282Z",
     "iopub.status.busy": "2022-10-20T19:53:13.684870Z",
     "iopub.status.idle": "2022-10-20T19:53:13.695310Z",
     "shell.execute_reply": "2022-10-20T19:53:13.693595Z",
     "shell.execute_reply.started": "2022-10-20T19:53:13.686238Z"
    }
   },
   "outputs": [],
   "source": [
    "profile = ProfileReport(dataset, title=\"Pandas Profiling Report\")"
   ]
  },
  {
   "cell_type": "code",
   "execution_count": 13,
   "id": "1648d568",
   "metadata": {
    "execution": {
     "iopub.execute_input": "2022-10-20T19:53:13.697297Z",
     "iopub.status.busy": "2022-10-20T19:53:13.696767Z",
     "iopub.status.idle": "2022-10-20T19:53:59.742301Z",
     "shell.execute_reply": "2022-10-20T19:53:59.740658Z",
     "shell.execute_reply.started": "2022-10-20T19:53:13.697247Z"
    }
   },
   "outputs": [
    {
     "name": "stderr",
     "output_type": "stream",
     "text": [
      "Summarize dataset: 100%|█████████████| 18/18 [00:28<00:00,  1.56s/it, Completed]\n",
      "Generate report structure: 100%|██████████████████| 1/1 [00:00<00:00,  1.04it/s]\n",
      "                                                                                \r"
     ]
    },
    {
     "ename": "ModuleNotFoundError",
     "evalue": "No module named 'ipywidgets'",
     "output_type": "error",
     "traceback": [
      "\u001b[0;31m---------------------------------------------------------------------------\u001b[0m",
      "\u001b[0;31mModuleNotFoundError\u001b[0m                       Traceback (most recent call last)",
      "Cell \u001b[0;32mIn [13], line 1\u001b[0m\n\u001b[0;32m----> 1\u001b[0m \u001b[43mprofile\u001b[49m\u001b[38;5;241;43m.\u001b[39;49m\u001b[43mto_widgets\u001b[49m\u001b[43m(\u001b[49m\u001b[43m)\u001b[49m\n",
      "File \u001b[0;32m~/.local/lib/python3.8/site-packages/pandas_profiling/profile_report.py:434\u001b[0m, in \u001b[0;36mProfileReport.to_widgets\u001b[0;34m(self)\u001b[0m\n\u001b[1;32m    430\u001b[0m     \u001b[38;5;28;01mpass\u001b[39;00m\n\u001b[1;32m    432\u001b[0m \u001b[38;5;28;01mfrom\u001b[39;00m \u001b[38;5;21;01mIPython\u001b[39;00m\u001b[38;5;21;01m.\u001b[39;00m\u001b[38;5;21;01mcore\u001b[39;00m\u001b[38;5;21;01m.\u001b[39;00m\u001b[38;5;21;01mdisplay\u001b[39;00m \u001b[38;5;28;01mimport\u001b[39;00m display\n\u001b[0;32m--> 434\u001b[0m display(\u001b[38;5;28;43mself\u001b[39;49m\u001b[38;5;241;43m.\u001b[39;49m\u001b[43mwidgets\u001b[49m)\n",
      "File \u001b[0;32m~/.local/lib/python3.8/site-packages/pandas_profiling/profile_report.py:217\u001b[0m, in \u001b[0;36mProfileReport.widgets\u001b[0;34m(self)\u001b[0m\n\u001b[1;32m    214\u001b[0m \u001b[38;5;129m@property\u001b[39m\n\u001b[1;32m    215\u001b[0m \u001b[38;5;28;01mdef\u001b[39;00m \u001b[38;5;21mwidgets\u001b[39m(\u001b[38;5;28mself\u001b[39m) \u001b[38;5;241m-\u001b[39m\u001b[38;5;241m>\u001b[39m Renderable:\n\u001b[1;32m    216\u001b[0m     \u001b[38;5;28;01mif\u001b[39;00m \u001b[38;5;28mself\u001b[39m\u001b[38;5;241m.\u001b[39m_widgets \u001b[38;5;129;01mis\u001b[39;00m \u001b[38;5;28;01mNone\u001b[39;00m:\n\u001b[0;32m--> 217\u001b[0m         \u001b[38;5;28mself\u001b[39m\u001b[38;5;241m.\u001b[39m_widgets \u001b[38;5;241m=\u001b[39m \u001b[38;5;28;43mself\u001b[39;49m\u001b[38;5;241;43m.\u001b[39;49m\u001b[43m_render_widgets\u001b[49m\u001b[43m(\u001b[49m\u001b[43m)\u001b[49m\n\u001b[1;32m    218\u001b[0m     \u001b[38;5;28;01mreturn\u001b[39;00m \u001b[38;5;28mself\u001b[39m\u001b[38;5;241m.\u001b[39m_widgets\n",
      "File \u001b[0;32m~/.local/lib/python3.8/site-packages/pandas_profiling/profile_report.py:343\u001b[0m, in \u001b[0;36mProfileReport._render_widgets\u001b[0;34m(self)\u001b[0m\n\u001b[1;32m    335\u001b[0m report \u001b[38;5;241m=\u001b[39m \u001b[38;5;28mself\u001b[39m\u001b[38;5;241m.\u001b[39mreport\n\u001b[1;32m    337\u001b[0m \u001b[38;5;28;01mwith\u001b[39;00m tqdm(\n\u001b[1;32m    338\u001b[0m     total\u001b[38;5;241m=\u001b[39m\u001b[38;5;241m1\u001b[39m,\n\u001b[1;32m    339\u001b[0m     desc\u001b[38;5;241m=\u001b[39m\u001b[38;5;124m\"\u001b[39m\u001b[38;5;124mRender widgets\u001b[39m\u001b[38;5;124m\"\u001b[39m,\n\u001b[1;32m    340\u001b[0m     disable\u001b[38;5;241m=\u001b[39m\u001b[38;5;129;01mnot\u001b[39;00m \u001b[38;5;28mself\u001b[39m\u001b[38;5;241m.\u001b[39mconfig\u001b[38;5;241m.\u001b[39mprogress_bar,\n\u001b[1;32m    341\u001b[0m     leave\u001b[38;5;241m=\u001b[39m\u001b[38;5;28;01mFalse\u001b[39;00m,\n\u001b[1;32m    342\u001b[0m ) \u001b[38;5;28;01mas\u001b[39;00m pbar:\n\u001b[0;32m--> 343\u001b[0m     widgets \u001b[38;5;241m=\u001b[39m \u001b[43mWidgetReport\u001b[49m\u001b[43m(\u001b[49m\u001b[43mcopy\u001b[49m\u001b[38;5;241;43m.\u001b[39;49m\u001b[43mdeepcopy\u001b[49m\u001b[43m(\u001b[49m\u001b[43mreport\u001b[49m\u001b[43m)\u001b[49m\u001b[43m)\u001b[49m\u001b[38;5;241m.\u001b[39mrender()\n\u001b[1;32m    344\u001b[0m     pbar\u001b[38;5;241m.\u001b[39mupdate()\n\u001b[1;32m    345\u001b[0m \u001b[38;5;28;01mreturn\u001b[39;00m widgets\n",
      "File \u001b[0;32m~/.local/lib/python3.8/site-packages/pandas_profiling/report/presentation/flavours/flavours.py:139\u001b[0m, in \u001b[0;36mWidgetReport\u001b[0;34m(structure)\u001b[0m\n\u001b[1;32m    138\u001b[0m \u001b[38;5;28;01mdef\u001b[39;00m \u001b[38;5;21mWidgetReport\u001b[39m(structure: Root) \u001b[38;5;241m-\u001b[39m\u001b[38;5;241m>\u001b[39m Root:\n\u001b[0;32m--> 139\u001b[0m     mapping \u001b[38;5;241m=\u001b[39m \u001b[43mget_widget_renderable_mapping\u001b[49m\u001b[43m(\u001b[49m\u001b[43m)\u001b[49m\n\u001b[1;32m    140\u001b[0m     apply_renderable_mapping(mapping, structure, flavour\u001b[38;5;241m=\u001b[39mWidgetReport)\n\u001b[1;32m    141\u001b[0m     \u001b[38;5;28;01mreturn\u001b[39;00m structure\n",
      "File \u001b[0;32m~/.local/lib/python3.8/site-packages/pandas_profiling/report/presentation/flavours/flavours.py:103\u001b[0m, in \u001b[0;36mget_widget_renderable_mapping\u001b[0;34m()\u001b[0m\n\u001b[1;32m     86\u001b[0m \u001b[38;5;28;01mdef\u001b[39;00m \u001b[38;5;21mget_widget_renderable_mapping\u001b[39m() \u001b[38;5;241m-\u001b[39m\u001b[38;5;241m>\u001b[39m Dict[Type[Renderable], Type[Renderable]]:\n\u001b[1;32m     87\u001b[0m     \u001b[38;5;28;01mfrom\u001b[39;00m \u001b[38;5;21;01mpandas_profiling\u001b[39;00m\u001b[38;5;21;01m.\u001b[39;00m\u001b[38;5;21;01mreport\u001b[39;00m\u001b[38;5;21;01m.\u001b[39;00m\u001b[38;5;21;01mpresentation\u001b[39;00m\u001b[38;5;21;01m.\u001b[39;00m\u001b[38;5;21;01mcore\u001b[39;00m \u001b[38;5;28;01mimport\u001b[39;00m (\n\u001b[1;32m     88\u001b[0m         HTML,\n\u001b[1;32m     89\u001b[0m         Alerts,\n\u001b[0;32m   (...)\u001b[0m\n\u001b[1;32m    101\u001b[0m         VariableInfo,\n\u001b[1;32m    102\u001b[0m     )\n\u001b[0;32m--> 103\u001b[0m     \u001b[38;5;28;01mfrom\u001b[39;00m \u001b[38;5;21;01mpandas_profiling\u001b[39;00m\u001b[38;5;21;01m.\u001b[39;00m\u001b[38;5;21;01mreport\u001b[39;00m\u001b[38;5;21;01m.\u001b[39;00m\u001b[38;5;21;01mpresentation\u001b[39;00m\u001b[38;5;21;01m.\u001b[39;00m\u001b[38;5;21;01mflavours\u001b[39;00m\u001b[38;5;21;01m.\u001b[39;00m\u001b[38;5;21;01mwidget\u001b[39;00m \u001b[38;5;28;01mimport\u001b[39;00m (\n\u001b[1;32m    104\u001b[0m         WidgetAlerts,\n\u001b[1;32m    105\u001b[0m         WidgetCollapse,\n\u001b[1;32m    106\u001b[0m         WidgetContainer,\n\u001b[1;32m    107\u001b[0m         WidgetDuplicate,\n\u001b[1;32m    108\u001b[0m         WidgetFrequencyTable,\n\u001b[1;32m    109\u001b[0m         WidgetFrequencyTableSmall,\n\u001b[1;32m    110\u001b[0m         WidgetHTML,\n\u001b[1;32m    111\u001b[0m         WidgetImage,\n\u001b[1;32m    112\u001b[0m         WidgetRoot,\n\u001b[1;32m    113\u001b[0m         WidgetSample,\n\u001b[1;32m    114\u001b[0m         WidgetTable,\n\u001b[1;32m    115\u001b[0m         WidgetToggleButton,\n\u001b[1;32m    116\u001b[0m         WidgetVariable,\n\u001b[1;32m    117\u001b[0m         WidgetVariableInfo,\n\u001b[1;32m    118\u001b[0m     )\n\u001b[1;32m    120\u001b[0m     \u001b[38;5;28;01mreturn\u001b[39;00m {\n\u001b[1;32m    121\u001b[0m         Container: WidgetContainer,\n\u001b[1;32m    122\u001b[0m         Variable: WidgetVariable,\n\u001b[0;32m   (...)\u001b[0m\n\u001b[1;32m    134\u001b[0m         Collapse: WidgetCollapse,\n\u001b[1;32m    135\u001b[0m     }\n",
      "File \u001b[0;32m~/.local/lib/python3.8/site-packages/pandas_profiling/report/presentation/flavours/widget/__init__.py:1\u001b[0m\n\u001b[0;32m----> 1\u001b[0m \u001b[38;5;28;01mfrom\u001b[39;00m \u001b[38;5;21;01mpandas_profiling\u001b[39;00m\u001b[38;5;21;01m.\u001b[39;00m\u001b[38;5;21;01mreport\u001b[39;00m\u001b[38;5;21;01m.\u001b[39;00m\u001b[38;5;21;01mpresentation\u001b[39;00m\u001b[38;5;21;01m.\u001b[39;00m\u001b[38;5;21;01mflavours\u001b[39;00m\u001b[38;5;21;01m.\u001b[39;00m\u001b[38;5;21;01mwidget\u001b[39;00m\u001b[38;5;21;01m.\u001b[39;00m\u001b[38;5;21;01malerts\u001b[39;00m \u001b[38;5;28;01mimport\u001b[39;00m WidgetAlerts\n\u001b[1;32m      2\u001b[0m \u001b[38;5;28;01mfrom\u001b[39;00m \u001b[38;5;21;01mpandas_profiling\u001b[39;00m\u001b[38;5;21;01m.\u001b[39;00m\u001b[38;5;21;01mreport\u001b[39;00m\u001b[38;5;21;01m.\u001b[39;00m\u001b[38;5;21;01mpresentation\u001b[39;00m\u001b[38;5;21;01m.\u001b[39;00m\u001b[38;5;21;01mflavours\u001b[39;00m\u001b[38;5;21;01m.\u001b[39;00m\u001b[38;5;21;01mwidget\u001b[39;00m\u001b[38;5;21;01m.\u001b[39;00m\u001b[38;5;21;01mcollapse\u001b[39;00m \u001b[38;5;28;01mimport\u001b[39;00m WidgetCollapse\n\u001b[1;32m      3\u001b[0m \u001b[38;5;28;01mfrom\u001b[39;00m \u001b[38;5;21;01mpandas_profiling\u001b[39;00m\u001b[38;5;21;01m.\u001b[39;00m\u001b[38;5;21;01mreport\u001b[39;00m\u001b[38;5;21;01m.\u001b[39;00m\u001b[38;5;21;01mpresentation\u001b[39;00m\u001b[38;5;21;01m.\u001b[39;00m\u001b[38;5;21;01mflavours\u001b[39;00m\u001b[38;5;21;01m.\u001b[39;00m\u001b[38;5;21;01mwidget\u001b[39;00m\u001b[38;5;21;01m.\u001b[39;00m\u001b[38;5;21;01mcontainer\u001b[39;00m \u001b[38;5;28;01mimport\u001b[39;00m (\n\u001b[1;32m      4\u001b[0m     WidgetContainer,\n\u001b[1;32m      5\u001b[0m )\n",
      "File \u001b[0;32m~/.local/lib/python3.8/site-packages/pandas_profiling/report/presentation/flavours/widget/alerts.py:3\u001b[0m\n\u001b[1;32m      1\u001b[0m \u001b[38;5;28;01mfrom\u001b[39;00m \u001b[38;5;21;01mtyping\u001b[39;00m \u001b[38;5;28;01mimport\u001b[39;00m List\n\u001b[0;32m----> 3\u001b[0m \u001b[38;5;28;01mfrom\u001b[39;00m \u001b[38;5;21;01mipywidgets\u001b[39;00m \u001b[38;5;28;01mimport\u001b[39;00m HTML, Button, widgets\n\u001b[1;32m      5\u001b[0m \u001b[38;5;28;01mfrom\u001b[39;00m \u001b[38;5;21;01mpandas_profiling\u001b[39;00m\u001b[38;5;21;01m.\u001b[39;00m\u001b[38;5;21;01mreport\u001b[39;00m\u001b[38;5;21;01m.\u001b[39;00m\u001b[38;5;21;01mpresentation\u001b[39;00m\u001b[38;5;21;01m.\u001b[39;00m\u001b[38;5;21;01mcore\u001b[39;00m \u001b[38;5;28;01mimport\u001b[39;00m Alerts\n\u001b[1;32m      6\u001b[0m \u001b[38;5;28;01mfrom\u001b[39;00m \u001b[38;5;21;01mpandas_profiling\u001b[39;00m\u001b[38;5;21;01m.\u001b[39;00m\u001b[38;5;21;01mreport\u001b[39;00m\u001b[38;5;21;01m.\u001b[39;00m\u001b[38;5;21;01mpresentation\u001b[39;00m\u001b[38;5;21;01m.\u001b[39;00m\u001b[38;5;21;01mflavours\u001b[39;00m\u001b[38;5;21;01m.\u001b[39;00m\u001b[38;5;21;01mhtml\u001b[39;00m \u001b[38;5;28;01mimport\u001b[39;00m templates\n",
      "\u001b[0;31mModuleNotFoundError\u001b[0m: No module named 'ipywidgets'"
     ]
    }
   ],
   "source": [
    "profile.to_widgets()"
   ]
  },
  {
   "cell_type": "markdown",
   "id": "6ce5cd97",
   "metadata": {},
   "source": [
    "#### After analyzing the above results by Profile Report, it is observed that we have some rows which contains NULL values so, removing null values from the dataset."
   ]
  },
  {
   "cell_type": "code",
   "execution_count": null,
   "id": "4234e070",
   "metadata": {
    "execution": {
     "iopub.execute_input": "2022-10-20T19:53:59.744947Z",
     "iopub.status.busy": "2022-10-20T19:53:59.743923Z",
     "iopub.status.idle": "2022-10-20T19:53:59.773155Z",
     "shell.execute_reply": "2022-10-20T19:53:59.771254Z",
     "shell.execute_reply.started": "2022-10-20T19:53:59.744889Z"
    }
   },
   "outputs": [],
   "source": [
    "df = dataset.dropna(axis=0)\n",
    "df.shape"
   ]
  },
  {
   "cell_type": "markdown",
   "id": "ab4fee6a",
   "metadata": {},
   "source": [
    "#### Also, the dataset has duplicate entries so delete the duplicate entry by keep only first entry among the duplicate."
   ]
  },
  {
   "cell_type": "code",
   "execution_count": null,
   "id": "d59ded80",
   "metadata": {
    "execution": {
     "iopub.execute_input": "2022-10-20T19:53:59.775945Z",
     "iopub.status.busy": "2022-10-20T19:53:59.775426Z",
     "iopub.status.idle": "2022-10-20T19:53:59.944019Z",
     "shell.execute_reply": "2022-10-20T19:53:59.942707Z",
     "shell.execute_reply.started": "2022-10-20T19:53:59.775899Z"
    }
   },
   "outputs": [],
   "source": [
    "df.drop_duplicates(keep='first')\n",
    "df.shape"
   ]
  },
  {
   "cell_type": "markdown",
   "id": "fed3b0bc",
   "metadata": {},
   "source": [
    "### Analyzing the number of words in each columns of dataset"
   ]
  },
  {
   "cell_type": "code",
   "execution_count": null,
   "id": "eec4ad72",
   "metadata": {
    "execution": {
     "iopub.execute_input": "2022-10-20T19:53:59.946163Z",
     "iopub.status.busy": "2022-10-20T19:53:59.945753Z",
     "iopub.status.idle": "2022-10-20T19:54:00.687335Z",
     "shell.execute_reply": "2022-10-20T19:54:00.686219Z",
     "shell.execute_reply.started": "2022-10-20T19:53:59.946123Z"
    }
   },
   "outputs": [],
   "source": [
    "number_of_words_ps = df.plot_synopsis.apply(lambda x: len(x.split()))\n",
    "plt.hist(number_of_words_ps, bins=20 )\n",
    "plt.show()"
   ]
  },
  {
   "cell_type": "code",
   "execution_count": null,
   "id": "b276810c",
   "metadata": {
    "execution": {
     "iopub.execute_input": "2022-10-20T19:54:00.692561Z",
     "iopub.status.busy": "2022-10-20T19:54:00.691126Z",
     "iopub.status.idle": "2022-10-20T19:54:01.230360Z",
     "shell.execute_reply": "2022-10-20T19:54:01.228767Z",
     "shell.execute_reply.started": "2022-10-20T19:54:00.692505Z"
    }
   },
   "outputs": [],
   "source": [
    "number_of_words_ov = df.overview.apply(lambda x: len(x.split()))\n",
    "plt.hist(number_of_words_ov, bins=20 )\n",
    "plt.show()"
   ]
  },
  {
   "cell_type": "code",
   "execution_count": null,
   "id": "2f3336db",
   "metadata": {
    "execution": {
     "iopub.execute_input": "2022-10-20T19:54:01.233100Z",
     "iopub.status.busy": "2022-10-20T19:54:01.232656Z",
     "iopub.status.idle": "2022-10-20T19:54:01.497016Z",
     "shell.execute_reply": "2022-10-20T19:54:01.495395Z",
     "shell.execute_reply.started": "2022-10-20T19:54:01.233062Z"
    }
   },
   "outputs": [],
   "source": [
    "number_of_words_tl = df.tagline.apply(lambda x: len(x.split()))\n",
    "plt.hist(number_of_words_tl, bins=20 )\n",
    "plt.show()"
   ]
  },
  {
   "cell_type": "markdown",
   "id": "826b0605",
   "metadata": {},
   "source": [
    "#### From the above three graphs we can observe that all the 3 variables we are taking for further implementation are uniformely distributed with very few outlier."
   ]
  },
  {
   "cell_type": "markdown",
   "id": "05e04d8a",
   "metadata": {},
   "source": [
    "#### So, finally we got 8359 entries which are valid, saving the dataframe into a csv file so that the dataset can be used for further implementation."
   ]
  },
  {
   "cell_type": "code",
   "execution_count": null,
   "id": "bed80923",
   "metadata": {
    "execution": {
     "iopub.execute_input": "2022-10-20T19:54:01.500205Z",
     "iopub.status.busy": "2022-10-20T19:54:01.499163Z",
     "iopub.status.idle": "2022-10-20T19:54:02.602521Z",
     "shell.execute_reply": "2022-10-20T19:54:02.601456Z",
     "shell.execute_reply.started": "2022-10-20T19:54:01.500152Z"
    }
   },
   "outputs": [],
   "source": [
    "df.to_csv('../data/dataset_clean.csv')"
   ]
  }
 ],
 "metadata": {
  "kernelspec": {
   "display_name": "Python 3 (ipykernel)",
   "language": "python",
   "name": "python3"
  },
  "language_info": {
   "codemirror_mode": {
    "name": "ipython",
    "version": 3
   },
   "file_extension": ".py",
   "mimetype": "text/x-python",
   "name": "python",
   "nbconvert_exporter": "python",
   "pygments_lexer": "ipython3",
   "version": "3.8.10"
  }
 },
 "nbformat": 4,
 "nbformat_minor": 5
}
