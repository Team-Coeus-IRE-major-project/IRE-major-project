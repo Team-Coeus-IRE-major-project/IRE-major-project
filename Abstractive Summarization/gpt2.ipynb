{
  "nbformat": 4,
  "nbformat_minor": 0,
  "metadata": {
    "colab": {
      "provenance": []
    },
    "kernelspec": {
      "name": "python3",
      "display_name": "Python 3"
    },
    "language_info": {
      "name": "python"
    },
    "accelerator": "GPU",
    "gpuClass": "standard"
  },
  "cells": [
    {
      "cell_type": "code",
      "execution_count": 1,
      "metadata": {
        "colab": {
          "base_uri": "https://localhost:8080/"
        },
        "id": "kw4tq45sVbCa",
        "outputId": "be50f74c-f290-45ef-9740-8aff4653dc07"
      },
      "outputs": [
        {
          "output_type": "stream",
          "name": "stdout",
          "text": [
            "Looking in indexes: https://pypi.org/simple, https://us-python.pkg.dev/colab-wheels/public/simple/\n",
            "Collecting gpt-2-simple\n",
            "  Downloading gpt_2_simple-0.8.1.tar.gz (26 kB)\n",
            "Requirement already satisfied: tqdm in /usr/local/lib/python3.7/dist-packages (4.64.1)\n",
            "Requirement already satisfied: tensorflow>=2.5.1 in /usr/local/lib/python3.7/dist-packages (from gpt-2-simple) (2.9.2)\n",
            "Requirement already satisfied: regex in /usr/local/lib/python3.7/dist-packages (from gpt-2-simple) (2022.6.2)\n",
            "Requirement already satisfied: requests in /usr/local/lib/python3.7/dist-packages (from gpt-2-simple) (2.23.0)\n",
            "Requirement already satisfied: numpy in /usr/local/lib/python3.7/dist-packages (from gpt-2-simple) (1.21.6)\n",
            "Collecting toposort\n",
            "  Downloading toposort-1.7-py2.py3-none-any.whl (9.0 kB)\n",
            "Requirement already satisfied: grpcio<2.0,>=1.24.3 in /usr/local/lib/python3.7/dist-packages (from tensorflow>=2.5.1->gpt-2-simple) (1.50.0)\n",
            "Requirement already satisfied: packaging in /usr/local/lib/python3.7/dist-packages (from tensorflow>=2.5.1->gpt-2-simple) (21.3)\n",
            "Requirement already satisfied: typing-extensions>=3.6.6 in /usr/local/lib/python3.7/dist-packages (from tensorflow>=2.5.1->gpt-2-simple) (4.1.1)\n",
            "Requirement already satisfied: keras<2.10.0,>=2.9.0rc0 in /usr/local/lib/python3.7/dist-packages (from tensorflow>=2.5.1->gpt-2-simple) (2.9.0)\n",
            "Requirement already satisfied: protobuf<3.20,>=3.9.2 in /usr/local/lib/python3.7/dist-packages (from tensorflow>=2.5.1->gpt-2-simple) (3.19.6)\n",
            "Requirement already satisfied: tensorflow-estimator<2.10.0,>=2.9.0rc0 in /usr/local/lib/python3.7/dist-packages (from tensorflow>=2.5.1->gpt-2-simple) (2.9.0)\n",
            "Requirement already satisfied: tensorflow-io-gcs-filesystem>=0.23.1 in /usr/local/lib/python3.7/dist-packages (from tensorflow>=2.5.1->gpt-2-simple) (0.27.0)\n",
            "Requirement already satisfied: astunparse>=1.6.0 in /usr/local/lib/python3.7/dist-packages (from tensorflow>=2.5.1->gpt-2-simple) (1.6.3)\n",
            "Requirement already satisfied: absl-py>=1.0.0 in /usr/local/lib/python3.7/dist-packages (from tensorflow>=2.5.1->gpt-2-simple) (1.3.0)\n",
            "Requirement already satisfied: flatbuffers<2,>=1.12 in /usr/local/lib/python3.7/dist-packages (from tensorflow>=2.5.1->gpt-2-simple) (1.12)\n",
            "Requirement already satisfied: libclang>=13.0.0 in /usr/local/lib/python3.7/dist-packages (from tensorflow>=2.5.1->gpt-2-simple) (14.0.6)\n",
            "Requirement already satisfied: termcolor>=1.1.0 in /usr/local/lib/python3.7/dist-packages (from tensorflow>=2.5.1->gpt-2-simple) (2.1.0)\n",
            "Requirement already satisfied: tensorboard<2.10,>=2.9 in /usr/local/lib/python3.7/dist-packages (from tensorflow>=2.5.1->gpt-2-simple) (2.9.1)\n",
            "Requirement already satisfied: six>=1.12.0 in /usr/local/lib/python3.7/dist-packages (from tensorflow>=2.5.1->gpt-2-simple) (1.15.0)\n",
            "Requirement already satisfied: setuptools in /usr/local/lib/python3.7/dist-packages (from tensorflow>=2.5.1->gpt-2-simple) (57.4.0)\n",
            "Requirement already satisfied: keras-preprocessing>=1.1.1 in /usr/local/lib/python3.7/dist-packages (from tensorflow>=2.5.1->gpt-2-simple) (1.1.2)\n",
            "Requirement already satisfied: opt-einsum>=2.3.2 in /usr/local/lib/python3.7/dist-packages (from tensorflow>=2.5.1->gpt-2-simple) (3.3.0)\n",
            "Requirement already satisfied: h5py>=2.9.0 in /usr/local/lib/python3.7/dist-packages (from tensorflow>=2.5.1->gpt-2-simple) (3.1.0)\n",
            "Requirement already satisfied: google-pasta>=0.1.1 in /usr/local/lib/python3.7/dist-packages (from tensorflow>=2.5.1->gpt-2-simple) (0.2.0)\n",
            "Requirement already satisfied: wrapt>=1.11.0 in /usr/local/lib/python3.7/dist-packages (from tensorflow>=2.5.1->gpt-2-simple) (1.14.1)\n",
            "Requirement already satisfied: gast<=0.4.0,>=0.2.1 in /usr/local/lib/python3.7/dist-packages (from tensorflow>=2.5.1->gpt-2-simple) (0.4.0)\n",
            "Requirement already satisfied: wheel<1.0,>=0.23.0 in /usr/local/lib/python3.7/dist-packages (from astunparse>=1.6.0->tensorflow>=2.5.1->gpt-2-simple) (0.38.3)\n",
            "Requirement already satisfied: cached-property in /usr/local/lib/python3.7/dist-packages (from h5py>=2.9.0->tensorflow>=2.5.1->gpt-2-simple) (1.5.2)\n",
            "Requirement already satisfied: markdown>=2.6.8 in /usr/local/lib/python3.7/dist-packages (from tensorboard<2.10,>=2.9->tensorflow>=2.5.1->gpt-2-simple) (3.4.1)\n",
            "Requirement already satisfied: tensorboard-plugin-wit>=1.6.0 in /usr/local/lib/python3.7/dist-packages (from tensorboard<2.10,>=2.9->tensorflow>=2.5.1->gpt-2-simple) (1.8.1)\n",
            "Requirement already satisfied: google-auth<3,>=1.6.3 in /usr/local/lib/python3.7/dist-packages (from tensorboard<2.10,>=2.9->tensorflow>=2.5.1->gpt-2-simple) (2.14.1)\n",
            "Requirement already satisfied: tensorboard-data-server<0.7.0,>=0.6.0 in /usr/local/lib/python3.7/dist-packages (from tensorboard<2.10,>=2.9->tensorflow>=2.5.1->gpt-2-simple) (0.6.1)\n",
            "Requirement already satisfied: google-auth-oauthlib<0.5,>=0.4.1 in /usr/local/lib/python3.7/dist-packages (from tensorboard<2.10,>=2.9->tensorflow>=2.5.1->gpt-2-simple) (0.4.6)\n",
            "Requirement already satisfied: werkzeug>=1.0.1 in /usr/local/lib/python3.7/dist-packages (from tensorboard<2.10,>=2.9->tensorflow>=2.5.1->gpt-2-simple) (1.0.1)\n",
            "Requirement already satisfied: pyasn1-modules>=0.2.1 in /usr/local/lib/python3.7/dist-packages (from google-auth<3,>=1.6.3->tensorboard<2.10,>=2.9->tensorflow>=2.5.1->gpt-2-simple) (0.2.8)\n",
            "Requirement already satisfied: rsa<5,>=3.1.4 in /usr/local/lib/python3.7/dist-packages (from google-auth<3,>=1.6.3->tensorboard<2.10,>=2.9->tensorflow>=2.5.1->gpt-2-simple) (4.9)\n",
            "Requirement already satisfied: cachetools<6.0,>=2.0.0 in /usr/local/lib/python3.7/dist-packages (from google-auth<3,>=1.6.3->tensorboard<2.10,>=2.9->tensorflow>=2.5.1->gpt-2-simple) (5.2.0)\n",
            "Requirement already satisfied: requests-oauthlib>=0.7.0 in /usr/local/lib/python3.7/dist-packages (from google-auth-oauthlib<0.5,>=0.4.1->tensorboard<2.10,>=2.9->tensorflow>=2.5.1->gpt-2-simple) (1.3.1)\n",
            "Requirement already satisfied: importlib-metadata>=4.4 in /usr/local/lib/python3.7/dist-packages (from markdown>=2.6.8->tensorboard<2.10,>=2.9->tensorflow>=2.5.1->gpt-2-simple) (4.13.0)\n",
            "Requirement already satisfied: zipp>=0.5 in /usr/local/lib/python3.7/dist-packages (from importlib-metadata>=4.4->markdown>=2.6.8->tensorboard<2.10,>=2.9->tensorflow>=2.5.1->gpt-2-simple) (3.10.0)\n",
            "Requirement already satisfied: pyasn1<0.5.0,>=0.4.6 in /usr/local/lib/python3.7/dist-packages (from pyasn1-modules>=0.2.1->google-auth<3,>=1.6.3->tensorboard<2.10,>=2.9->tensorflow>=2.5.1->gpt-2-simple) (0.4.8)\n",
            "Requirement already satisfied: urllib3!=1.25.0,!=1.25.1,<1.26,>=1.21.1 in /usr/local/lib/python3.7/dist-packages (from requests->gpt-2-simple) (1.24.3)\n",
            "Requirement already satisfied: idna<3,>=2.5 in /usr/local/lib/python3.7/dist-packages (from requests->gpt-2-simple) (2.10)\n",
            "Requirement already satisfied: chardet<4,>=3.0.2 in /usr/local/lib/python3.7/dist-packages (from requests->gpt-2-simple) (3.0.4)\n",
            "Requirement already satisfied: certifi>=2017.4.17 in /usr/local/lib/python3.7/dist-packages (from requests->gpt-2-simple) (2022.9.24)\n",
            "Requirement already satisfied: oauthlib>=3.0.0 in /usr/local/lib/python3.7/dist-packages (from requests-oauthlib>=0.7.0->google-auth-oauthlib<0.5,>=0.4.1->tensorboard<2.10,>=2.9->tensorflow>=2.5.1->gpt-2-simple) (3.2.2)\n",
            "Requirement already satisfied: pyparsing!=3.0.5,>=2.0.2 in /usr/local/lib/python3.7/dist-packages (from packaging->tensorflow>=2.5.1->gpt-2-simple) (3.0.9)\n",
            "Building wheels for collected packages: gpt-2-simple\n",
            "  Building wheel for gpt-2-simple (setup.py) ... \u001b[?25l\u001b[?25hdone\n",
            "  Created wheel for gpt-2-simple: filename=gpt_2_simple-0.8.1-py3-none-any.whl size=24577 sha256=005eab4695a5f0426ba9161e524b89bb84daf347af71f5971628454492126424\n",
            "  Stored in directory: /root/.cache/pip/wheels/d6/89/8a/f5de6944286d1ac2658b0caa7eae3c8cda50f770cdc957217f\n",
            "Successfully built gpt-2-simple\n",
            "Installing collected packages: toposort, gpt-2-simple\n",
            "Successfully installed gpt-2-simple-0.8.1 toposort-1.7\n"
          ]
        }
      ],
      "source": [
        "!pip install gpt-2-simple tqdm"
      ]
    },
    {
      "cell_type": "code",
      "source": [
        "from google.colab import drive\n",
        "drive.mount('/content/gdrive')"
      ],
      "metadata": {
        "colab": {
          "base_uri": "https://localhost:8080/"
        },
        "id": "SxW84kExVvO9",
        "outputId": "202d6c7d-4270-4b48-d20c-e6ee663e262e"
      },
      "execution_count": 2,
      "outputs": [
        {
          "output_type": "stream",
          "name": "stdout",
          "text": [
            "Mounted at /content/gdrive\n"
          ]
        }
      ]
    },
    {
      "cell_type": "markdown",
      "source": [
        "# GPT-2 Fine-tuning"
      ],
      "metadata": {
        "id": "fBq8LSSN0NiE"
      }
    },
    {
      "cell_type": "code",
      "source": [
        "import gpt_2_simple as gpt2\n",
        "import os\n",
        "import requests\n",
        "import pandas as pd\n",
        "from tqdm import tqdm\n",
        "import tensorflow as tf"
      ],
      "metadata": {
        "id": "s-AzY3h4Vwpf"
      },
      "execution_count": 3,
      "outputs": []
    },
    {
      "cell_type": "code",
      "source": [
        "model_name = \"124M\"\n",
        "base_folder = \"gdrive/MyDrive/IRE\"\n",
        "train_file = os.path.join(base_folder, \"train.csv\")\n",
        "res_file = os.path.join(base_folder, \"gpt_train.csv\")"
      ],
      "metadata": {
        "id": "R_3ALS2MVxma"
      },
      "execution_count": 4,
      "outputs": []
    },
    {
      "cell_type": "code",
      "source": [
        "if not os.path.exists(res_file):\n",
        "  train_df = pd.read_csv(os.path.join(base_folder, train_file))\n",
        "\n",
        "  plots = list(train_df['plot_synopsis'])\n",
        "  plots = [' '.join(x.split()[:1000]) for x in plots]\n",
        "  taglines = list(train_df['tagline'])\n",
        "\n",
        "  new_data = [p + ' = @ = ' + t for p, t in zip(plots, taglines)]\n",
        "  pd.DataFrame(new_data).to_csv(res_file, index=False)"
      ],
      "metadata": {
        "id": "3T0s4JdVV9QK"
      },
      "execution_count": null,
      "outputs": []
    },
    {
      "cell_type": "code",
      "source": [
        "model_name = \"124M\"\n",
        "if not os.path.isdir(os.path.join(\"models\", model_name)):\n",
        "\tprint(f\"Downloading {model_name} model...\")\n",
        "\tgpt2.download_gpt2(model_name=model_name)   # model is saved into current directory under /models/124M/\n"
      ],
      "metadata": {
        "colab": {
          "base_uri": "https://localhost:8080/"
        },
        "id": "ssVo9ZM7ga_A",
        "outputId": "b2a0a5d9-a4da-457c-ac2a-dc72464c8ad5"
      },
      "execution_count": 5,
      "outputs": [
        {
          "output_type": "stream",
          "name": "stdout",
          "text": [
            "Downloading 124M model...\n"
          ]
        },
        {
          "output_type": "stream",
          "name": "stderr",
          "text": [
            "Fetching checkpoint: 1.05Mit [00:00, 291Mit/s]                                                      \n",
            "Fetching encoder.json: 1.05Mit [00:01, 564kit/s]\n",
            "Fetching hparams.json: 1.05Mit [00:00, 412Mit/s]                                                    \n",
            "Fetching model.ckpt.data-00000-of-00001: 498Mit [01:27, 5.67Mit/s]                                  \n",
            "Fetching model.ckpt.index: 1.05Mit [00:00, 535Mit/s]                                                \n",
            "Fetching model.ckpt.meta: 1.05Mit [00:01, 734kit/s]\n",
            "Fetching vocab.bpe: 1.05Mit [00:01, 850kit/s]\n"
          ]
        }
      ]
    },
    {
      "cell_type": "code",
      "source": [
        "sess = gpt2.start_tf_sess()\n",
        "gpt2.finetune(sess,\n",
        "              res_file,\n",
        "              model_name=model_name,\n",
        "              steps=1000)  # steps is max number of training steps\n",
        "\n",
        "gpt2.generate(sess)\n"
      ],
      "metadata": {
        "colab": {
          "base_uri": "https://localhost:8080/"
        },
        "id": "NV8M-w4jV9jk",
        "outputId": "b9cffb95-2e8c-444d-a284-f7b2286542bf"
      },
      "execution_count": null,
      "outputs": [
        {
          "metadata": {
            "tags": null
          },
          "name": "stdout",
          "output_type": "stream",
          "text": [
            "Loading checkpoint models/124M/model.ckpt\n",
            "Loading dataset...\n"
          ]
        },
        {
          "metadata": {
            "tags": null
          },
          "name": "stderr",
          "output_type": "stream",
          "text": [
            "100%|██████████| 1/1 [00:01<00:00,  1.30s/it]\n"
          ]
        },
        {
          "output_type": "stream",
          "name": "stdout",
          "text": [
            "dataset has 7004654 tokens\n",
            "Training...\n",
            "[1 | 7.31] loss=3.33 avg=3.33\n",
            "[2 | 9.43] loss=3.53 avg=3.43\n",
            "[3 | 11.55] loss=3.38 avg=3.41\n",
            "[4 | 13.68] loss=3.49 avg=3.43\n",
            "[5 | 15.81] loss=3.49 avg=3.45\n",
            "[6 | 17.94] loss=3.57 avg=3.47\n",
            "[7 | 20.09] loss=3.31 avg=3.44\n",
            "[8 | 22.24] loss=3.53 avg=3.46\n",
            "[9 | 24.39] loss=3.39 avg=3.45\n",
            "[10 | 26.55] loss=3.32 avg=3.43\n",
            "[11 | 28.72] loss=3.33 avg=3.42\n",
            "[12 | 30.89] loss=3.25 avg=3.41\n",
            "[13 | 33.07] loss=3.46 avg=3.41\n",
            "[14 | 35.25] loss=3.29 avg=3.40\n",
            "[15 | 37.44] loss=3.43 avg=3.41\n",
            "[16 | 39.64] loss=3.35 avg=3.40\n",
            "[17 | 41.84] loss=3.36 avg=3.40\n",
            "[18 | 44.05] loss=3.41 avg=3.40\n",
            "[19 | 46.27] loss=3.35 avg=3.40\n",
            "[20 | 48.49] loss=3.41 avg=3.40\n",
            "[21 | 50.72] loss=3.39 avg=3.40\n",
            "[22 | 52.95] loss=3.36 avg=3.40\n",
            "[23 | 55.18] loss=3.25 avg=3.39\n",
            "[24 | 57.42] loss=3.27 avg=3.38\n",
            "[25 | 59.67] loss=3.19 avg=3.37\n",
            "[26 | 61.93] loss=3.48 avg=3.38\n",
            "[27 | 64.18] loss=3.33 avg=3.38\n",
            "[28 | 66.45] loss=3.25 avg=3.37\n",
            "[29 | 68.74] loss=3.35 avg=3.37\n",
            "[30 | 71.02] loss=3.28 avg=3.37\n",
            "[31 | 73.31] loss=3.26 avg=3.36\n",
            "[32 | 75.61] loss=3.26 avg=3.36\n",
            "[33 | 77.92] loss=3.42 avg=3.36\n",
            "[34 | 80.24] loss=3.25 avg=3.36\n",
            "[35 | 82.56] loss=3.39 avg=3.36\n",
            "[36 | 84.88] loss=3.42 avg=3.36\n",
            "[37 | 87.23] loss=3.31 avg=3.36\n",
            "[38 | 89.59] loss=3.55 avg=3.37\n",
            "[39 | 91.94] loss=3.43 avg=3.37\n",
            "[40 | 94.30] loss=3.37 avg=3.37\n",
            "[41 | 96.67] loss=3.38 avg=3.37\n",
            "[42 | 99.04] loss=3.38 avg=3.37\n",
            "[43 | 101.39] loss=3.28 avg=3.37\n",
            "[44 | 103.74] loss=3.12 avg=3.36\n",
            "[45 | 106.07] loss=3.24 avg=3.36\n",
            "[46 | 108.40] loss=3.28 avg=3.35\n",
            "[47 | 110.72] loss=3.23 avg=3.35\n",
            "[48 | 113.04] loss=3.16 avg=3.35\n",
            "[49 | 115.35] loss=3.36 avg=3.35\n",
            "[50 | 117.65] loss=3.27 avg=3.34\n",
            "[51 | 119.95] loss=3.36 avg=3.34\n",
            "[52 | 122.25] loss=3.41 avg=3.35\n",
            "[53 | 124.54] loss=3.21 avg=3.34\n",
            "[54 | 126.83] loss=3.34 avg=3.34\n",
            "[55 | 129.12] loss=3.28 avg=3.34\n",
            "[56 | 131.40] loss=3.30 avg=3.34\n",
            "[57 | 133.69] loss=3.35 avg=3.34\n",
            "[58 | 135.97] loss=3.32 avg=3.34\n",
            "[59 | 138.26] loss=3.25 avg=3.34\n",
            "[60 | 140.54] loss=3.30 avg=3.34\n",
            "[61 | 142.82] loss=3.19 avg=3.33\n",
            "[62 | 145.09] loss=3.44 avg=3.34\n",
            "[63 | 147.37] loss=3.34 avg=3.34\n",
            "[64 | 149.65] loss=3.32 avg=3.34\n",
            "[65 | 151.93] loss=3.33 avg=3.34\n",
            "[66 | 154.22] loss=3.42 avg=3.34\n",
            "[67 | 156.51] loss=3.48 avg=3.34\n",
            "[68 | 158.79] loss=3.36 avg=3.34\n",
            "[69 | 161.08] loss=3.23 avg=3.34\n",
            "[70 | 163.37] loss=3.20 avg=3.34\n",
            "[71 | 165.67] loss=3.30 avg=3.34\n",
            "[72 | 167.96] loss=3.27 avg=3.33\n",
            "[73 | 170.26] loss=3.45 avg=3.34\n",
            "[74 | 172.57] loss=3.35 avg=3.34\n",
            "[75 | 174.87] loss=3.27 avg=3.34\n",
            "[76 | 177.17] loss=3.31 avg=3.33\n",
            "[77 | 179.48] loss=3.37 avg=3.34\n",
            "[78 | 181.79] loss=3.34 avg=3.34\n",
            "[79 | 184.11] loss=3.32 avg=3.33\n",
            "[80 | 186.42] loss=3.40 avg=3.34\n",
            "[81 | 188.73] loss=3.27 avg=3.34\n",
            "[82 | 191.05] loss=3.19 avg=3.33\n",
            "[83 | 193.36] loss=3.30 avg=3.33\n",
            "[84 | 195.68] loss=3.30 avg=3.33\n",
            "[85 | 198.00] loss=3.28 avg=3.33\n",
            "[86 | 200.31] loss=3.24 avg=3.33\n",
            "[87 | 202.63] loss=3.18 avg=3.33\n",
            "[88 | 204.94] loss=3.40 avg=3.33\n",
            "[89 | 207.26] loss=3.32 avg=3.33\n",
            "[90 | 209.57] loss=3.30 avg=3.33\n",
            "[91 | 211.88] loss=3.44 avg=3.33\n",
            "[92 | 214.19] loss=3.41 avg=3.33\n",
            "[93 | 216.49] loss=3.39 avg=3.33\n",
            "[94 | 218.80] loss=3.29 avg=3.33\n",
            "[95 | 221.11] loss=3.38 avg=3.33\n",
            "[96 | 223.41] loss=3.24 avg=3.33\n",
            "[97 | 225.72] loss=3.26 avg=3.33\n",
            "[98 | 228.03] loss=3.42 avg=3.33\n",
            "[99 | 230.34] loss=3.23 avg=3.33\n",
            "[100 | 232.64] loss=3.10 avg=3.32\n",
            "======== SAMPLE 1 ========\n",
            "ess's car. I drive to a gas station and it is still on fire. After the fire, someone goes after him and kills him. His mother is in shock at the deaths of her children and the police go after her son. This leads to a confrontation between her husband and the police. She is shot in the back by a police officer after he is shot. His condition deteriorates rapidly and he returns to his mother. When he returns from the hospital, he finds something in the bushes. He comes across the remains, found in a nearby cemetery. He meets his father, who is skeptical. His father leaves because he wants the family to live together and not go through hell. The young man returns and meets his father again and tells him that if he does not get help from his father and don't tell them what has happened to him, he will never have enough money for his family to begin with. He gets a job as a police informant. A job that only a certain guy might want to hire. The man turns down another job; he has his own bank account. In the back of the car, his mother wakes and tells him that her son has died. In the next scene, a cop shows up at her home in tears. A tearful cop reveals that he and his partner were never friends and that he had to marry her to get their daughter. He says his story in a public place and asks her to make sure he does not tell his story. She does this and makes him part of the story; he dies. The next day, the cop goes to have another look with the cop and gets a call from his son that his son has died. That night, the police chase him. After the chase, they find the body of a man they suspected of killing them that night and he comes back to try and get the man taken away. The car that was found is turned on and the cop is shot. A few days later, they find out he's gone. They find the body of the man, who has apparently been a \"dead man's body\" for the previous two days. He is still with his mother, but she was only there a few days ago. A man comes to her home and starts crying and says that he wants to kill her child. The police chase the man off, after which the cop gets away saying they've killed him. A police officer comes back and says that he has been looking into the case. When the cop returns to his home, he finds one of his son's dead body. He and the young man are reunited and the cop tells them to get out of the car and drive on the side of the road. However, he does not tell them where. Eventually he walks near the home and drives away, looking for his son to kill him. He then gets a call from the police, who see the scene. As he drives off, they see two black men and two white men. He is shot and killed by his partner, who is not armed. When he sees the police, he is told by a young woman that he's got his son's body. They tell him that the young man was killed because of the police and his partner had lied about him being the shooter. They both have the same picture; the victim is killed by the shooter. He then finds his husband's body and he drives off, looking for his son. Another black man comes to her home and he reveals that they've killed him, but he's not there. He kills the man and gets his daughter but she is only dead a few days after. A woman comes calling about a man that she'd never heard of. He tells her that he's been there all this time and she'll never forget him. In the next scene, he has a fight but the cop shoots the man. Later, he gets a call from a woman to get her son out of the car, but this leaves him behind and he finds out that he will soon be dead. He has a gun in the trunk and shoots him to frighten the woman from putting up any more guns. He then walks away with it, leaving the young man's corpse. His wife sees her son and calls the sheriff. He calls her and tells her that he is coming back from the hospital to talk to her son. He stops there and she tells him she's just here to see what he's seen; the sheriff asks why he's going in the first place. He talks to her as she leaves and he goes back to his home. He talks to her and they speak in the hall, only she sees that he's been alone. The daughter is left dead. Someone has been left out of their home. He then returns to his home and walks back home, only she sees that he's gone on the road to the hospital. He tells her to go back but then he sees an old friend of hers shot to death in her arms. He gets a call from the sheriff. The sheriff tells him that the\n",
            "\n",
            "[101 | 249.48] loss=3.33 avg=3.32\n",
            "[102 | 251.78] loss=3.32 avg=3.32\n",
            "[103 | 254.08] loss=3.47 avg=3.33\n",
            "[104 | 256.38] loss=3.37 avg=3.33\n",
            "[105 | 258.68] loss=3.21 avg=3.33\n",
            "[106 | 260.98] loss=3.34 avg=3.33\n",
            "[107 | 263.28] loss=3.40 avg=3.33\n",
            "[108 | 265.59] loss=3.35 avg=3.33\n",
            "[109 | 267.89] loss=3.34 avg=3.33\n",
            "[110 | 270.19] loss=3.35 avg=3.33\n",
            "[111 | 272.50] loss=3.22 avg=3.33\n",
            "[112 | 274.80] loss=3.15 avg=3.32\n",
            "[113 | 277.10] loss=3.13 avg=3.32\n",
            "[114 | 279.41] loss=3.27 avg=3.32\n",
            "[115 | 281.72] loss=3.26 avg=3.32\n",
            "[116 | 284.03] loss=3.35 avg=3.32\n",
            "[117 | 286.34] loss=3.21 avg=3.32\n",
            "[118 | 288.66] loss=3.38 avg=3.32\n",
            "[119 | 290.98] loss=3.31 avg=3.32\n",
            "[120 | 293.29] loss=3.27 avg=3.32\n",
            "[121 | 295.61] loss=3.33 avg=3.32\n",
            "[122 | 297.93] loss=3.22 avg=3.32\n",
            "[123 | 300.24] loss=3.19 avg=3.32\n",
            "[124 | 302.55] loss=3.44 avg=3.32\n",
            "[125 | 304.86] loss=3.30 avg=3.32\n",
            "[126 | 307.17] loss=3.40 avg=3.32\n",
            "[127 | 309.48] loss=3.48 avg=3.32\n",
            "[128 | 311.79] loss=3.25 avg=3.32\n",
            "[129 | 314.10] loss=3.27 avg=3.32\n",
            "[130 | 316.41] loss=3.25 avg=3.32\n",
            "[131 | 318.72] loss=3.37 avg=3.32\n",
            "[132 | 321.03] loss=3.37 avg=3.32\n",
            "[133 | 323.34] loss=3.12 avg=3.32\n",
            "[134 | 325.64] loss=3.32 avg=3.32\n",
            "[135 | 327.95] loss=3.36 avg=3.32\n",
            "[136 | 330.25] loss=3.33 avg=3.32\n",
            "[137 | 332.54] loss=3.37 avg=3.32\n",
            "[138 | 334.84] loss=3.14 avg=3.32\n",
            "[139 | 337.13] loss=3.27 avg=3.32\n",
            "[140 | 339.43] loss=3.23 avg=3.31\n",
            "[141 | 341.73] loss=3.32 avg=3.31\n",
            "[142 | 344.03] loss=3.25 avg=3.31\n",
            "[143 | 346.34] loss=3.29 avg=3.31\n",
            "[144 | 348.64] loss=3.32 avg=3.31\n",
            "[145 | 350.95] loss=3.29 avg=3.31\n",
            "[146 | 353.27] loss=3.37 avg=3.31\n",
            "[147 | 355.59] loss=3.37 avg=3.31\n",
            "[148 | 357.90] loss=3.34 avg=3.31\n",
            "[149 | 360.22] loss=3.26 avg=3.31\n",
            "[150 | 362.54] loss=3.33 avg=3.31\n",
            "[151 | 364.87] loss=3.25 avg=3.31\n",
            "[152 | 367.19] loss=3.32 avg=3.31\n",
            "[153 | 369.51] loss=3.49 avg=3.32\n",
            "[154 | 371.83] loss=3.29 avg=3.32\n",
            "[155 | 374.15] loss=3.25 avg=3.31\n",
            "[156 | 376.47] loss=3.30 avg=3.31\n",
            "[157 | 378.79] loss=3.26 avg=3.31\n",
            "[158 | 381.11] loss=3.24 avg=3.31\n",
            "[159 | 383.42] loss=3.38 avg=3.31\n",
            "[160 | 385.74] loss=3.22 avg=3.31\n",
            "[161 | 388.05] loss=3.35 avg=3.31\n",
            "[162 | 390.37] loss=3.33 avg=3.31\n",
            "[163 | 392.68] loss=3.19 avg=3.31\n",
            "[164 | 395.00] loss=3.27 avg=3.31\n",
            "[165 | 397.30] loss=3.34 avg=3.31\n",
            "[166 | 399.61] loss=3.29 avg=3.31\n",
            "[167 | 401.92] loss=3.34 avg=3.31\n",
            "[168 | 404.22] loss=3.26 avg=3.31\n",
            "[169 | 406.53] loss=3.34 avg=3.31\n",
            "[170 | 408.83] loss=3.40 avg=3.31\n",
            "[171 | 411.14] loss=3.30 avg=3.31\n",
            "[172 | 413.45] loss=3.26 avg=3.31\n",
            "[173 | 415.75] loss=3.38 avg=3.31\n",
            "[174 | 418.06] loss=3.19 avg=3.31\n",
            "[175 | 420.36] loss=3.38 avg=3.31\n",
            "[176 | 422.66] loss=3.27 avg=3.31\n",
            "[177 | 424.96] loss=3.36 avg=3.31\n",
            "[178 | 427.26] loss=3.24 avg=3.31\n",
            "[179 | 429.56] loss=3.26 avg=3.31\n",
            "[180 | 431.87] loss=3.20 avg=3.31\n",
            "[181 | 434.17] loss=3.32 avg=3.31\n",
            "[182 | 436.47] loss=3.28 avg=3.31\n",
            "[183 | 438.78] loss=3.33 avg=3.31\n",
            "[184 | 441.08] loss=3.17 avg=3.31\n",
            "[185 | 443.39] loss=3.32 avg=3.31\n",
            "[186 | 445.69] loss=3.22 avg=3.31\n",
            "[187 | 448.00] loss=3.30 avg=3.31\n",
            "[188 | 450.30] loss=3.28 avg=3.31\n",
            "[189 | 452.61] loss=3.19 avg=3.30\n",
            "[190 | 454.91] loss=3.32 avg=3.30\n",
            "[191 | 457.22] loss=3.21 avg=3.30\n",
            "[192 | 459.52] loss=3.17 avg=3.30\n",
            "[193 | 461.83] loss=3.18 avg=3.30\n",
            "[194 | 464.13] loss=3.22 avg=3.30\n",
            "[195 | 466.44] loss=3.22 avg=3.30\n",
            "[196 | 468.74] loss=3.29 avg=3.30\n",
            "[197 | 471.05] loss=3.26 avg=3.30\n",
            "[198 | 473.34] loss=3.22 avg=3.30\n",
            "[199 | 475.65] loss=3.19 avg=3.30\n",
            "[200 | 477.96] loss=3.49 avg=3.30\n",
            "======== SAMPLE 1 ========\n",
            " king, who would make sure that the ship was safe. After a brief period of silence and quiet, the ship's stern suddenly explodes, the bridge falling behind the ship and falling away. The ship is forced to sink with the captain's men, but is saved by Captain Beckwith (\"The Great Fire\".). After a furious chase, the men are captured by an enraged and frightened Beckwith. Beckwith is able to destroy Beckwith's ship, sending it crashing over a large lake. With the help of Beckwith and the rest of the crew, Beckwith manages to capture the others. The crew are rescued by Jack (J. B. White), the pilot of the ship who wants them onboard the ship, and the men who escaped through the wreckage, but Beckwith can't make it, and they get away when a group of pirates steal the ship's cargo by accident. Beckwith gets aboard the boat and finds the captain's men (\"the Great Fire\"). The crew decides to stop the voyage ahead of Beckwith and Beckwith's return to Earth for their last meal with the captive. Beckwith is shown a picture of Jack and Captain Beckwith, who were on board. Beckwith is shown the picture of Jack and Captain Beckwith, as they were on board Beckwith and Jack's men (that Beckwith helped save). The picture reveals that Jack and Beckwith are very happy and have returned home. Beckwith wakes up the captain, who thinks he has found a better mate, since they are now separated. Beckwith takes Jack's hand and tells Jack they will stay together; Beckwith says, \"You are my son.\" The two become friends. At first they are friendly and talk, but the two become very close. Beckwith explains they have a brother (Captain Harkness) who hates Beckwith to the point of having a heart attack. Beckwith becomes more and more jealous of the two; he loves to see a woman's heart as a symbol of his pride and desire; Beckwith tells him to stop being arrogant toward his superior. The captain orders Jack to make a new look on the ship and the pair heads for the ship without Beckwith. Beckwith has his brother go to bed, while Beckwith and Beckwith begin to drink. Beckwith tells Beckwith that his new appearance \"looks like a woman\". Jack and Beckwith have an erotic moment and they dance and begin kissing. After having a good kiss from him, an angry Beckwith runs off the ship and is shot when he returns. This leaves Jack with Jack and Captain Beckwith in bed, still drunk, and having a good laugh. Beckwith and Beckwith kiss and Jack loses all sense of humor. Beckwith's anger returns and he begins kissing and kissing his brother and Jack. Beckwith tells Jack what he would like to do, and Jack tells him \"The Greatest Fire.\" Beckwith makes a quick stop in front of the ship, and Jack shows up immediately. Jack and Beckwith are joined by Captain Beckwith, Captain Beckwith, Lancelot and Beckwith, who are all enjoying getting drunk and trying to get Jack to get ready. Beckwith says he wants to go on his own, but has forgotten how to do it. Beckwith's father tells Jack that he wants to do it by himself, and Jack says, \"No.\" The next day in the morning Jack and Beckwith make the next trip as Beckwith and Beckwith go upriver, back to where Beckwith was before they became separated and Jack is waiting, while Beckwith and Beckwith are all alone. Jack and Beckwith are all in a room in a small town called Little Rock, Arkansas when Alice is on a bus with her father and brother. Jack's brother, Jack Adams, is the town's leader, but Alice finds him \"in love\", after all, and Jack makes one last attempt to get her to go to the school without giving her a second chance. Jack and Alice find the boat and go on it to try and get a good night's sleep. They make long journeys, with many journeys that lead Alice to get drunk and get in trouble with townspeople, such as Captain Beckwith, and Alice then makes a trip to Little Rock. Jack and Alice all make their way back upriver, Jack makes another trip to Little Rock, and Beckwith gets a good night's sleep, while Jack wakes up and makes his last attempt to get Alice in a party with her, but he fails and falls in with Alice and Jack. Alice takes Alice's hand to kiss her, and Alice kisses up there too and kisses back, but the next night Alice kisses up there too and kisses back again. Alice makes her last attempt to get Jack drunk on her next trip and it seems they are close. Jack wakes up in the night-room, sees his son gone and asks the boy (who was sleeping on his father's bed) why he is there, and when Jack admits it was some sort of accident (which he admits but doesn't\n",
            "\n",
            "[201 | 492.79] loss=3.13 avg=3.30\n",
            "[202 | 495.09] loss=3.13 avg=3.29\n",
            "[203 | 497.39] loss=3.15 avg=3.29\n",
            "[204 | 499.69] loss=3.46 avg=3.29\n",
            "[205 | 501.99] loss=3.17 avg=3.29\n",
            "[206 | 504.30] loss=3.40 avg=3.29\n",
            "[207 | 506.60] loss=3.17 avg=3.29\n",
            "[208 | 508.91] loss=3.38 avg=3.29\n",
            "[209 | 511.21] loss=3.25 avg=3.29\n",
            "[210 | 513.51] loss=3.21 avg=3.29\n",
            "[211 | 515.82] loss=3.24 avg=3.29\n",
            "[212 | 518.13] loss=3.13 avg=3.29\n",
            "[213 | 520.43] loss=3.19 avg=3.29\n",
            "[214 | 522.74] loss=3.25 avg=3.29\n",
            "[215 | 525.04] loss=3.19 avg=3.29\n",
            "[216 | 527.34] loss=3.15 avg=3.29\n",
            "[217 | 529.64] loss=3.25 avg=3.29\n",
            "[218 | 531.95] loss=3.45 avg=3.29\n",
            "[219 | 534.25] loss=3.32 avg=3.29\n",
            "[220 | 536.56] loss=3.31 avg=3.29\n",
            "[221 | 538.86] loss=3.24 avg=3.29\n",
            "[222 | 541.17] loss=3.25 avg=3.29\n",
            "[223 | 543.47] loss=3.43 avg=3.29\n",
            "[224 | 545.77] loss=3.34 avg=3.29\n",
            "[225 | 548.09] loss=3.19 avg=3.29\n",
            "[226 | 550.39] loss=3.29 avg=3.29\n",
            "[227 | 552.70] loss=3.17 avg=3.29\n",
            "[228 | 555.00] loss=3.25 avg=3.29\n",
            "[229 | 557.30] loss=3.18 avg=3.29\n",
            "[230 | 559.61] loss=3.14 avg=3.28\n",
            "[231 | 561.92] loss=3.24 avg=3.28\n",
            "[232 | 564.22] loss=3.30 avg=3.28\n",
            "[233 | 566.53] loss=3.19 avg=3.28\n",
            "[234 | 568.84] loss=3.23 avg=3.28\n",
            "[235 | 571.14] loss=3.39 avg=3.28\n",
            "[236 | 573.45] loss=3.35 avg=3.28\n",
            "[237 | 575.75] loss=3.37 avg=3.28\n",
            "[238 | 578.05] loss=3.24 avg=3.28\n",
            "[239 | 580.36] loss=3.34 avg=3.28\n",
            "[240 | 582.67] loss=3.14 avg=3.28\n",
            "[241 | 584.98] loss=3.27 avg=3.28\n",
            "[242 | 587.30] loss=3.35 avg=3.28\n",
            "[243 | 589.61] loss=3.43 avg=3.29\n",
            "[244 | 591.93] loss=3.22 avg=3.28\n",
            "[245 | 594.24] loss=3.09 avg=3.28\n",
            "[246 | 596.55] loss=3.29 avg=3.28\n",
            "[247 | 598.85] loss=3.20 avg=3.28\n",
            "[248 | 601.16] loss=3.14 avg=3.28\n",
            "[249 | 603.46] loss=3.19 avg=3.28\n",
            "[250 | 605.77] loss=3.17 avg=3.28\n",
            "[251 | 608.08] loss=3.22 avg=3.28\n",
            "[252 | 610.38] loss=3.27 avg=3.28\n",
            "[253 | 612.68] loss=3.28 avg=3.28\n",
            "[254 | 614.99] loss=3.42 avg=3.28\n",
            "[255 | 617.30] loss=3.26 avg=3.28\n",
            "[256 | 619.60] loss=3.18 avg=3.28\n",
            "[257 | 621.91] loss=3.31 avg=3.28\n",
            "[258 | 624.22] loss=3.27 avg=3.28\n",
            "[259 | 626.53] loss=3.17 avg=3.28\n",
            "[260 | 628.83] loss=3.13 avg=3.28\n",
            "[261 | 631.14] loss=3.21 avg=3.27\n",
            "[262 | 633.45] loss=3.18 avg=3.27\n",
            "[263 | 635.76] loss=3.16 avg=3.27\n",
            "[264 | 638.06] loss=3.22 avg=3.27\n",
            "[265 | 640.37] loss=3.48 avg=3.27\n",
            "[266 | 642.68] loss=3.32 avg=3.27\n",
            "[267 | 644.99] loss=3.19 avg=3.27\n",
            "[268 | 647.30] loss=3.19 avg=3.27\n",
            "[269 | 649.61] loss=3.31 avg=3.27\n",
            "[270 | 651.92] loss=3.18 avg=3.27\n",
            "[271 | 654.23] loss=3.22 avg=3.27\n",
            "[272 | 656.54] loss=3.11 avg=3.27\n",
            "[273 | 658.84] loss=3.34 avg=3.27\n",
            "[274 | 661.16] loss=3.28 avg=3.27\n",
            "[275 | 663.47] loss=3.32 avg=3.27\n",
            "[276 | 665.78] loss=3.31 avg=3.27\n",
            "[277 | 668.09] loss=3.18 avg=3.27\n",
            "[278 | 670.40] loss=3.35 avg=3.27\n",
            "[279 | 672.71] loss=3.20 avg=3.27\n",
            "[280 | 675.02] loss=3.36 avg=3.27\n",
            "[281 | 677.33] loss=3.09 avg=3.27\n",
            "[282 | 679.64] loss=3.18 avg=3.27\n",
            "[283 | 681.95] loss=3.21 avg=3.27\n",
            "[284 | 684.26] loss=3.16 avg=3.27\n",
            "[285 | 686.57] loss=3.32 avg=3.27\n",
            "[286 | 688.88] loss=3.15 avg=3.27\n",
            "[287 | 691.19] loss=3.29 avg=3.27\n",
            "[288 | 693.50] loss=3.20 avg=3.27\n",
            "[289 | 695.81] loss=3.25 avg=3.27\n",
            "[290 | 698.11] loss=3.51 avg=3.27\n",
            "[291 | 700.42] loss=3.29 avg=3.27\n",
            "[292 | 702.73] loss=3.25 avg=3.27\n",
            "[293 | 705.05] loss=3.23 avg=3.27\n",
            "[294 | 707.35] loss=3.33 avg=3.27\n",
            "[295 | 709.67] loss=3.20 avg=3.27\n",
            "[296 | 711.98] loss=3.27 avg=3.27\n",
            "[297 | 714.29] loss=3.23 avg=3.27\n",
            "[298 | 716.59] loss=3.26 avg=3.27\n",
            "[299 | 718.90] loss=3.32 avg=3.27\n",
            "[300 | 721.21] loss=3.21 avg=3.27\n",
            "======== SAMPLE 1 ========\n",
            " her home for weeks, although she feels that he needs her to see her.In the town where she worked, she feels that he sees her for who she is, and that he does, as her parents are all dead so he seems to always be on her side. This causes her to go crazy at times and is a struggle that starts when she sees a girl in her room who is dressed as a girl and shows a picture of the dead bodies of his wife, which prompts him to stop. He leaves the house and comes back out. On the way to her house, he stops off at the bathroom in the first place. He turns down the lights because he does not want her to see it, he goes out again to put his shoes on them and get to the house.At home, he tells her that his dad went to him and her husband. She says that she really liked their relationship and he says that his dad was her brother. She says that he told her that things were more than that. His dad apologises to his wife and tells her that he didn't even leave her. She says that the police came and they called her and asked if she was there, and she says that she didn't. In the final scene, Tessa sees another girl, and after she hears the girl calling herself \"Ainsel,\" she is frightened but her cries make her feel a little better. = @ = There's no one in the dark... but there's always someone in the darkness.<|endoftext|>\n",
            "<|startoftext|>The story unfolds on two sides as a group of survivors gather to mourn the loss of an eight-inch gold-bearing animal, or \"Mountain Bear\", when it is discovered. While at the Mountain Bear camp, the campfire explodes and the animals go into a frenzy, killing off one. The other rescuer is a young woman, whose only memory of her life is that of her mother: she was a mountain dog whose sole inhabitant was her mother. After a long time of torment and rejection she finally gets her chance. She is a single mother who had been separated from her loving husband, who had been killed when they were nine weeks old. After a long period of torment, a young woman comes forward to claim that her mother died of a sudden stroke of her nose, and she is convinced that the person she saw that day was the Mountain Bear. When she asks why it happened, she is told that someone had set her up in bed with the baby, and she had been trying to force him to sleep with her after seeing him die of a suspected heart attack in bed with her. That night, the next morning, a young girl falls in and falls asleep, but cannot hear the sound of her mother. She wakes up to find her mother is gone and her father, Walter, and her husband have just returned to the camp. As the next day approaches, the baby, Walter, has a seizure, and his brain breaks down in a seizure that eventually leaves Walter unable to communicate with the world. While the two have just finished their work, Walter wakes up the next morning and finds the baby had died, and he is now sleeping in his cabin. At a very early hour, Walter walks into his cabin and calls Walter the old man. Walter gives the young woman a small knife and promises that she is going to be fine. As he takes the young woman by her hands, he notices an elderly woman walking on the road. He tries to grab the knife with the knife, but it is too heavy for her. He leaves the scene. Walter is brought back to the cabin where he learns that he had found her. In there is a message: We are dead. After the killing, Walter wakes up to his new memories of seeing Walter in his old days. He returns to this old state and finally, seeing her as he knew her, he admits that the baby died. He then learns that the other rescuer has also found the baby's corpse and is returning to visit her. In the meanwhile, he finds that Walter has been buried in this burial ground, and his death is confirmed when his wife, who died of a sudden stroke, falls onto the ground. Walter returns to the woods, and there, he finds a young girl, who is sleeping nearby. Walter is horrified, as she is dying of a sudden heart attack. But later that night, with the last of Walter's life, he finds that all his old people have died of an unknown cause and he has only two lives left. He returns into his sleeping bag, his bag filled with medicine. Then he sees the woman fall and her eyes fall flat on the ground, saying that she has been in his eyes too. Walter goes back down the woods to tell Tessa what he learned. He is able to convince her to come back with her to tell her about his experiences at Mountain Bear, and they both go to see their old friends. Tessa has an emotional breakdown when she sees\n",
            "\n",
            "[301 | 735.84] loss=3.27 avg=3.27\n",
            "[302 | 738.14] loss=3.14 avg=3.27\n",
            "[303 | 740.45] loss=3.14 avg=3.26\n",
            "[304 | 742.75] loss=3.18 avg=3.26\n",
            "[305 | 745.06] loss=3.26 avg=3.26\n",
            "[306 | 747.37] loss=3.14 avg=3.26\n",
            "[307 | 749.67] loss=3.24 avg=3.26\n",
            "[308 | 751.98] loss=3.31 avg=3.26\n",
            "[309 | 754.28] loss=3.23 avg=3.26\n",
            "[310 | 756.59] loss=3.33 avg=3.26\n",
            "[311 | 758.89] loss=3.24 avg=3.26\n",
            "[312 | 761.19] loss=3.31 avg=3.26\n",
            "[313 | 763.50] loss=3.28 avg=3.26\n",
            "[314 | 765.80] loss=3.21 avg=3.26\n",
            "[315 | 768.11] loss=3.26 avg=3.26\n",
            "[316 | 770.41] loss=3.36 avg=3.26\n",
            "[317 | 772.72] loss=3.26 avg=3.26\n",
            "[318 | 775.02] loss=3.41 avg=3.27\n",
            "[319 | 777.33] loss=3.23 avg=3.27\n",
            "[320 | 779.63] loss=3.29 avg=3.27\n",
            "[321 | 781.94] loss=3.17 avg=3.26\n",
            "[322 | 784.24] loss=3.18 avg=3.26\n",
            "[323 | 786.54] loss=3.18 avg=3.26\n",
            "[324 | 788.85] loss=3.35 avg=3.26\n",
            "[325 | 791.15] loss=3.26 avg=3.26\n",
            "[326 | 793.46] loss=3.25 avg=3.26\n",
            "[327 | 795.77] loss=3.17 avg=3.26\n",
            "[328 | 798.07] loss=3.26 avg=3.26\n",
            "[329 | 800.38] loss=3.20 avg=3.26\n",
            "[330 | 802.68] loss=3.28 avg=3.26\n",
            "[331 | 804.99] loss=3.19 avg=3.26\n",
            "[332 | 807.30] loss=3.37 avg=3.26\n",
            "[333 | 809.60] loss=3.17 avg=3.26\n",
            "[334 | 811.91] loss=3.35 avg=3.26\n",
            "[335 | 814.21] loss=3.23 avg=3.26\n",
            "[336 | 816.52] loss=3.26 avg=3.26\n",
            "[337 | 818.83] loss=3.13 avg=3.26\n",
            "[338 | 821.14] loss=3.27 avg=3.26\n",
            "[339 | 823.44] loss=3.25 avg=3.26\n",
            "[340 | 825.74] loss=3.28 avg=3.26\n",
            "[341 | 828.05] loss=3.14 avg=3.26\n",
            "[342 | 830.36] loss=3.19 avg=3.26\n",
            "[343 | 832.67] loss=3.22 avg=3.26\n",
            "[344 | 834.97] loss=3.21 avg=3.26\n",
            "[345 | 837.28] loss=3.28 avg=3.26\n",
            "[346 | 839.58] loss=3.14 avg=3.26\n",
            "[347 | 841.89] loss=3.20 avg=3.26\n",
            "[348 | 844.20] loss=3.18 avg=3.26\n",
            "[349 | 846.50] loss=3.24 avg=3.26\n",
            "[350 | 848.80] loss=3.26 avg=3.26\n",
            "[351 | 851.10] loss=3.25 avg=3.26\n",
            "[352 | 853.41] loss=3.14 avg=3.25\n",
            "[353 | 855.71] loss=3.07 avg=3.25\n",
            "[354 | 858.02] loss=3.30 avg=3.25\n",
            "[355 | 860.32] loss=3.31 avg=3.25\n",
            "[356 | 862.63] loss=3.14 avg=3.25\n",
            "[357 | 864.93] loss=3.22 avg=3.25\n",
            "[358 | 867.24] loss=3.22 avg=3.25\n",
            "[359 | 869.54] loss=3.25 avg=3.25\n",
            "[360 | 871.85] loss=3.30 avg=3.25\n",
            "[361 | 874.16] loss=3.31 avg=3.25\n",
            "[362 | 876.46] loss=3.24 avg=3.25\n",
            "[363 | 878.77] loss=3.35 avg=3.25\n",
            "[364 | 881.07] loss=3.16 avg=3.25\n",
            "[365 | 883.38] loss=3.25 avg=3.25\n",
            "[366 | 885.69] loss=3.19 avg=3.25\n",
            "[367 | 887.99] loss=3.16 avg=3.25\n",
            "[368 | 890.30] loss=3.19 avg=3.25\n",
            "[369 | 892.61] loss=3.23 avg=3.25\n",
            "[370 | 894.92] loss=3.31 avg=3.25\n",
            "[371 | 897.22] loss=3.29 avg=3.25\n",
            "[372 | 899.53] loss=3.29 avg=3.25\n",
            "[373 | 901.85] loss=3.09 avg=3.25\n",
            "[374 | 904.16] loss=3.32 avg=3.25\n",
            "[375 | 906.46] loss=3.24 avg=3.25\n",
            "[376 | 908.77] loss=3.15 avg=3.25\n",
            "[377 | 911.07] loss=3.16 avg=3.25\n",
            "[378 | 913.38] loss=3.26 avg=3.25\n",
            "[379 | 915.69] loss=3.07 avg=3.25\n",
            "[380 | 917.99] loss=3.31 avg=3.25\n",
            "[381 | 920.29] loss=3.13 avg=3.25\n",
            "[382 | 922.60] loss=3.17 avg=3.25\n",
            "[383 | 924.91] loss=3.19 avg=3.25\n",
            "[384 | 927.21] loss=3.21 avg=3.24\n",
            "[385 | 929.51] loss=3.28 avg=3.25\n",
            "[386 | 931.82] loss=3.39 avg=3.25\n",
            "[387 | 934.13] loss=3.07 avg=3.24\n",
            "[388 | 936.43] loss=3.18 avg=3.24\n",
            "[389 | 938.74] loss=3.23 avg=3.24\n",
            "[390 | 941.04] loss=3.25 avg=3.24\n",
            "[391 | 943.35] loss=3.29 avg=3.24\n",
            "[392 | 945.65] loss=3.25 avg=3.24\n",
            "[393 | 947.95] loss=3.25 avg=3.24\n",
            "[394 | 950.24] loss=3.14 avg=3.24\n",
            "[395 | 952.55] loss=3.18 avg=3.24\n",
            "[396 | 954.85] loss=3.20 avg=3.24\n",
            "[397 | 957.16] loss=3.25 avg=3.24\n",
            "[398 | 959.45] loss=3.17 avg=3.24\n",
            "[399 | 961.76] loss=3.13 avg=3.24\n",
            "[400 | 964.06] loss=3.17 avg=3.24\n",
            "======== SAMPLE 1 ========\n",
            " escape. He finds a silver and gold coin on an altar, and he and the other priests and priests of the temple go to the Temple of Saint Matthew, in a church of the same name. During the ceremony, a group of men appear and try to convince one another to support the church. They are unsuccessful; some remain loyal to their mission despite other members making objections. The priest, however, tells a different woman in a room that he will not believe this, saying that he is \"an angry man.\" When she answers that, he leaves. As the priest, whom he tells the priest to be the first to come to the temple, is arriving, the women's meeting is postponed. Afterwards, the priest makes a phone call to a priest in the nearby church, a priest working on a case of whiskey. This priest goes down and tells the man he will not believe the priest, saying that he cannot speak English or be a priest. He meets with a priest in a bar, but he refuses his offer because he lives elsewhere, being the only person to meet him in person. When the priest tells him that he has to stay there, the priest does not understand, but takes the phone to give to him for free. Then he tells the priest that the church is filled with people who believe that the church must be destroyed within the next year, and the priest begins to pray and is struck. In the next meeting with the priest, the woman in the room comes to know about the priest's visit to the temple, and he is disappointed. He tells the priest in the church that he believes that the priest will remain with the church, until the temple is destroyed. The priest agrees to the priest's terms, saying that the priest will stay until he can receive more priests. After the priest returns to the temple, he gets more women, who accuse his priest of being a whore. The priest agrees to the demands, saying that they will remain until the temple is destroyed. = @ = A priest who has no fear or sorrow!<|endoftext|>\n",
            "<|startoftext|>The character of a young woman named Emily (Jude Law), who falls for a man called Michael by an elderly man named Henry (John Daltrey). Emily is the only child of the old family, but when she asks whether that is okay, his mother offers to marry her to let her live as long as she takes in Emily's children. In her first marriage, Emily gets what she is owed, so she decides to turn it in. On Valentine's Day, Emily is offered a job by an old man at a liquor store and he does a great job. She agrees to take off her clothes and go away to buy some alcohol; he comes with her. The alcohol has a tendency to increase their bond and they have sex to try to get drunk again. Emily meets a young woman named Anna, who helps her get drunk. But she is too drunk to go out. When Emily returns, she learns that she has been killed by her husband. She returns home to find her father's body and two of his friends dead at a hospital. Anna takes the dead bodies with her and tries to get them to a police station for search and rescue, but finds nothing. Emily returns to the apartment and discovers that her father has left for work, but a policeman has to put her in an ambulance and help her. The policeman gives up and leaves. Emily discovers that she has been taken from her home, where she is in a car at night and driven to a warehouse on a train journey, where she finds her husband, Henry (Joseph Gordon-Levitt), having been murdered, and finds his dead body, but the police believe that the missing person is not there. They find out that the dead man left only a letter, saying he had left Emily's husband's body and called for help. The police arrive and arrest the man at the warehouse. He is taken to a psychiatric institution. The next morning, Emily returns the next day, because this is not her daughter's birthday; she doesn't have a daughter. When the police show up, they realize that he did not leave for work and leave Emily to find another body, which is unknown to her. But when the police come back looking for the man, they assume he is dead. Emily's mother comes to discover that her daughters have been killed. Emily wants to try to get Henry's body. She goes to the hospital and discovers that there is nothing there. He has left the body for the police. They assume he has left and leave her to live there with her father. Instead, she meets with several other people, including a man named Arthur (Jeffrey Dean Morgan), who has just killed her daughters when he had left her for other jobs. During his murder attempt, he kills Arthur by throwing him out of the elevator. Emily returns to the apartment, but when she enters, she finds that she has been kidnapped by the guards. She is taken back to her\n",
            "\n",
            "[401 | 978.63] loss=3.23 avg=3.24\n",
            "[402 | 980.94] loss=3.25 avg=3.24\n",
            "[403 | 983.24] loss=3.36 avg=3.24\n",
            "[404 | 985.54] loss=3.22 avg=3.24\n",
            "[405 | 987.84] loss=3.18 avg=3.24\n",
            "[406 | 990.13] loss=3.26 avg=3.24\n",
            "[407 | 992.44] loss=3.09 avg=3.24\n",
            "[408 | 994.74] loss=3.16 avg=3.24\n",
            "[409 | 997.04] loss=3.31 avg=3.24\n",
            "[410 | 999.34] loss=3.40 avg=3.24\n",
            "[411 | 1001.64] loss=3.28 avg=3.24\n",
            "[412 | 1003.94] loss=3.25 avg=3.24\n",
            "[413 | 1006.24] loss=3.05 avg=3.24\n",
            "[414 | 1008.54] loss=3.09 avg=3.24\n",
            "[415 | 1010.85] loss=3.34 avg=3.24\n",
            "[416 | 1013.15] loss=3.22 avg=3.24\n",
            "[417 | 1015.46] loss=3.23 avg=3.24\n",
            "[418 | 1017.77] loss=3.36 avg=3.24\n",
            "[419 | 1020.06] loss=3.17 avg=3.24\n",
            "[420 | 1022.36] loss=3.08 avg=3.24\n",
            "[421 | 1024.66] loss=3.06 avg=3.24\n",
            "[422 | 1026.96] loss=3.31 avg=3.24\n",
            "[423 | 1029.25] loss=3.23 avg=3.24\n",
            "[424 | 1031.55] loss=3.14 avg=3.24\n",
            "[425 | 1033.85] loss=3.36 avg=3.24\n",
            "[426 | 1036.15] loss=3.13 avg=3.24\n",
            "[427 | 1038.45] loss=3.20 avg=3.24\n",
            "[428 | 1040.76] loss=3.42 avg=3.24\n",
            "[429 | 1043.06] loss=3.30 avg=3.24\n",
            "[430 | 1045.37] loss=3.28 avg=3.24\n",
            "[431 | 1047.67] loss=3.05 avg=3.24\n",
            "[432 | 1049.97] loss=3.22 avg=3.24\n",
            "[433 | 1052.27] loss=3.42 avg=3.24\n",
            "[434 | 1054.57] loss=3.29 avg=3.24\n",
            "[435 | 1056.86] loss=3.20 avg=3.24\n",
            "[436 | 1059.17] loss=3.18 avg=3.24\n",
            "[437 | 1061.47] loss=3.18 avg=3.24\n",
            "[438 | 1063.77] loss=3.21 avg=3.24\n",
            "[439 | 1066.08] loss=3.24 avg=3.24\n",
            "[440 | 1068.38] loss=3.22 avg=3.24\n",
            "[441 | 1070.68] loss=3.33 avg=3.24\n",
            "[442 | 1072.98] loss=3.17 avg=3.24\n",
            "[443 | 1075.28] loss=3.29 avg=3.24\n",
            "[444 | 1077.58] loss=3.16 avg=3.24\n",
            "[445 | 1079.88] loss=3.21 avg=3.24\n",
            "[446 | 1082.18] loss=3.19 avg=3.24\n",
            "[447 | 1084.48] loss=3.29 avg=3.24\n",
            "[448 | 1086.78] loss=3.15 avg=3.24\n",
            "[449 | 1089.08] loss=3.21 avg=3.23\n",
            "[450 | 1091.38] loss=3.23 avg=3.23\n",
            "[451 | 1093.68] loss=3.25 avg=3.24\n",
            "[452 | 1095.98] loss=3.16 avg=3.23\n",
            "[453 | 1098.29] loss=3.19 avg=3.23\n",
            "[454 | 1100.59] loss=3.26 avg=3.23\n",
            "[455 | 1102.89] loss=3.33 avg=3.24\n",
            "[456 | 1105.19] loss=3.17 avg=3.23\n",
            "[457 | 1107.49] loss=3.24 avg=3.23\n",
            "[458 | 1109.80] loss=3.21 avg=3.23\n",
            "[459 | 1112.10] loss=3.23 avg=3.23\n",
            "[460 | 1114.40] loss=3.30 avg=3.23\n",
            "[461 | 1116.70] loss=3.31 avg=3.24\n",
            "[462 | 1119.01] loss=3.27 avg=3.24\n",
            "[463 | 1121.31] loss=3.11 avg=3.23\n",
            "[464 | 1123.61] loss=3.27 avg=3.24\n",
            "[465 | 1125.91] loss=3.24 avg=3.24\n",
            "[466 | 1128.21] loss=3.09 avg=3.23\n",
            "[467 | 1130.51] loss=3.38 avg=3.24\n",
            "[468 | 1132.82] loss=3.10 avg=3.23\n",
            "[469 | 1135.13] loss=3.11 avg=3.23\n",
            "[470 | 1137.43] loss=3.18 avg=3.23\n",
            "[471 | 1139.73] loss=3.13 avg=3.23\n",
            "[472 | 1142.03] loss=3.16 avg=3.23\n",
            "[473 | 1144.34] loss=3.14 avg=3.23\n",
            "[474 | 1146.64] loss=3.09 avg=3.23\n",
            "[475 | 1148.94] loss=3.25 avg=3.23\n",
            "[476 | 1151.24] loss=3.24 avg=3.23\n",
            "[477 | 1153.54] loss=3.33 avg=3.23\n",
            "[478 | 1155.85] loss=3.36 avg=3.23\n",
            "[479 | 1158.15] loss=3.18 avg=3.23\n",
            "[480 | 1160.45] loss=3.16 avg=3.23\n",
            "[481 | 1162.75] loss=3.16 avg=3.23\n",
            "[482 | 1165.05] loss=3.37 avg=3.23\n",
            "[483 | 1167.35] loss=3.16 avg=3.23\n",
            "[484 | 1169.65] loss=3.39 avg=3.23\n",
            "[485 | 1171.95] loss=3.17 avg=3.23\n",
            "[486 | 1174.25] loss=3.16 avg=3.23\n",
            "[487 | 1176.56] loss=3.27 avg=3.23\n",
            "[488 | 1178.86] loss=3.10 avg=3.23\n",
            "[489 | 1181.16] loss=3.18 avg=3.23\n",
            "[490 | 1183.47] loss=3.21 avg=3.23\n",
            "[491 | 1185.77] loss=3.15 avg=3.23\n",
            "[492 | 1188.07] loss=3.26 avg=3.23\n",
            "[493 | 1190.38] loss=3.18 avg=3.23\n",
            "[494 | 1192.68] loss=3.12 avg=3.23\n",
            "[495 | 1194.98] loss=3.27 avg=3.23\n",
            "[496 | 1197.28] loss=3.08 avg=3.23\n",
            "[497 | 1199.58] loss=3.21 avg=3.23\n",
            "[498 | 1201.89] loss=3.23 avg=3.23\n",
            "[499 | 1204.19] loss=3.06 avg=3.22\n",
            "[500 | 1206.49] loss=3.18 avg=3.22\n",
            "======== SAMPLE 1 ========\n",
            " other of the four heroes, to the tune of a total of twenty years and a half of damage. The heroes also visit a beautiful island and learn its secrets with each passing day. = @ = How to keep secret...<|endoftext|>\n",
            "<|startoftext|>In the opening scenes, the girls and girl who is in the classroom, are seen walking down a hallway. The camera panes around one girl who passes out due to a cold.The girls' dormitory is filled with girls, and one girl, who has a dream of getting her hair cut, tells the girls that the world is full of women and the girls say she is a beautiful girl. The classroom girl looks at her mirror and notices a nude girl in the mirror, and is shocked by the figure that walks in on her. Meanwhile, the girls (the students) go to the bathroom. The girl that passes out from her dream, has a dream, and walks on the beach. When she gets home, she sees a picture on the walls and takes it into the bathroom to tell the teacher about it. When the teacher arrives, the girl is crying and she walks away from him. She walks away on foot, and the teacher finds her. The teacher returns to the classroom and finds a man, who explains that the girl has passed out from her dream. This is an incident that would later happen with other girls as well. At school, there are several students sitting at a computer table watching cartoons, and a young girl comes in and asks about the girl whose dream she had earlier, and the teacher explains about the girl. She tells the teacher that she has a dream and he tells her she is beautiful. The teacher replies that she does not. They leave school, and the teacher asks her about her dream, and she says she has a boyfriend. They take her to the park. The girl who passed out from her dream comes in and offers her some food. She says she wants to start taking pictures together with her boyfriend of her boyfriend and calls him, but he goes with her and says he doesn't know who she is. She goes to talk to him, and the professor's student asks her out. The teacher says she has some work to do and then leaves with him and his friend and asks her where he is with their group. She asks him where they are. He says he's going to visit a local hotel. While they are there, she says she is not feeling well and they leave the hotel. The professors leave her at the campus. The last picture that passes at class goes blank and the picture that passes at the bathroom is broken. The woman that walks in on her girlfriend and she asks her a question before leaving. Then she starts to have strange dreams of something more. The students look at her reflection and she realizes that something has passed back. They decide on the girl that has walked to the toilet. A group of girls go to the bathroom as another girl walks down the hall. The girl with the reflection walks past, before walking on a wooden log which sticks out from her dream. The girl that walks to the front door has a dream of something going on. The teacher and the teacher arrive at the entrance to the room and she looks there. The teacher explains that we know that the girl who walked in on her boyfriend has passed out from her dream. She asks the teacher to look up at her, and he says he doesn't know. The teacher goes out. The girl who walks towards the front door sees the other girl and walks past in front of the other girl. She looks towards the back door and sees a reflection in it. She walks towards it. She is walking towards a door next to it and sees a reflection in it. She walks towards the door, but finds out that the other girl did not walk past. She stares at the door, and sees something in there. She walks towards the other girl and sees something. She runs back towards the door. The girl that walks into the entryway does not enter the door as she is standing there. She walks into the hallway where the door is locked and then she hears someone who walks in and a reflection in it. She runs toward the other girl, but sees nothing. The one that walks towards the door sees something, and walks into the hallway through the back door where the reflection came in. She sees a mirror and sees it. It was an unseen guy on the wall. She sits in the mirror and he walks towards her. He tells her about his dream, but then he disappears. The mirror she walks towards disappears and she sees the reflection. She runs towards the door. She thinks back to her dream, but then again the mirror is gone. She looks back and sees that the mirror has been closed and the door is locked. She goes into the hall where the mirror was shut, and sees the mirror go back inside the room which the reflection in the mirror in the room is standing there. She runs towards the mirror, and sees\n",
            "\n",
            "[501 | 1221.73] loss=3.27 avg=3.22\n",
            "[502 | 1224.02] loss=3.26 avg=3.22\n",
            "[503 | 1226.32] loss=3.20 avg=3.22\n",
            "[504 | 1228.62] loss=3.17 avg=3.22\n",
            "[505 | 1230.92] loss=3.05 avg=3.22\n",
            "[506 | 1233.21] loss=3.22 avg=3.22\n",
            "[507 | 1235.51] loss=3.16 avg=3.22\n",
            "[508 | 1237.81] loss=3.08 avg=3.22\n",
            "[509 | 1240.11] loss=3.30 avg=3.22\n",
            "[510 | 1242.41] loss=3.09 avg=3.22\n",
            "[511 | 1244.72] loss=3.20 avg=3.22\n",
            "[512 | 1247.01] loss=3.31 avg=3.22\n",
            "[513 | 1249.31] loss=3.10 avg=3.22\n",
            "[514 | 1251.60] loss=3.30 avg=3.22\n",
            "[515 | 1253.90] loss=3.31 avg=3.22\n",
            "[516 | 1256.19] loss=3.30 avg=3.22\n",
            "[517 | 1258.49] loss=3.13 avg=3.22\n",
            "[518 | 1260.79] loss=3.20 avg=3.22\n",
            "[519 | 1263.09] loss=3.30 avg=3.22\n",
            "[520 | 1265.39] loss=3.16 avg=3.22\n",
            "[521 | 1267.69] loss=3.27 avg=3.22\n",
            "[522 | 1269.99] loss=3.36 avg=3.22\n",
            "[523 | 1272.29] loss=3.20 avg=3.22\n",
            "[524 | 1274.60] loss=3.01 avg=3.22\n",
            "[525 | 1276.91] loss=3.19 avg=3.22\n",
            "[526 | 1279.21] loss=3.14 avg=3.22\n",
            "[527 | 1281.52] loss=3.27 avg=3.22\n",
            "[528 | 1283.82] loss=3.07 avg=3.22\n",
            "[529 | 1286.12] loss=3.31 avg=3.22\n",
            "[530 | 1288.43] loss=3.22 avg=3.22\n",
            "[531 | 1290.73] loss=3.18 avg=3.22\n",
            "[532 | 1293.03] loss=3.29 avg=3.22\n",
            "[533 | 1295.34] loss=3.14 avg=3.22\n",
            "[534 | 1297.65] loss=3.05 avg=3.22\n",
            "[535 | 1299.96] loss=3.11 avg=3.22\n",
            "[536 | 1302.26] loss=3.29 avg=3.22\n",
            "[537 | 1304.56] loss=3.29 avg=3.22\n",
            "[538 | 1306.87] loss=3.25 avg=3.22\n",
            "[539 | 1309.17] loss=3.32 avg=3.22\n",
            "[540 | 1311.48] loss=3.29 avg=3.22\n",
            "[541 | 1313.78] loss=3.31 avg=3.22\n",
            "[542 | 1316.09] loss=3.11 avg=3.22\n",
            "[543 | 1318.39] loss=3.06 avg=3.22\n",
            "[544 | 1320.70] loss=3.20 avg=3.22\n",
            "[545 | 1323.01] loss=3.21 avg=3.22\n",
            "[546 | 1325.31] loss=3.24 avg=3.22\n",
            "[547 | 1327.62] loss=3.03 avg=3.21\n",
            "[548 | 1329.92] loss=3.18 avg=3.21\n",
            "[549 | 1332.23] loss=3.35 avg=3.22\n",
            "[550 | 1334.53] loss=3.24 avg=3.22\n",
            "[551 | 1336.83] loss=3.14 avg=3.22\n",
            "[552 | 1339.14] loss=3.31 avg=3.22\n",
            "[553 | 1341.44] loss=3.19 avg=3.22\n",
            "[554 | 1343.75] loss=3.30 avg=3.22\n",
            "[555 | 1346.05] loss=3.15 avg=3.22\n",
            "[556 | 1348.36] loss=3.21 avg=3.22\n",
            "[557 | 1350.66] loss=3.20 avg=3.22\n",
            "[558 | 1352.97] loss=3.29 avg=3.22\n",
            "[559 | 1355.27] loss=3.20 avg=3.22\n",
            "[560 | 1357.58] loss=3.14 avg=3.22\n",
            "[561 | 1359.88] loss=3.09 avg=3.21\n",
            "[562 | 1362.18] loss=3.17 avg=3.21\n",
            "[563 | 1364.49] loss=3.31 avg=3.22\n",
            "[564 | 1366.79] loss=3.10 avg=3.21\n",
            "[565 | 1369.09] loss=3.32 avg=3.22\n",
            "[566 | 1371.41] loss=3.09 avg=3.21\n",
            "[567 | 1373.71] loss=3.23 avg=3.21\n",
            "[568 | 1376.01] loss=3.18 avg=3.21\n",
            "[569 | 1378.32] loss=3.30 avg=3.21\n",
            "[570 | 1380.62] loss=3.16 avg=3.21\n",
            "[571 | 1382.92] loss=3.21 avg=3.21\n",
            "[572 | 1385.22] loss=3.13 avg=3.21\n",
            "[573 | 1387.52] loss=3.15 avg=3.21\n",
            "[574 | 1389.82] loss=3.13 avg=3.21\n",
            "[575 | 1392.13] loss=3.18 avg=3.21\n",
            "[576 | 1394.43] loss=3.15 avg=3.21\n",
            "[577 | 1396.73] loss=3.18 avg=3.21\n",
            "[578 | 1399.04] loss=3.06 avg=3.21\n",
            "[579 | 1401.33] loss=3.26 avg=3.21\n",
            "[580 | 1403.63] loss=3.21 avg=3.21\n",
            "[581 | 1405.94] loss=3.20 avg=3.21\n",
            "[582 | 1408.24] loss=3.15 avg=3.21\n",
            "[583 | 1410.55] loss=3.28 avg=3.21\n",
            "[584 | 1412.85] loss=3.18 avg=3.21\n",
            "[585 | 1415.15] loss=3.31 avg=3.21\n",
            "[586 | 1417.46] loss=3.17 avg=3.21\n",
            "[587 | 1419.76] loss=3.23 avg=3.21\n",
            "[588 | 1422.07] loss=3.15 avg=3.21\n",
            "[589 | 1424.38] loss=3.25 avg=3.21\n",
            "[590 | 1426.68] loss=3.10 avg=3.21\n",
            "[591 | 1428.98] loss=3.36 avg=3.21\n",
            "[592 | 1431.28] loss=3.19 avg=3.21\n",
            "[593 | 1433.58] loss=3.11 avg=3.21\n",
            "[594 | 1435.88] loss=3.01 avg=3.21\n",
            "[595 | 1438.18] loss=3.21 avg=3.21\n",
            "[596 | 1440.48] loss=3.33 avg=3.21\n",
            "[597 | 1442.78] loss=3.29 avg=3.21\n",
            "[598 | 1445.09] loss=3.26 avg=3.21\n",
            "[599 | 1447.39] loss=3.30 avg=3.21\n",
            "[600 | 1449.70] loss=3.30 avg=3.21\n",
            "======== SAMPLE 1 ========\n",
            " Enlightened. His wife leaves, and he decides to move in with her father. He gets help from a girl named Susan (Anjelica Huston) and they take a short distance train ride west of Portland to find themselves. Their destination: the city, where they'll spend the rest of their lives. = @ = The first story of a young Oregon girl... and the girl who saved her husband. A young girl and the child who saved him.<|endoftext|>\n",
            "<|startoftext|>John Carver (Billy Dee Williams) is a former military man living in suburban Washington, D.C., living with his wife and their four children in a farmhouse. While working as a police officer, he is promoted to sergeant and is a successful salesman. Shortly after the company's merger with Fairfax-Edwards he was promoted to be a scout. The two are married, and John is also married to Susan (Gail Mabry) who lives with her children. John takes a job as a house painter at Fairfax-Edwards, and works in a studio. Later he writes a collection of photographs relating his experience. After becoming a newspaperman and selling newspapers at Fairfax, he is engaged to Susan. John travels with his daughter Elsie and their four grandchildren to Fairfax and then to Washington, D.C. To prepare for marriage, John asks to take an excursion from Fairfax-Edwards to find his son William. Elsie is also living there, and the children are still there and living with them. When John and Susan have two children, Elsie and Susan are determined to keep these children safe. The plan is to keep them from being exposed to drugs, alcohol, or pornography. John and Elsie have been living there for many years and have never seen the children, but Susan still wants the child back. But one of the children, Mary (Ruth Field) is being sold to a wealthy man with high hopes of a life in Fairfax. John and Elsie decide against her, hoping it will encourage men into giving to them and not putting their lives out of their mind. When Elsie returns to Fairfax where he has a family he has been living in, Elsie is very unhappy. When John confronts Elsie in his hotel room to the point where Elsie is reluctant to call the police, the police show up and arrest Elsie. John and Elsie are separated and John learns they are going to end up divorcing. Elsie then takes up the children of Mary and Elsie and visits her new husband, but his wife has died of cancer. Elsie and Elsie become engaged, and John and Elsie are able to go to Fairfax. At the wedding Mary is asked to accompany the family to Washington where Mary's father, Captain William Carver (Vicky Noyes) is serving as chief of police. The boys spend the next day together, and Elsie and Susan talk on the beach while Susan prepares for the next day's drive to work. They both enjoy their new lives. On the beach the day John and Mary meet each other and decide to become married, John persuading Elsie to go to New York, and Elsie to return to Fairfax and marry him. While there Mary and Elsie have a romantic exchange. Susan is very distressed at living with John and Elsie, and her family seems reluctant to accept her marriage. Mary finds out about John's engagement by writing a letter to her father. She calls John's office to explain the letter and how she saw John having a son with Elsie. John's father tells her that Elsie might not be so good to the boys and his son was being sold to a man with an obsession with women. Mary, in the letter John gives her, finds Mary's diary and changes it to show the boys that Mary is still in love with John and his wife, Susan, and is a passionate supporter of men's rights and the right to vote for the boys. Mary visits her father in Fairfax, when she meets Mary, a man she has a passionate love for and loves. However the day John and Mary meet, Mary is horrified, but her father is not. However Mary discovers that one of Mary's daughters is now married by an associate, and the two are forced to go together. They spend the next day together, and Elsie goes to visit her mother, and she is happy, and has a child with Elsie. Mary finds Elsie and is furious, when she finds out, the boys are married. Susan tells Mary that they are both not married at all. After her father dies, Mary explains that her mother has chosen her family over others and wants to marry them, but Elsie has left. She and the boys travel to Washington, where Mary's father is chief police officer, and Mary tells her story. After the boys and Mary have married, Mary discovers that Mary is pregnant with Elsie and wishes she could be married with Elsie, but it is not possible because\n",
            "\n",
            "[601 | 1464.03] loss=3.17 avg=3.21\n",
            "[602 | 1466.33] loss=3.23 avg=3.21\n",
            "[603 | 1468.63] loss=3.24 avg=3.21\n",
            "[604 | 1470.93] loss=3.34 avg=3.21\n",
            "[605 | 1473.23] loss=3.22 avg=3.21\n",
            "[606 | 1475.53] loss=3.13 avg=3.21\n",
            "[607 | 1477.83] loss=3.13 avg=3.21\n",
            "[608 | 1480.13] loss=3.03 avg=3.21\n",
            "[609 | 1482.43] loss=3.12 avg=3.21\n",
            "[610 | 1484.72] loss=3.26 avg=3.21\n",
            "[611 | 1487.02] loss=3.09 avg=3.21\n",
            "[612 | 1489.32] loss=3.10 avg=3.21\n",
            "[613 | 1491.63] loss=3.25 avg=3.21\n",
            "[614 | 1493.92] loss=3.07 avg=3.21\n",
            "[615 | 1496.22] loss=3.17 avg=3.21\n",
            "[616 | 1498.52] loss=3.25 avg=3.21\n",
            "[617 | 1500.82] loss=3.48 avg=3.21\n",
            "[618 | 1503.12] loss=3.26 avg=3.21\n",
            "[619 | 1505.42] loss=3.02 avg=3.21\n",
            "[620 | 1507.72] loss=3.21 avg=3.21\n",
            "[621 | 1510.02] loss=3.13 avg=3.21\n",
            "[622 | 1512.32] loss=3.12 avg=3.21\n",
            "[623 | 1514.62] loss=3.23 avg=3.21\n",
            "[624 | 1516.91] loss=3.20 avg=3.21\n",
            "[625 | 1519.21] loss=3.27 avg=3.21\n",
            "[626 | 1521.52] loss=3.10 avg=3.21\n",
            "[627 | 1523.82] loss=3.18 avg=3.20\n",
            "[628 | 1526.12] loss=3.28 avg=3.21\n",
            "[629 | 1528.42] loss=3.00 avg=3.20\n",
            "[630 | 1530.72] loss=3.09 avg=3.20\n",
            "[631 | 1533.02] loss=3.19 avg=3.20\n",
            "[632 | 1535.33] loss=3.24 avg=3.20\n",
            "[633 | 1537.63] loss=3.12 avg=3.20\n",
            "[634 | 1539.94] loss=3.15 avg=3.20\n",
            "[635 | 1542.23] loss=3.08 avg=3.20\n",
            "[636 | 1544.53] loss=3.11 avg=3.20\n",
            "[637 | 1546.83] loss=3.05 avg=3.20\n",
            "[638 | 1549.14] loss=3.15 avg=3.20\n",
            "[639 | 1551.43] loss=3.05 avg=3.20\n",
            "[640 | 1553.74] loss=3.40 avg=3.20\n",
            "[641 | 1556.04] loss=3.32 avg=3.20\n",
            "[642 | 1558.34] loss=3.17 avg=3.20\n",
            "[643 | 1560.64] loss=3.19 avg=3.20\n",
            "[644 | 1562.93] loss=3.22 avg=3.20\n",
            "[645 | 1565.23] loss=3.33 avg=3.20\n",
            "[646 | 1567.53] loss=3.30 avg=3.20\n",
            "[647 | 1569.83] loss=3.24 avg=3.20\n",
            "[648 | 1572.13] loss=3.23 avg=3.20\n",
            "[649 | 1574.42] loss=3.23 avg=3.20\n",
            "[650 | 1576.73] loss=3.13 avg=3.20\n",
            "[651 | 1579.02] loss=3.06 avg=3.20\n",
            "[652 | 1581.33] loss=3.15 avg=3.20\n",
            "[653 | 1583.62] loss=3.22 avg=3.20\n",
            "[654 | 1585.93] loss=3.12 avg=3.20\n",
            "[655 | 1588.22] loss=3.19 avg=3.20\n",
            "[656 | 1590.52] loss=3.25 avg=3.20\n",
            "[657 | 1592.81] loss=3.09 avg=3.20\n",
            "[658 | 1595.11] loss=3.15 avg=3.20\n",
            "[659 | 1597.41] loss=3.19 avg=3.20\n",
            "[660 | 1599.71] loss=3.09 avg=3.20\n",
            "[661 | 1602.01] loss=3.14 avg=3.20\n",
            "[662 | 1604.31] loss=3.11 avg=3.19\n",
            "[663 | 1606.62] loss=3.13 avg=3.19\n",
            "[664 | 1608.92] loss=3.15 avg=3.19\n",
            "[665 | 1611.22] loss=3.19 avg=3.19\n",
            "[666 | 1613.52] loss=2.95 avg=3.19\n",
            "[667 | 1615.82] loss=3.17 avg=3.19\n",
            "[668 | 1618.13] loss=3.22 avg=3.19\n",
            "[669 | 1620.43] loss=3.07 avg=3.19\n",
            "[670 | 1622.72] loss=3.21 avg=3.19\n",
            "[671 | 1625.03] loss=3.39 avg=3.19\n",
            "[672 | 1627.33] loss=3.11 avg=3.19\n",
            "[673 | 1629.63] loss=3.16 avg=3.19\n",
            "[674 | 1631.92] loss=3.20 avg=3.19\n",
            "[675 | 1634.22] loss=3.06 avg=3.19\n",
            "[676 | 1636.52] loss=3.23 avg=3.19\n",
            "[677 | 1638.82] loss=3.25 avg=3.19\n",
            "[678 | 1641.12] loss=3.03 avg=3.19\n",
            "[679 | 1643.42] loss=3.11 avg=3.19\n",
            "[680 | 1645.72] loss=3.20 avg=3.19\n",
            "[681 | 1648.02] loss=3.27 avg=3.19\n",
            "[682 | 1650.32] loss=3.27 avg=3.19\n",
            "[683 | 1652.63] loss=3.15 avg=3.19\n",
            "[684 | 1654.93] loss=3.05 avg=3.19\n",
            "[685 | 1657.22] loss=3.16 avg=3.19\n",
            "[686 | 1659.53] loss=3.27 avg=3.19\n",
            "[687 | 1661.83] loss=3.23 avg=3.19\n",
            "[688 | 1664.13] loss=3.11 avg=3.19\n",
            "[689 | 1666.43] loss=3.19 avg=3.19\n",
            "[690 | 1668.73] loss=3.03 avg=3.19\n",
            "[691 | 1671.03] loss=3.11 avg=3.19\n",
            "[692 | 1673.34] loss=3.26 avg=3.19\n",
            "[693 | 1675.63] loss=3.08 avg=3.19\n",
            "[694 | 1677.94] loss=3.24 avg=3.19\n",
            "[695 | 1680.24] loss=3.14 avg=3.19\n",
            "[696 | 1682.53] loss=3.39 avg=3.19\n",
            "[697 | 1684.83] loss=3.08 avg=3.19\n",
            "[698 | 1687.14] loss=3.28 avg=3.19\n",
            "[699 | 1689.44] loss=3.16 avg=3.19\n",
            "[700 | 1691.73] loss=3.12 avg=3.19\n",
            "======== SAMPLE 1 ========\n",
            " a father-daughter relationship between them. At one point, he takes her to be a stripper, and she invites him to an upscale apartment for him and her family. He says he needs to talk to her if he is to stay. He says he wants to leave the club. As he leaves, he sees an angel on the horizon, and he vows to stop with that angel at any cost. He tells her to stay out of the club and leave, then he leaves to go to another area. = @ = They want to make him happy.<|endoftext|>\n",
            "<|startoftext|>An American war veteran, Charles \"Captain\" Taney, returns to England after being wounded during the French Resistance. He is sent to a private clinic to treat him. The clinic officer who was assigned to treat him shows up and offers Charles an opportunity to rejoin the military. Charles is impressed by Taney's courage and knowledge in combat, and hopes to meet him. His request is accepted reluctantly, but he soon meets two brothers-in-law whom Taney considers to be friends. Charles wants to know more about them. One brother tells Taney that his father was a surgeon in the French resistance who was killed in a German invasion. Taney is puzzled by this claim. Later, an old friend of Charles who has been working in the clinic, and who has served in Germany until his death, tells Charles about his great-great-grandfather's grave. Taney asks Charles if he had a grave; the dead man says no, because the body was buried only minutes ago. Charles asks if he really went to die. The grave is clearly not there, but this is not why it does not show any sign of age: the grave is old. But, as he is still in bed, he says, \"I am not old enough to die.\" Later, in a flashback to his father's funeral, where many were present, Charles finds that his father was a surgeon, who died a month ago. He tells of the events in his father's funeral: the French soldiers had been able to gain a considerable number of territory by using poison gas. In the meantime, in order to give them an opportunity to gain the territory, they had to use poison gas to kill the Germans. But Charles was so young that he couldn't hear what the Germans were saying. Then, he was sent to kill one of the French officers who tried to keep him from hearing what the Germans were saying. Eventually, the officers decided to join the soldiers and escape for France. Charles was never arrested as a result of this. He was in the hospital for a few days when the Germans finally discovered him. The officer that he betrayed, known only as \"Doc\", had also been shot, killed in action in France. They did not find him. Then one of the officers who tried to kill him, killed him. When the doctors tried to save Doc from the Germans, it was discovered that his mother had died. The Germans, who had wanted Doc to leave France, tried to shoot him, but Doc escaped. The Nazis also tried to kill Doc before he left the hospital. The soldiers killed the doctor's wife, and left Doc with her corpse. Later on, the German soldiers try to kill a soldier who tried to get off the road. The soldier is shot again. The doctor is now killed, and he says that he is no longer alive. The soldiers leave Doc for the hospital. Charles, now a soldier, is on the street in his hometown, and, looking through the streets, sees a man, in a white coat, who is clearly out looking. He runs up to him. He tells him what he saw before, the man's name is Francis Balfour, and it is not the man that he is looking for, but rather a man who is wearing a white coat. His voice is clearly hostile to Charles and very hard to hear. His friend and friend is Louis GÃ©gereau, a German officer, whom Charles was sent to kill. Louis asks for Charlie to go with him. Charles does not want Charlie to go with Charlie, for he knows his son is not really Charles, and he is tired of fighting the army when Charlie is no longer there. Louis wants a new life with his son. Louis sees the scene where Charles is in hospital, and says that the doctor and others who were wounded after a fight between the Germans were able to save their son from death. Charles gives Charles a shot of vodka after the battle. The shot of vodka is a mixture of vodka with a mixture of water and a mixture of oil. Louis leaves Charles to be a doctor in the clinic. Charles stays at the cemetery and meets his son. Louis says that Charles should be a doctor in France, or he will be transferred to a concentration camp somewhere else. Louis then tells Charles that he is going to stay at the clinic. Meanwhile, he is taken to the cemetery for a funeral. Louis has already asked\n",
            "\n",
            "[701 | 1706.02] loss=3.11 avg=3.19\n",
            "[702 | 1708.31] loss=3.31 avg=3.19\n",
            "[703 | 1710.61] loss=3.29 avg=3.19\n",
            "[704 | 1712.91] loss=3.24 avg=3.19\n",
            "[705 | 1715.21] loss=3.26 avg=3.19\n",
            "[706 | 1717.51] loss=3.24 avg=3.19\n",
            "[707 | 1719.80] loss=3.13 avg=3.19\n",
            "[708 | 1722.10] loss=3.29 avg=3.19\n",
            "[709 | 1724.40] loss=3.07 avg=3.19\n",
            "[710 | 1726.69] loss=3.12 avg=3.19\n",
            "[711 | 1728.99] loss=3.17 avg=3.19\n",
            "[712 | 1731.28] loss=3.09 avg=3.19\n",
            "[713 | 1733.59] loss=3.25 avg=3.19\n",
            "[714 | 1735.90] loss=3.15 avg=3.19\n",
            "[715 | 1738.20] loss=3.22 avg=3.19\n",
            "[716 | 1740.50] loss=3.24 avg=3.19\n",
            "[717 | 1742.81] loss=3.15 avg=3.19\n",
            "[718 | 1745.11] loss=3.18 avg=3.19\n",
            "[719 | 1747.41] loss=3.20 avg=3.19\n",
            "[720 | 1749.71] loss=3.11 avg=3.19\n",
            "[721 | 1752.01] loss=3.13 avg=3.19\n",
            "[722 | 1754.31] loss=3.13 avg=3.19\n",
            "[723 | 1756.62] loss=3.19 avg=3.19\n",
            "[724 | 1758.93] loss=3.21 avg=3.19\n",
            "[725 | 1761.23] loss=3.14 avg=3.19\n",
            "[726 | 1763.54] loss=3.33 avg=3.19\n",
            "[727 | 1765.83] loss=3.12 avg=3.19\n",
            "[728 | 1768.15] loss=3.00 avg=3.19\n",
            "[729 | 1770.45] loss=3.26 avg=3.19\n",
            "[730 | 1772.76] loss=3.06 avg=3.18\n",
            "[731 | 1775.07] loss=3.06 avg=3.18\n",
            "[732 | 1777.38] loss=3.20 avg=3.18\n",
            "[733 | 1779.68] loss=3.23 avg=3.18\n",
            "[734 | 1781.98] loss=3.31 avg=3.19\n",
            "[735 | 1784.29] loss=3.14 avg=3.18\n",
            "[736 | 1786.59] loss=3.06 avg=3.18\n",
            "[737 | 1788.89] loss=3.20 avg=3.18\n",
            "[738 | 1791.20] loss=2.99 avg=3.18\n",
            "[739 | 1793.51] loss=3.35 avg=3.18\n",
            "[740 | 1795.82] loss=3.18 avg=3.18\n",
            "[741 | 1798.12] loss=3.27 avg=3.18\n",
            "[742 | 1800.43] loss=3.15 avg=3.18\n",
            "[743 | 1802.74] loss=3.34 avg=3.19\n",
            "[744 | 1805.05] loss=3.18 avg=3.19\n",
            "[745 | 1807.35] loss=3.13 avg=3.18\n",
            "[746 | 1809.66] loss=3.19 avg=3.18\n",
            "[747 | 1811.97] loss=3.27 avg=3.19\n",
            "[748 | 1814.28] loss=3.18 avg=3.19\n",
            "[749 | 1816.58] loss=3.05 avg=3.18\n",
            "[750 | 1818.89] loss=3.14 avg=3.18\n",
            "[751 | 1821.19] loss=3.09 avg=3.18\n",
            "[752 | 1823.50] loss=3.05 avg=3.18\n",
            "[753 | 1825.80] loss=3.18 avg=3.18\n",
            "[754 | 1828.12] loss=3.12 avg=3.18\n",
            "[755 | 1830.43] loss=3.18 avg=3.18\n",
            "[756 | 1832.73] loss=3.02 avg=3.18\n",
            "[757 | 1835.04] loss=3.06 avg=3.18\n",
            "[758 | 1837.35] loss=3.21 avg=3.18\n",
            "[759 | 1839.65] loss=3.16 avg=3.18\n",
            "[760 | 1841.95] loss=3.14 avg=3.18\n",
            "[761 | 1844.25] loss=3.21 avg=3.18\n",
            "[762 | 1846.56] loss=3.06 avg=3.18\n",
            "[763 | 1848.87] loss=3.15 avg=3.18\n",
            "[764 | 1851.17] loss=3.12 avg=3.18\n",
            "[765 | 1853.48] loss=3.17 avg=3.18\n",
            "[766 | 1855.78] loss=3.22 avg=3.18\n",
            "[767 | 1858.08] loss=3.17 avg=3.18\n",
            "[768 | 1860.38] loss=3.16 avg=3.18\n",
            "[769 | 1862.69] loss=3.34 avg=3.18\n",
            "[770 | 1864.99] loss=3.29 avg=3.18\n",
            "[771 | 1867.30] loss=3.31 avg=3.18\n",
            "[772 | 1869.60] loss=3.24 avg=3.18\n",
            "[773 | 1871.90] loss=3.16 avg=3.18\n",
            "[774 | 1874.21] loss=2.98 avg=3.18\n",
            "[775 | 1876.51] loss=3.24 avg=3.18\n",
            "[776 | 1878.81] loss=3.15 avg=3.18\n",
            "[777 | 1881.11] loss=3.16 avg=3.18\n",
            "[778 | 1883.42] loss=3.15 avg=3.18\n",
            "[779 | 1885.73] loss=3.17 avg=3.18\n",
            "[780 | 1888.03] loss=3.04 avg=3.18\n",
            "[781 | 1890.33] loss=3.22 avg=3.18\n",
            "[782 | 1892.63] loss=3.09 avg=3.18\n",
            "[783 | 1894.93] loss=3.14 avg=3.18\n",
            "[784 | 1897.24] loss=3.13 avg=3.18\n",
            "[785 | 1899.54] loss=3.14 avg=3.18\n",
            "[786 | 1901.84] loss=3.15 avg=3.18\n",
            "[787 | 1904.15] loss=3.17 avg=3.18\n",
            "[788 | 1906.45] loss=3.21 avg=3.18\n",
            "[789 | 1908.74] loss=3.05 avg=3.17\n",
            "[790 | 1911.05] loss=3.05 avg=3.17\n",
            "[791 | 1913.35] loss=3.20 avg=3.17\n",
            "[792 | 1915.65] loss=3.07 avg=3.17\n",
            "[793 | 1917.96] loss=3.15 avg=3.17\n",
            "[794 | 1920.26] loss=3.19 avg=3.17\n",
            "[795 | 1922.56] loss=3.39 avg=3.17\n",
            "[796 | 1924.87] loss=3.16 avg=3.17\n",
            "[797 | 1927.17] loss=3.25 avg=3.18\n",
            "[798 | 1929.47] loss=3.18 avg=3.18\n",
            "[799 | 1931.77] loss=3.12 avg=3.17\n",
            "[800 | 1934.07] loss=3.25 avg=3.18\n",
            "======== SAMPLE 1 ========\n",
            " landing into the woods. One of the dogs runs into the forest and shoots at her. The dog is a puppy named Buddy. He tells her he is leaving for Canada, but he leaves on his own terms, leaving her at the mercy of his new family. As Buddy is leaving the forest, he is approached by a stray dog. The dog attacks him, but the dog flees before it can be killed. The Dog takes it into the woods, but the dog makes no move on Buddy, who runs away. Buddy is rescued from the woods. Buddy soon grows to be in love with the dog's owner Annie, who is determined to become a leader in her new life. Buddy follows Annie as she gets to know her new family, and becomes increasingly involved in their lives. The dog is a puppy named Charlie, who is an excellent social dog and an affectionate companion. Charlie's owner, Bob, has become an abusive and bullying father and his daughter, Rosemary, whom he often calls home through bars and restaurants. Bob had been involved in a fight with Rosemary after she went to a country club, and after he lost his temper, said things like, \"I'm sorry, Bob, but Bob got him down.\" As they leave the club, Charlie finds Annie and her dog, which they say they will take care of. Bob's daughter, Rosemary, then goes off to the country club, and Annie gets caught up in the crowd after she catches Charlie's aggressive behavior. At the country club Annie tells Bob \"I wish I was married\", but Bob declines to have sex with her in any manner, but tells Annie to be wary, and that if Annie were to find out how Charlie lives with her, they would both get the same fate. In order to win Annie back, she has to give a dog something to eat and, as he is the first dog to be trained to be in the first class class, she is not interested in either. Annie soon realizes how much she has lost; not only is her dog in danger of being found, but she also fears losing Annie. After several attempts to make love to the dog, her friend Emily runs away from Bob, and she is about to run away when she sees her dog. She tries to fight back, but Annie breaks free from the dog, and Annie runs into the woods to finish her time. She and Charlie escape together to a nearby river. While Emily takes her dog home she decides to have Charlie spend the night. Annie, while still in her dog's pack, comes back, and is reunited with Annie and Charlie. = @ = Don't forget to say goodbye.<|endoftext|>\n",
            "<|startoftext|>In the present-day United States, the U.S. Supreme Court is deciding whether or not Texas was a state in the constitutional amendment of the Constitution to make sure that the U.S. government doesn't spend money on people with mental health problems. A federal judge has ordered the U.S. government to pay $741,000 in damages for allegedly violating the amendment. A federal judge rules that the damages are too little too late and sends the lawsuit back to the court. This decision sets a precedent that other states have had to follow to implement similar laws. When the US supreme court hears the appeal court's decision, Judge Paul Ryan (Brad Pitt) decides the case is one of the most important in history. His ruling sets the stage for states to continue to fight, making the courts the largest in the nation to decide the case, much like the decisions the constitution states to give federal authority to. The three judges who make up the court, including the US Supreme Court, have been appointed to judge the case. The three judges' decisions are: The first is Clarence Thomas, one of the three judges that originally decided the case, and was appointed by President George W. Bush as a finalist. The second is Anthony Kennedy, who was appointed by then President Barack Obama, and is now a federal judge. As a finalist, Thomas is confirmed. The final act also shifts the government's role of deciding states to the states. The first step is choosing the first judge. The Justice Department, headed by Deputy Attorney General Thomas is chosen to handle the case. The Justice Department also appoints two more judges, Dr. Alan Givens (John Goodman) as the new judge and Dr. James O'Toole (Timothy O'Brien) as the new federal judge. The four men have a good, and strong, legal fighting style. Justice Department officials, including Thomas, are able to get behind Thomas on the merits of the case. During hearings, Thomas is able to strike down a number of statements against the state's laws and is shown in court having to stand by himself in a wheelchair. When the two officials are called upon to decide whether or not the state law is right and the judge who's making the ruling, he is shown to lean toward the lawyer and the two men argue over which\n",
            "\n",
            "[801 | 1948.23] loss=3.54 avg=3.18\n",
            "[802 | 1950.54] loss=3.06 avg=3.18\n",
            "[803 | 1952.83] loss=3.25 avg=3.18\n",
            "[804 | 1955.13] loss=3.17 avg=3.18\n",
            "[805 | 1957.43] loss=3.20 avg=3.18\n",
            "[806 | 1959.73] loss=3.32 avg=3.18\n",
            "[807 | 1962.03] loss=3.16 avg=3.18\n",
            "[808 | 1964.32] loss=2.99 avg=3.18\n",
            "[809 | 1966.62] loss=3.27 avg=3.18\n",
            "[810 | 1968.92] loss=3.00 avg=3.18\n",
            "[811 | 1971.22] loss=3.15 avg=3.18\n",
            "[812 | 1973.52] loss=3.19 avg=3.18\n",
            "[813 | 1975.81] loss=3.04 avg=3.18\n",
            "[814 | 1978.11] loss=3.28 avg=3.18\n",
            "[815 | 1980.41] loss=3.28 avg=3.18\n",
            "[816 | 1982.71] loss=3.21 avg=3.18\n",
            "[817 | 1985.01] loss=3.26 avg=3.18\n",
            "[818 | 1987.31] loss=3.08 avg=3.18\n",
            "[819 | 1989.62] loss=3.06 avg=3.18\n",
            "[820 | 1991.92] loss=3.14 avg=3.18\n",
            "[821 | 1994.22] loss=3.21 avg=3.18\n",
            "[822 | 1996.53] loss=3.23 avg=3.18\n",
            "[823 | 1998.83] loss=3.18 avg=3.18\n",
            "[824 | 2001.13] loss=3.20 avg=3.18\n",
            "[825 | 2003.44] loss=3.15 avg=3.18\n",
            "[826 | 2005.74] loss=3.28 avg=3.18\n",
            "[827 | 2008.04] loss=3.22 avg=3.18\n",
            "[828 | 2010.34] loss=2.97 avg=3.18\n",
            "[829 | 2012.65] loss=3.05 avg=3.18\n",
            "[830 | 2014.94] loss=3.04 avg=3.17\n",
            "[831 | 2017.25] loss=3.26 avg=3.17\n",
            "[832 | 2019.55] loss=3.26 avg=3.18\n",
            "[833 | 2021.85] loss=2.97 avg=3.17\n",
            "[834 | 2024.15] loss=3.27 avg=3.17\n",
            "[835 | 2026.46] loss=3.27 avg=3.18\n",
            "[836 | 2028.76] loss=3.19 avg=3.18\n",
            "[837 | 2031.06] loss=3.13 avg=3.18\n",
            "[838 | 2033.36] loss=2.93 avg=3.17\n",
            "[839 | 2035.66] loss=3.22 avg=3.17\n",
            "[840 | 2037.97] loss=3.28 avg=3.17\n",
            "[841 | 2040.26] loss=3.16 avg=3.17\n",
            "[842 | 2042.57] loss=3.17 avg=3.17\n",
            "[843 | 2044.86] loss=3.11 avg=3.17\n",
            "[844 | 2047.16] loss=3.13 avg=3.17\n",
            "[845 | 2049.46] loss=3.23 avg=3.17\n",
            "[846 | 2051.77] loss=3.16 avg=3.17\n",
            "[847 | 2054.07] loss=3.24 avg=3.17\n",
            "[848 | 2056.37] loss=3.11 avg=3.17\n",
            "[849 | 2058.67] loss=3.17 avg=3.17\n",
            "[850 | 2060.97] loss=3.16 avg=3.17\n",
            "[851 | 2063.28] loss=3.19 avg=3.17\n",
            "[852 | 2065.58] loss=3.13 avg=3.17\n",
            "[853 | 2067.89] loss=3.26 avg=3.17\n",
            "[854 | 2070.19] loss=3.05 avg=3.17\n",
            "[855 | 2072.50] loss=3.19 avg=3.17\n",
            "[856 | 2074.80] loss=3.06 avg=3.17\n",
            "[857 | 2077.10] loss=3.32 avg=3.17\n",
            "[858 | 2079.40] loss=3.14 avg=3.17\n",
            "[859 | 2081.71] loss=3.08 avg=3.17\n",
            "[860 | 2084.01] loss=3.38 avg=3.17\n",
            "[861 | 2086.31] loss=3.20 avg=3.17\n",
            "[862 | 2088.62] loss=3.14 avg=3.17\n",
            "[863 | 2090.92] loss=3.03 avg=3.17\n",
            "[864 | 2093.23] loss=3.27 avg=3.17\n",
            "[865 | 2095.53] loss=3.11 avg=3.17\n",
            "[866 | 2097.83] loss=3.03 avg=3.17\n",
            "[867 | 2100.13] loss=3.15 avg=3.17\n",
            "[868 | 2102.43] loss=3.15 avg=3.17\n",
            "[869 | 2104.74] loss=3.38 avg=3.17\n",
            "[870 | 2107.04] loss=3.42 avg=3.18\n",
            "[871 | 2109.34] loss=3.16 avg=3.18\n",
            "[872 | 2111.65] loss=3.45 avg=3.18\n",
            "[873 | 2113.96] loss=3.03 avg=3.18\n",
            "[874 | 2116.26] loss=3.19 avg=3.18\n",
            "[875 | 2118.56] loss=3.07 avg=3.18\n",
            "[876 | 2120.87] loss=3.22 avg=3.18\n",
            "[877 | 2123.17] loss=3.11 avg=3.18\n",
            "[878 | 2125.48] loss=3.07 avg=3.17\n",
            "[879 | 2127.78] loss=3.25 avg=3.17\n",
            "[880 | 2130.09] loss=3.16 avg=3.17\n",
            "[881 | 2132.40] loss=3.24 avg=3.18\n",
            "[882 | 2134.71] loss=3.19 avg=3.18\n",
            "[883 | 2137.01] loss=3.41 avg=3.18\n",
            "[884 | 2139.32] loss=3.19 avg=3.18\n",
            "[885 | 2141.62] loss=3.22 avg=3.18\n",
            "[886 | 2143.92] loss=2.95 avg=3.18\n",
            "[887 | 2146.23] loss=3.22 avg=3.18\n",
            "[888 | 2148.54] loss=3.13 avg=3.18\n",
            "[889 | 2150.84] loss=3.16 avg=3.18\n",
            "[890 | 2153.14] loss=3.09 avg=3.18\n",
            "[891 | 2155.45] loss=3.15 avg=3.17\n",
            "[892 | 2157.75] loss=3.23 avg=3.18\n",
            "[893 | 2160.05] loss=3.16 avg=3.18\n",
            "[894 | 2162.36] loss=3.13 avg=3.17\n",
            "[895 | 2164.66] loss=3.14 avg=3.17\n",
            "[896 | 2166.96] loss=3.09 avg=3.17\n",
            "[897 | 2169.27] loss=3.18 avg=3.17\n",
            "[898 | 2171.58] loss=3.09 avg=3.17\n",
            "[899 | 2173.88] loss=3.23 avg=3.17\n",
            "[900 | 2176.18] loss=3.14 avg=3.17\n",
            "======== SAMPLE 1 ========\n",
            "|by David Brody\" – The Big Nite. = @ = All the fun you've had in all your life<|endoftext|>\n",
            "<|startoftext|>Shane \"Tob\" Boggs (Bradley Cooper) moves to New Jersey, where his aunt's (Nicole Kidman) brother, Danny's (Paul Dano), is working. He becomes a part of the \"tomb team\" under the tutelage of his friend and former teammate, the bandit Dr. \"Buck\" Buck (David Duchovny). He is sent to New York City with his friend and mentor Dr. \"Buck\" Buck (Ed Helms) to help him and the band \"Tob\" escape his cell, where he encounters a new brother named Jack (Robert De Niro). Jack's uncle \"Bill\" Buck also is a hit singer and drummer. He gets to a small, rundown hotel room in Central Park in an attempt to be alone again and start a band, which is to be called \"Juggler's Row\". After escaping an assassination attempt by the Mafia, he finally learns that his brother Jack is planning to take over the operation \"Juggler's Row\" and is going to kill himself as well. In the act of escape, the band goes to a nightclub where the masked \"Big Bill\" Buck is planning to ambush Jack and take over the place. Despite warning of what they are about to do to Jack, Jimmy and the others go on their own, hiding Jack and his friends from Big Bill. They begin their escape by running back to the club, where the security forces and the mob men are watching them for their crimes. Meanwhile, Jimmy and the others escape on a bus that Jack tells Jimmy and the band is following. There's some trouble with the cops. The gang are trying to track them down, using an illegal sting that they've made in Chicago. The bus is set on fire by an angry mob. However, it turns out there was a way out of the bus and Jimmy is able to escape. Jack also has another dream that he and The Big Bill are going there to kill Jack. Jimmy is able to take his gun and drive to the concert, but Billy is waiting outside the gate and they are waiting for Jimmy's security forces to arrive and take him to the roof and take Jimmy there. At that moment, Jack, Jimmy, Jimmy's fellow robbers \"Big Bill\" and \"Joe\" Buck, who had been preparing for them, see the bus burning and run for safety. They go to catch Big Bill and Billy and make their way back to the bus and then back to Jack's club. Jimmy and Jimmy's group leave the bus at the gate and Jack arrives and runs away the rest of the way. As Jimmy hides on the roof, Jimmy attempts to kill Big Bill and Billy. Jack then returns to the bus as Jimmy runs away. Jimmy and Billy run away in a taxi and find Jimmy's group. Big Bill tells Jimmy to put Jimmy in a car and he is to come and rescue Jimmy's friend \"Erik\" Buck, the musician who brought Jimmy to New York. Jimmy does so and Buck turns out to be Jimmy's nephew, a famous and infamous band in New York. The next morning Jimmy takes the bus back to the band's hideout that Buck stole. Jimmy's group is there for the ride back. Jimmy spots Buck, Jack and Jimmy Buck, who are all waiting outside the bus. Buck turns out to be Jimmy's partner in a scheme to take the two men to the roof. Jimmy has Jimmy get up from the roof and leave and Buck takes his place. Jimmy goes looking up at Buck who claims to have been Jimmy's uncle and tells him how he came to be in New York to help Jimmy, Buck, and Jimmy's band escape in time. Buck asks Jimmy where Buck is and Jimmy has Buck stay behind and watch them for their escape. Once Buck is inside Buck goes downstairs where he hears the men in the van talking about Buck and wants Buck to get them for taking them to the roof, Buck's room. Then Buck goes back upstairs to Jimmy Buck in Buck's room to get Buck's gun. Buck gets Buck's gun and they go out to grab it as Buck asks Buck to come back and save Buck and Buck's friends. Jimmy Buck and Buck, Buck, Buck and Buck's kids were also there for Buck's band escape through the night and Buck says he will come back with Buck's gun. Buck's kids, Buck, Buck, Buck's band, Jimmy Buck and Buck's band come back and Buck and Buck's band were all last night. Buck was waiting for Jimmy Buck when Buck arrives. Buck tells Buck he is going to catch Buck and Jimmy Buck turns out Buck's son Buck. Buck tells Buck Buck is right = @ = The band was once a hit with the Mafia<|endoftext|>\n",
            "<|startoftext|>It begins in 1912:\n",
            "\n",
            "[901 | 2190.50] loss=3.21 avg=3.17\n",
            "[902 | 2192.80] loss=3.10 avg=3.17\n",
            "[903 | 2195.11] loss=3.24 avg=3.17\n",
            "[904 | 2197.41] loss=3.26 avg=3.17\n",
            "[905 | 2199.72] loss=3.27 avg=3.18\n",
            "[906 | 2202.02] loss=3.12 avg=3.17\n",
            "[907 | 2204.32] loss=3.04 avg=3.17\n",
            "[908 | 2206.62] loss=3.13 avg=3.17\n",
            "[909 | 2208.93] loss=3.10 avg=3.17\n",
            "[910 | 2211.23] loss=3.06 avg=3.17\n",
            "[911 | 2213.53] loss=2.99 avg=3.17\n",
            "[912 | 2215.84] loss=3.05 avg=3.17\n",
            "[913 | 2218.13] loss=3.13 avg=3.17\n",
            "[914 | 2220.44] loss=3.08 avg=3.17\n",
            "[915 | 2222.74] loss=3.15 avg=3.17\n",
            "[916 | 2225.05] loss=3.09 avg=3.17\n",
            "[917 | 2227.35] loss=3.17 avg=3.17\n",
            "[918 | 2229.65] loss=3.19 avg=3.17\n",
            "[919 | 2231.95] loss=3.16 avg=3.17\n",
            "[920 | 2234.25] loss=3.16 avg=3.17\n",
            "[921 | 2236.55] loss=3.27 avg=3.17\n",
            "[922 | 2238.86] loss=3.27 avg=3.17\n",
            "[923 | 2241.16] loss=2.98 avg=3.17\n",
            "[924 | 2243.46] loss=3.10 avg=3.17\n",
            "[925 | 2245.76] loss=3.23 avg=3.17\n",
            "[926 | 2248.06] loss=3.24 avg=3.17\n",
            "[927 | 2250.36] loss=2.99 avg=3.17\n",
            "[928 | 2252.66] loss=3.05 avg=3.16\n",
            "[929 | 2254.96] loss=3.25 avg=3.16\n",
            "[930 | 2257.26] loss=3.21 avg=3.17\n",
            "[931 | 2259.57] loss=3.02 avg=3.16\n",
            "[932 | 2261.87] loss=3.17 avg=3.16\n",
            "[933 | 2264.17] loss=3.17 avg=3.16\n",
            "[934 | 2266.47] loss=3.08 avg=3.16\n",
            "[935 | 2268.77] loss=3.20 avg=3.16\n",
            "[936 | 2271.07] loss=3.28 avg=3.16\n",
            "[937 | 2273.38] loss=3.12 avg=3.16\n",
            "[938 | 2275.68] loss=3.01 avg=3.16\n",
            "[939 | 2277.98] loss=3.14 avg=3.16\n",
            "[940 | 2280.29] loss=3.26 avg=3.16\n",
            "[941 | 2282.59] loss=3.30 avg=3.16\n",
            "[942 | 2284.90] loss=3.20 avg=3.17\n",
            "[943 | 2287.20] loss=3.14 avg=3.16\n",
            "[944 | 2289.51] loss=3.11 avg=3.16\n",
            "[945 | 2291.81] loss=3.15 avg=3.16\n",
            "[946 | 2294.12] loss=3.01 avg=3.16\n",
            "[947 | 2296.43] loss=3.18 avg=3.16\n",
            "[948 | 2298.73] loss=3.10 avg=3.16\n",
            "[949 | 2301.04] loss=3.07 avg=3.16\n",
            "[950 | 2303.34] loss=2.99 avg=3.16\n",
            "[951 | 2305.65] loss=2.89 avg=3.16\n",
            "[952 | 2307.95] loss=3.13 avg=3.16\n",
            "[953 | 2310.26] loss=3.07 avg=3.16\n",
            "[954 | 2312.56] loss=3.26 avg=3.16\n",
            "[955 | 2314.86] loss=3.11 avg=3.16\n",
            "[956 | 2317.16] loss=3.19 avg=3.16\n",
            "[957 | 2319.47] loss=3.20 avg=3.16\n",
            "[958 | 2321.77] loss=3.15 avg=3.16\n",
            "[959 | 2324.07] loss=2.96 avg=3.16\n",
            "[960 | 2326.38] loss=3.06 avg=3.15\n",
            "[961 | 2328.68] loss=3.13 avg=3.15\n",
            "[962 | 2330.99] loss=3.18 avg=3.15\n",
            "[963 | 2333.29] loss=3.09 avg=3.15\n",
            "[964 | 2335.60] loss=3.21 avg=3.15\n",
            "[965 | 2337.90] loss=3.19 avg=3.15\n",
            "[966 | 2340.20] loss=3.11 avg=3.15\n",
            "[967 | 2342.51] loss=3.10 avg=3.15\n",
            "[968 | 2344.81] loss=3.19 avg=3.15\n",
            "[969 | 2347.12] loss=3.33 avg=3.16\n",
            "[970 | 2349.43] loss=3.05 avg=3.15\n",
            "[971 | 2351.73] loss=3.18 avg=3.15\n",
            "[972 | 2354.03] loss=2.95 avg=3.15\n",
            "[973 | 2356.34] loss=3.18 avg=3.15\n",
            "[974 | 2358.64] loss=3.27 avg=3.15\n",
            "[975 | 2360.95] loss=3.09 avg=3.15\n",
            "[976 | 2363.25] loss=3.23 avg=3.15\n",
            "[977 | 2365.56] loss=3.10 avg=3.15\n",
            "[978 | 2367.85] loss=3.08 avg=3.15\n",
            "[979 | 2370.16] loss=3.06 avg=3.15\n",
            "[980 | 2372.46] loss=3.14 avg=3.15\n",
            "[981 | 2374.77] loss=3.16 avg=3.15\n",
            "[982 | 2377.08] loss=3.13 avg=3.15\n",
            "[983 | 2379.38] loss=3.07 avg=3.15\n",
            "[984 | 2381.69] loss=3.20 avg=3.15\n",
            "[985 | 2383.99] loss=3.05 avg=3.15\n",
            "[986 | 2386.29] loss=3.21 avg=3.15\n",
            "[987 | 2388.60] loss=3.12 avg=3.15\n",
            "[988 | 2390.90] loss=3.21 avg=3.15\n",
            "[989 | 2393.21] loss=3.03 avg=3.15\n",
            "[990 | 2395.52] loss=3.32 avg=3.15\n",
            "[991 | 2397.82] loss=3.05 avg=3.15\n",
            "[992 | 2400.13] loss=3.06 avg=3.15\n",
            "[993 | 2402.43] loss=3.01 avg=3.15\n",
            "[994 | 2404.74] loss=3.06 avg=3.15\n",
            "[995 | 2407.05] loss=3.06 avg=3.15\n",
            "[996 | 2409.35] loss=2.94 avg=3.14\n",
            "[997 | 2411.66] loss=3.19 avg=3.15\n",
            "[998 | 2413.97] loss=3.21 avg=3.15\n",
            "[999 | 2416.28] loss=3.08 avg=3.15\n",
            "[1000 | 2418.59] loss=3.18 avg=3.15\n",
            "Saving checkpoint/run1/model-1000\n",
            "The audience is divided in bewilderment over the continuing presence of the President. In a small town in the south of England, the news of the death of the President makes its way through the newsroom, but the news is not as widely known. The congregation goes to their church, where their leader, Reverend John Buck (Roddy McDowall), and his aide, Mrs. Witty (Gemma Jones), are discussing the news. The newsman, Steve Nesmith (John Barry), is about to announce that the President has been found dead, but the congregation is not as well informed as it should be. When the newsman goes to the church to lay hands, the congregation is still shaken by the news. Unbeknownst to them, Buck is dead. The congregation is also gravely shocked by the news, as the President is not buried, nor is his remains found. The pastor, Reverend John Buck (Barry Skipper), believes that he has had a better life than the one he has been living. He has been living a long life in a home, a luxurious mansion, and continues to be cared for by his wife, Lady (Maria Doyle). The Reverend Buck then goes to the house where he is staying, where he meets Mrs. Witty and goes to her room. Mrs. Witty is shown to be very surprised and frightened by the news, but is then persuaded to go away by Buck. When Buck goes to the house to find the news, it is not Mrs. Witty, who is there, but Buck. Mrs. Witty hears the news and goes to the house, where she finds Buck and the Reverend Buck in bed. She is told that Buck has been dead for some time. She also hears that Buck has been dead for some time. It is said that Buck is alive and well, but Buck is not. He is a lonely man that has been living in a mud hut, but is not glad to be alone. Mrs. Witty suggests that Buck might be tied to a tree as a means of keeping him out of the house. That is how Buck hears the news. He goes to the tree and reads the news, and goes to the tree as well. He talks to Buck for a while until he becomes very lonely and begins to use Buck for food and other things. Buck goes back to the house and is soon quite tired. The Reverend Buck is not quite able to take Buck back in the house. The congregation goes to the house and tells Buck that there is a man named Henry in the house. He goes and meets Henry and often goes to the house. Henry is a man that Buck has not seen in years. Buck goes to the house to meet Henry, and Buck goes to meet Henry, who is in the house. Buck goes to the house and meets Henry and, as Buck is drinking from a cup, he is run over by a car. Buck goes to the house where he is still in bed, and Buck is told that the newsman is dead. When Buck goes to the house, Henry is there, and Buck and Henry are seated at a table. Buck and Henry are sitting together in a long table. Buck is sitting near the table, and Henry is listening to the news. Henry and Buck sit together and Buck, Henry, and Henry are talking. Henry asks Buck if he would like to go to the church, and Buck says that he does not. Henry asks Buck if Henry is willing to go to the church if he goes. Buck says yes, and Henry and Buck go to the church. Buck goes to the church and there is a young, beautiful woman, who is singing to him. She does not believe in God and believes that Buck is a selfish, selfish, evil, selfish, abusive, selfish, selfish, evil, and evil. Henry is singing the song of the Virgin Mary. Henry is weeping and crying and Buck is crying and crying. Buck goes to the church and there is a young woman, who is singing to him. She is holding a baby in her arms. Buck goes to the church, and there is a young man, who is singing to him. Buck goes to the church, and there is a young woman, who is holding a baby in her arms. Buck goes to the church and there is a young man, who is singing to him. Buck goes to the church and there is a young man, who is holding a baby in his arms. Buck goes to the church and there is a young woman, who is holding a baby in her arms. Buck goes to the church and there is a young man, who is singing to him. Buck goes to the church and there is a young man, who is singing to him. Buck goes to the church and there is a young man, who is holding a baby in his arms. Buck goes to the church and there is a young man, who is singing to him. Buck goes to the church and there is a young man, who is holding\n"
          ]
        }
      ]
    },
    {
      "cell_type": "code",
      "source": [
        "!cp -r checkpoint/ gdrive/MyDrive/IRE/"
      ],
      "metadata": {
        "id": "mWRT4Gwma6br"
      },
      "execution_count": null,
      "outputs": []
    },
    {
      "cell_type": "markdown",
      "source": [
        "# Inference\n",
        "\n",
        "Session needs to be restarted in order to perform inference on the test data.\n",
        "\n"
      ],
      "metadata": {
        "id": "zpLcbfxcR81t"
      }
    },
    {
      "cell_type": "code",
      "source": [
        "!cp -r gdrive/MyDrive/IRE/checkpoint ."
      ],
      "metadata": {
        "id": "Ys_gOQ2FTSQW"
      },
      "execution_count": 6,
      "outputs": []
    },
    {
      "cell_type": "code",
      "source": [
        "sess2 = gpt2.start_tf_sess()\n",
        "\n",
        "gpt2.load_gpt2(sess2,\n",
        "              run_name='run1')\n"
      ],
      "metadata": {
        "colab": {
          "base_uri": "https://localhost:8080/"
        },
        "id": "vMarDmSeq5ds",
        "outputId": "50737222-c9ad-4d46-8da3-d1c789900f41"
      },
      "execution_count": 7,
      "outputs": [
        {
          "output_type": "stream",
          "name": "stdout",
          "text": [
            "Loading checkpoint checkpoint/run1/model-1000\n"
          ]
        }
      ]
    },
    {
      "cell_type": "code",
      "source": [
        "test_file = os.path.join(base_folder, 'test.csv')\n",
        "test_df = pd.read_csv(test_file)\n",
        "plots = list(test_df['plot_synopsis'])\n",
        "test_df[['plot_synopsis', 'tagline']]"
      ],
      "metadata": {
        "colab": {
          "base_uri": "https://localhost:8080/",
          "height": 424
        },
        "id": "_BPVynJYusy5",
        "outputId": "0769e3fb-ae47-43e6-a1b3-8ed061ec2dd4"
      },
      "execution_count": 11,
      "outputs": [
        {
          "output_type": "execute_result",
          "data": {
            "text/plain": [
              "                                         plot_synopsis  \\\n",
              "0    It's August 9, 1985 in the year of Halley's Co...   \n",
              "1    Kuzco, a young selfish Inca emperor, rejects t...   \n",
              "2    The movie opens with titles and credits over a...   \n",
              "3    In Paris, bloodthirsty jewel thief Roger Sarte...   \n",
              "4    A young boy named Sean Donovan lives with his ...   \n",
              "..                                                 ...   \n",
              "836  Ivan Drago, a Russian Soviet boxer, arrives in...   \n",
              "837  In 1944, Lecter is eight years old, living in ...   \n",
              "838  The story revolves around a struggle to determ...   \n",
              "839  Jack Crow (James Woods) is a professional and ...   \n",
              "840  A high school prom in Georgia is unexpectedly ...   \n",
              "\n",
              "                                               tagline  \n",
              "0           In the blink of an eye, the terror begins.  \n",
              "1                               It's All About.....ME!  \n",
              "2                 Zombies of the African Voodoo coast!  \n",
              "3             Behind every gun is \"The Sicilian Clan!\"  \n",
              "4                                      Beware the Hero  \n",
              "..                                                 ...  \n",
              "836  He's facing the ultimate challenge. And fighti...  \n",
              "837                           It started with revenge.  \n",
              "838  He's Never Been To Earth. He's Never Even Slep...  \n",
              "839  From the Master of Evil. Comes a New Breed of ...  \n",
              "840                    It's their night to come alive.  \n",
              "\n",
              "[841 rows x 2 columns]"
            ],
            "text/html": [
              "\n",
              "  <div id=\"df-3d97359e-a3bb-4fa2-a76a-17b9cdffce1c\">\n",
              "    <div class=\"colab-df-container\">\n",
              "      <div>\n",
              "<style scoped>\n",
              "    .dataframe tbody tr th:only-of-type {\n",
              "        vertical-align: middle;\n",
              "    }\n",
              "\n",
              "    .dataframe tbody tr th {\n",
              "        vertical-align: top;\n",
              "    }\n",
              "\n",
              "    .dataframe thead th {\n",
              "        text-align: right;\n",
              "    }\n",
              "</style>\n",
              "<table border=\"1\" class=\"dataframe\">\n",
              "  <thead>\n",
              "    <tr style=\"text-align: right;\">\n",
              "      <th></th>\n",
              "      <th>plot_synopsis</th>\n",
              "      <th>tagline</th>\n",
              "    </tr>\n",
              "  </thead>\n",
              "  <tbody>\n",
              "    <tr>\n",
              "      <th>0</th>\n",
              "      <td>It's August 9, 1985 in the year of Halley's Co...</td>\n",
              "      <td>In the blink of an eye, the terror begins.</td>\n",
              "    </tr>\n",
              "    <tr>\n",
              "      <th>1</th>\n",
              "      <td>Kuzco, a young selfish Inca emperor, rejects t...</td>\n",
              "      <td>It's All About.....ME!</td>\n",
              "    </tr>\n",
              "    <tr>\n",
              "      <th>2</th>\n",
              "      <td>The movie opens with titles and credits over a...</td>\n",
              "      <td>Zombies of the African Voodoo coast!</td>\n",
              "    </tr>\n",
              "    <tr>\n",
              "      <th>3</th>\n",
              "      <td>In Paris, bloodthirsty jewel thief Roger Sarte...</td>\n",
              "      <td>Behind every gun is \"The Sicilian Clan!\"</td>\n",
              "    </tr>\n",
              "    <tr>\n",
              "      <th>4</th>\n",
              "      <td>A young boy named Sean Donovan lives with his ...</td>\n",
              "      <td>Beware the Hero</td>\n",
              "    </tr>\n",
              "    <tr>\n",
              "      <th>...</th>\n",
              "      <td>...</td>\n",
              "      <td>...</td>\n",
              "    </tr>\n",
              "    <tr>\n",
              "      <th>836</th>\n",
              "      <td>Ivan Drago, a Russian Soviet boxer, arrives in...</td>\n",
              "      <td>He's facing the ultimate challenge. And fighti...</td>\n",
              "    </tr>\n",
              "    <tr>\n",
              "      <th>837</th>\n",
              "      <td>In 1944, Lecter is eight years old, living in ...</td>\n",
              "      <td>It started with revenge.</td>\n",
              "    </tr>\n",
              "    <tr>\n",
              "      <th>838</th>\n",
              "      <td>The story revolves around a struggle to determ...</td>\n",
              "      <td>He's Never Been To Earth. He's Never Even Slep...</td>\n",
              "    </tr>\n",
              "    <tr>\n",
              "      <th>839</th>\n",
              "      <td>Jack Crow (James Woods) is a professional and ...</td>\n",
              "      <td>From the Master of Evil. Comes a New Breed of ...</td>\n",
              "    </tr>\n",
              "    <tr>\n",
              "      <th>840</th>\n",
              "      <td>A high school prom in Georgia is unexpectedly ...</td>\n",
              "      <td>It's their night to come alive.</td>\n",
              "    </tr>\n",
              "  </tbody>\n",
              "</table>\n",
              "<p>841 rows × 2 columns</p>\n",
              "</div>\n",
              "      <button class=\"colab-df-convert\" onclick=\"convertToInteractive('df-3d97359e-a3bb-4fa2-a76a-17b9cdffce1c')\"\n",
              "              title=\"Convert this dataframe to an interactive table.\"\n",
              "              style=\"display:none;\">\n",
              "        \n",
              "  <svg xmlns=\"http://www.w3.org/2000/svg\" height=\"24px\"viewBox=\"0 0 24 24\"\n",
              "       width=\"24px\">\n",
              "    <path d=\"M0 0h24v24H0V0z\" fill=\"none\"/>\n",
              "    <path d=\"M18.56 5.44l.94 2.06.94-2.06 2.06-.94-2.06-.94-.94-2.06-.94 2.06-2.06.94zm-11 1L8.5 8.5l.94-2.06 2.06-.94-2.06-.94L8.5 2.5l-.94 2.06-2.06.94zm10 10l.94 2.06.94-2.06 2.06-.94-2.06-.94-.94-2.06-.94 2.06-2.06.94z\"/><path d=\"M17.41 7.96l-1.37-1.37c-.4-.4-.92-.59-1.43-.59-.52 0-1.04.2-1.43.59L10.3 9.45l-7.72 7.72c-.78.78-.78 2.05 0 2.83L4 21.41c.39.39.9.59 1.41.59.51 0 1.02-.2 1.41-.59l7.78-7.78 2.81-2.81c.8-.78.8-2.07 0-2.86zM5.41 20L4 18.59l7.72-7.72 1.47 1.35L5.41 20z\"/>\n",
              "  </svg>\n",
              "      </button>\n",
              "      \n",
              "  <style>\n",
              "    .colab-df-container {\n",
              "      display:flex;\n",
              "      flex-wrap:wrap;\n",
              "      gap: 12px;\n",
              "    }\n",
              "\n",
              "    .colab-df-convert {\n",
              "      background-color: #E8F0FE;\n",
              "      border: none;\n",
              "      border-radius: 50%;\n",
              "      cursor: pointer;\n",
              "      display: none;\n",
              "      fill: #1967D2;\n",
              "      height: 32px;\n",
              "      padding: 0 0 0 0;\n",
              "      width: 32px;\n",
              "    }\n",
              "\n",
              "    .colab-df-convert:hover {\n",
              "      background-color: #E2EBFA;\n",
              "      box-shadow: 0px 1px 2px rgba(60, 64, 67, 0.3), 0px 1px 3px 1px rgba(60, 64, 67, 0.15);\n",
              "      fill: #174EA6;\n",
              "    }\n",
              "\n",
              "    [theme=dark] .colab-df-convert {\n",
              "      background-color: #3B4455;\n",
              "      fill: #D2E3FC;\n",
              "    }\n",
              "\n",
              "    [theme=dark] .colab-df-convert:hover {\n",
              "      background-color: #434B5C;\n",
              "      box-shadow: 0px 1px 3px 1px rgba(0, 0, 0, 0.15);\n",
              "      filter: drop-shadow(0px 1px 2px rgba(0, 0, 0, 0.3));\n",
              "      fill: #FFFFFF;\n",
              "    }\n",
              "  </style>\n",
              "\n",
              "      <script>\n",
              "        const buttonEl =\n",
              "          document.querySelector('#df-3d97359e-a3bb-4fa2-a76a-17b9cdffce1c button.colab-df-convert');\n",
              "        buttonEl.style.display =\n",
              "          google.colab.kernel.accessAllowed ? 'block' : 'none';\n",
              "\n",
              "        async function convertToInteractive(key) {\n",
              "          const element = document.querySelector('#df-3d97359e-a3bb-4fa2-a76a-17b9cdffce1c');\n",
              "          const dataTable =\n",
              "            await google.colab.kernel.invokeFunction('convertToInteractive',\n",
              "                                                     [key], {});\n",
              "          if (!dataTable) return;\n",
              "\n",
              "          const docLinkHtml = 'Like what you see? Visit the ' +\n",
              "            '<a target=\"_blank\" href=https://colab.research.google.com/notebooks/data_table.ipynb>data table notebook</a>'\n",
              "            + ' to learn more about interactive tables.';\n",
              "          element.innerHTML = '';\n",
              "          dataTable['output_type'] = 'display_data';\n",
              "          await google.colab.output.renderOutput(dataTable, element);\n",
              "          const docLink = document.createElement('div');\n",
              "          docLink.innerHTML = docLinkHtml;\n",
              "          element.appendChild(docLink);\n",
              "        }\n",
              "      </script>\n",
              "    </div>\n",
              "  </div>\n",
              "  "
            ]
          },
          "metadata": {},
          "execution_count": 11
        }
      ]
    },
    {
      "cell_type": "code",
      "source": [
        "results = []\n",
        "for i, x in tqdm(enumerate(plots)):\n",
        "  if i % 15 == 0:  # restart session for speed-up\n",
        "    tf.compat.v1.reset_default_graph()\n",
        "    sess2 = gpt2.start_tf_sess()\n",
        "    gpt2.load_gpt2(sess2, run_name='run1')\n",
        "\n",
        "  p = ' '.join(x.split()[:600]) + ' = @ = '\n",
        "  pred = gpt2.generate(sess2, model_name=model_name,\n",
        "              #run_name=run_name, checkpoint_dir=checkpoint_dir,\n",
        "              temperature=0.7, include_prefix=False, prefix=p,\n",
        "              truncate='<|endoftext|>', nsamples=1, length=20,\n",
        "              return_as_list=True\n",
        "              )[0]\n",
        "  results.append(pred.replace(p, '', 1))"
      ],
      "metadata": {
        "colab": {
          "base_uri": "https://localhost:8080/"
        },
        "id": "yuFfiEdrwTo8",
        "outputId": "bd4222fb-06b7-419e-e0e7-a4edf3440e1e"
      },
      "execution_count": 13,
      "outputs": [
        {
          "metadata": {
            "tags": null
          },
          "name": "stderr",
          "output_type": "stream",
          "text": [
            "\r0it [00:00, ?it/s]"
          ]
        },
        {
          "metadata": {
            "tags": null
          },
          "name": "stdout",
          "output_type": "stream",
          "text": [
            "Loading checkpoint checkpoint/run1/model-1000\n"
          ]
        },
        {
          "metadata": {
            "tags": null
          },
          "name": "stderr",
          "output_type": "stream",
          "text": [
            "15it [01:19,  6.01s/it]"
          ]
        },
        {
          "metadata": {
            "tags": null
          },
          "name": "stdout",
          "output_type": "stream",
          "text": [
            "Loading checkpoint checkpoint/run1/model-1000\n"
          ]
        },
        {
          "metadata": {
            "tags": null
          },
          "name": "stderr",
          "output_type": "stream",
          "text": [
            "30it [02:43,  6.22s/it]"
          ]
        },
        {
          "metadata": {
            "tags": null
          },
          "name": "stdout",
          "output_type": "stream",
          "text": [
            "Loading checkpoint checkpoint/run1/model-1000\n"
          ]
        },
        {
          "metadata": {
            "tags": null
          },
          "name": "stderr",
          "output_type": "stream",
          "text": [
            "45it [04:10,  6.56s/it]"
          ]
        },
        {
          "metadata": {
            "tags": null
          },
          "name": "stdout",
          "output_type": "stream",
          "text": [
            "Loading checkpoint checkpoint/run1/model-1000\n"
          ]
        },
        {
          "metadata": {
            "tags": null
          },
          "name": "stderr",
          "output_type": "stream",
          "text": [
            "60it [05:35,  6.38s/it]"
          ]
        },
        {
          "metadata": {
            "tags": null
          },
          "name": "stdout",
          "output_type": "stream",
          "text": [
            "Loading checkpoint checkpoint/run1/model-1000\n"
          ]
        },
        {
          "metadata": {
            "tags": null
          },
          "name": "stderr",
          "output_type": "stream",
          "text": [
            "75it [07:00,  6.22s/it]"
          ]
        },
        {
          "metadata": {
            "tags": null
          },
          "name": "stdout",
          "output_type": "stream",
          "text": [
            "Loading checkpoint checkpoint/run1/model-1000\n"
          ]
        },
        {
          "metadata": {
            "tags": null
          },
          "name": "stderr",
          "output_type": "stream",
          "text": [
            "90it [08:26,  6.30s/it]"
          ]
        },
        {
          "metadata": {
            "tags": null
          },
          "name": "stdout",
          "output_type": "stream",
          "text": [
            "Loading checkpoint checkpoint/run1/model-1000\n"
          ]
        },
        {
          "metadata": {
            "tags": null
          },
          "name": "stderr",
          "output_type": "stream",
          "text": [
            "105it [09:49,  6.06s/it]"
          ]
        },
        {
          "metadata": {
            "tags": null
          },
          "name": "stdout",
          "output_type": "stream",
          "text": [
            "Loading checkpoint checkpoint/run1/model-1000\n"
          ]
        },
        {
          "metadata": {
            "tags": null
          },
          "name": "stderr",
          "output_type": "stream",
          "text": [
            "120it [11:14,  6.33s/it]"
          ]
        },
        {
          "metadata": {
            "tags": null
          },
          "name": "stdout",
          "output_type": "stream",
          "text": [
            "Loading checkpoint checkpoint/run1/model-1000\n"
          ]
        },
        {
          "metadata": {
            "tags": null
          },
          "name": "stderr",
          "output_type": "stream",
          "text": [
            "135it [12:37,  6.22s/it]"
          ]
        },
        {
          "metadata": {
            "tags": null
          },
          "name": "stdout",
          "output_type": "stream",
          "text": [
            "Loading checkpoint checkpoint/run1/model-1000\n"
          ]
        },
        {
          "metadata": {
            "tags": null
          },
          "name": "stderr",
          "output_type": "stream",
          "text": [
            "150it [14:03,  6.21s/it]"
          ]
        },
        {
          "metadata": {
            "tags": null
          },
          "name": "stdout",
          "output_type": "stream",
          "text": [
            "Loading checkpoint checkpoint/run1/model-1000\n"
          ]
        },
        {
          "metadata": {
            "tags": null
          },
          "name": "stderr",
          "output_type": "stream",
          "text": [
            "165it [15:27,  6.16s/it]"
          ]
        },
        {
          "metadata": {
            "tags": null
          },
          "name": "stdout",
          "output_type": "stream",
          "text": [
            "Loading checkpoint checkpoint/run1/model-1000\n"
          ]
        },
        {
          "metadata": {
            "tags": null
          },
          "name": "stderr",
          "output_type": "stream",
          "text": [
            "180it [16:51,  6.16s/it]"
          ]
        },
        {
          "metadata": {
            "tags": null
          },
          "name": "stdout",
          "output_type": "stream",
          "text": [
            "Loading checkpoint checkpoint/run1/model-1000\n"
          ]
        },
        {
          "metadata": {
            "tags": null
          },
          "name": "stderr",
          "output_type": "stream",
          "text": [
            "195it [18:18,  6.56s/it]"
          ]
        },
        {
          "metadata": {
            "tags": null
          },
          "name": "stdout",
          "output_type": "stream",
          "text": [
            "Loading checkpoint checkpoint/run1/model-1000\n"
          ]
        },
        {
          "metadata": {
            "tags": null
          },
          "name": "stderr",
          "output_type": "stream",
          "text": [
            "210it [19:41,  6.16s/it]"
          ]
        },
        {
          "metadata": {
            "tags": null
          },
          "name": "stdout",
          "output_type": "stream",
          "text": [
            "Loading checkpoint checkpoint/run1/model-1000\n"
          ]
        },
        {
          "metadata": {
            "tags": null
          },
          "name": "stderr",
          "output_type": "stream",
          "text": [
            "225it [21:04,  6.14s/it]"
          ]
        },
        {
          "metadata": {
            "tags": null
          },
          "name": "stdout",
          "output_type": "stream",
          "text": [
            "Loading checkpoint checkpoint/run1/model-1000\n"
          ]
        },
        {
          "metadata": {
            "tags": null
          },
          "name": "stderr",
          "output_type": "stream",
          "text": [
            "240it [22:29,  6.23s/it]"
          ]
        },
        {
          "metadata": {
            "tags": null
          },
          "name": "stdout",
          "output_type": "stream",
          "text": [
            "Loading checkpoint checkpoint/run1/model-1000\n"
          ]
        },
        {
          "metadata": {
            "tags": null
          },
          "name": "stderr",
          "output_type": "stream",
          "text": [
            "255it [23:54,  6.35s/it]"
          ]
        },
        {
          "metadata": {
            "tags": null
          },
          "name": "stdout",
          "output_type": "stream",
          "text": [
            "Loading checkpoint checkpoint/run1/model-1000\n"
          ]
        },
        {
          "metadata": {
            "tags": null
          },
          "name": "stderr",
          "output_type": "stream",
          "text": [
            "270it [25:21,  6.52s/it]"
          ]
        },
        {
          "metadata": {
            "tags": null
          },
          "name": "stdout",
          "output_type": "stream",
          "text": [
            "Loading checkpoint checkpoint/run1/model-1000\n"
          ]
        },
        {
          "metadata": {
            "tags": null
          },
          "name": "stderr",
          "output_type": "stream",
          "text": [
            "285it [26:48,  6.34s/it]"
          ]
        },
        {
          "metadata": {
            "tags": null
          },
          "name": "stdout",
          "output_type": "stream",
          "text": [
            "Loading checkpoint checkpoint/run1/model-1000\n"
          ]
        },
        {
          "metadata": {
            "tags": null
          },
          "name": "stderr",
          "output_type": "stream",
          "text": [
            "300it [28:14,  6.45s/it]"
          ]
        },
        {
          "metadata": {
            "tags": null
          },
          "name": "stdout",
          "output_type": "stream",
          "text": [
            "Loading checkpoint checkpoint/run1/model-1000\n"
          ]
        },
        {
          "metadata": {
            "tags": null
          },
          "name": "stderr",
          "output_type": "stream",
          "text": [
            "315it [29:39,  6.65s/it]"
          ]
        },
        {
          "metadata": {
            "tags": null
          },
          "name": "stdout",
          "output_type": "stream",
          "text": [
            "Loading checkpoint checkpoint/run1/model-1000\n"
          ]
        },
        {
          "metadata": {
            "tags": null
          },
          "name": "stderr",
          "output_type": "stream",
          "text": [
            "330it [31:06,  6.58s/it]"
          ]
        },
        {
          "metadata": {
            "tags": null
          },
          "name": "stdout",
          "output_type": "stream",
          "text": [
            "Loading checkpoint checkpoint/run1/model-1000\n"
          ]
        },
        {
          "metadata": {
            "tags": null
          },
          "name": "stderr",
          "output_type": "stream",
          "text": [
            "345it [32:33,  6.43s/it]"
          ]
        },
        {
          "metadata": {
            "tags": null
          },
          "name": "stdout",
          "output_type": "stream",
          "text": [
            "Loading checkpoint checkpoint/run1/model-1000\n"
          ]
        },
        {
          "metadata": {
            "tags": null
          },
          "name": "stderr",
          "output_type": "stream",
          "text": [
            "360it [33:58,  6.24s/it]"
          ]
        },
        {
          "metadata": {
            "tags": null
          },
          "name": "stdout",
          "output_type": "stream",
          "text": [
            "Loading checkpoint checkpoint/run1/model-1000\n"
          ]
        },
        {
          "metadata": {
            "tags": null
          },
          "name": "stderr",
          "output_type": "stream",
          "text": [
            "375it [35:23,  6.28s/it]"
          ]
        },
        {
          "metadata": {
            "tags": null
          },
          "name": "stdout",
          "output_type": "stream",
          "text": [
            "Loading checkpoint checkpoint/run1/model-1000\n"
          ]
        },
        {
          "metadata": {
            "tags": null
          },
          "name": "stderr",
          "output_type": "stream",
          "text": [
            "390it [36:48,  6.38s/it]"
          ]
        },
        {
          "metadata": {
            "tags": null
          },
          "name": "stdout",
          "output_type": "stream",
          "text": [
            "Loading checkpoint checkpoint/run1/model-1000\n"
          ]
        },
        {
          "metadata": {
            "tags": null
          },
          "name": "stderr",
          "output_type": "stream",
          "text": [
            "405it [38:14,  6.27s/it]"
          ]
        },
        {
          "metadata": {
            "tags": null
          },
          "name": "stdout",
          "output_type": "stream",
          "text": [
            "Loading checkpoint checkpoint/run1/model-1000\n"
          ]
        },
        {
          "metadata": {
            "tags": null
          },
          "name": "stderr",
          "output_type": "stream",
          "text": [
            "420it [39:39,  6.24s/it]"
          ]
        },
        {
          "metadata": {
            "tags": null
          },
          "name": "stdout",
          "output_type": "stream",
          "text": [
            "Loading checkpoint checkpoint/run1/model-1000\n"
          ]
        },
        {
          "metadata": {
            "tags": null
          },
          "name": "stderr",
          "output_type": "stream",
          "text": [
            "435it [41:05,  6.46s/it]"
          ]
        },
        {
          "metadata": {
            "tags": null
          },
          "name": "stdout",
          "output_type": "stream",
          "text": [
            "Loading checkpoint checkpoint/run1/model-1000\n"
          ]
        },
        {
          "metadata": {
            "tags": null
          },
          "name": "stderr",
          "output_type": "stream",
          "text": [
            "450it [42:31,  6.39s/it]"
          ]
        },
        {
          "metadata": {
            "tags": null
          },
          "name": "stdout",
          "output_type": "stream",
          "text": [
            "Loading checkpoint checkpoint/run1/model-1000\n"
          ]
        },
        {
          "metadata": {
            "tags": null
          },
          "name": "stderr",
          "output_type": "stream",
          "text": [
            "465it [43:56,  6.26s/it]"
          ]
        },
        {
          "metadata": {
            "tags": null
          },
          "name": "stdout",
          "output_type": "stream",
          "text": [
            "Loading checkpoint checkpoint/run1/model-1000\n"
          ]
        },
        {
          "metadata": {
            "tags": null
          },
          "name": "stderr",
          "output_type": "stream",
          "text": [
            "480it [45:21,  6.27s/it]"
          ]
        },
        {
          "metadata": {
            "tags": null
          },
          "name": "stdout",
          "output_type": "stream",
          "text": [
            "Loading checkpoint checkpoint/run1/model-1000\n"
          ]
        },
        {
          "metadata": {
            "tags": null
          },
          "name": "stderr",
          "output_type": "stream",
          "text": [
            "495it [46:47,  6.42s/it]"
          ]
        },
        {
          "metadata": {
            "tags": null
          },
          "name": "stdout",
          "output_type": "stream",
          "text": [
            "Loading checkpoint checkpoint/run1/model-1000\n"
          ]
        },
        {
          "metadata": {
            "tags": null
          },
          "name": "stderr",
          "output_type": "stream",
          "text": [
            "510it [48:13,  6.36s/it]"
          ]
        },
        {
          "metadata": {
            "tags": null
          },
          "name": "stdout",
          "output_type": "stream",
          "text": [
            "Loading checkpoint checkpoint/run1/model-1000\n"
          ]
        },
        {
          "metadata": {
            "tags": null
          },
          "name": "stderr",
          "output_type": "stream",
          "text": [
            "525it [49:38,  6.33s/it]"
          ]
        },
        {
          "metadata": {
            "tags": null
          },
          "name": "stdout",
          "output_type": "stream",
          "text": [
            "Loading checkpoint checkpoint/run1/model-1000\n"
          ]
        },
        {
          "output_type": "stream",
          "name": "stderr",
          "text": [
            "540it [51:03,  6.60s/it]"
          ]
        },
        {
          "output_type": "stream",
          "name": "stdout",
          "text": [
            "Loading checkpoint checkpoint/run1/model-1000\n"
          ]
        },
        {
          "output_type": "stream",
          "name": "stderr",
          "text": [
            "555it [52:29,  6.46s/it]"
          ]
        },
        {
          "output_type": "stream",
          "name": "stdout",
          "text": [
            "Loading checkpoint checkpoint/run1/model-1000\n"
          ]
        },
        {
          "output_type": "stream",
          "name": "stderr",
          "text": [
            "570it [53:55,  6.33s/it]"
          ]
        },
        {
          "output_type": "stream",
          "name": "stdout",
          "text": [
            "Loading checkpoint checkpoint/run1/model-1000\n"
          ]
        },
        {
          "output_type": "stream",
          "name": "stderr",
          "text": [
            "585it [55:20,  6.42s/it]"
          ]
        },
        {
          "output_type": "stream",
          "name": "stdout",
          "text": [
            "Loading checkpoint checkpoint/run1/model-1000\n"
          ]
        },
        {
          "output_type": "stream",
          "name": "stderr",
          "text": [
            "600it [56:45,  6.66s/it]"
          ]
        },
        {
          "output_type": "stream",
          "name": "stdout",
          "text": [
            "Loading checkpoint checkpoint/run1/model-1000\n"
          ]
        },
        {
          "output_type": "stream",
          "name": "stderr",
          "text": [
            "615it [58:11,  6.51s/it]"
          ]
        },
        {
          "output_type": "stream",
          "name": "stdout",
          "text": [
            "Loading checkpoint checkpoint/run1/model-1000\n"
          ]
        },
        {
          "output_type": "stream",
          "name": "stderr",
          "text": [
            "630it [59:37,  6.36s/it]"
          ]
        },
        {
          "output_type": "stream",
          "name": "stdout",
          "text": [
            "Loading checkpoint checkpoint/run1/model-1000\n"
          ]
        },
        {
          "output_type": "stream",
          "name": "stderr",
          "text": [
            "645it [1:01:02,  6.18s/it]"
          ]
        },
        {
          "output_type": "stream",
          "name": "stdout",
          "text": [
            "Loading checkpoint checkpoint/run1/model-1000\n"
          ]
        },
        {
          "output_type": "stream",
          "name": "stderr",
          "text": [
            "660it [1:02:26,  6.14s/it]"
          ]
        },
        {
          "output_type": "stream",
          "name": "stdout",
          "text": [
            "Loading checkpoint checkpoint/run1/model-1000\n"
          ]
        },
        {
          "output_type": "stream",
          "name": "stderr",
          "text": [
            "675it [1:03:51,  6.30s/it]"
          ]
        },
        {
          "output_type": "stream",
          "name": "stdout",
          "text": [
            "Loading checkpoint checkpoint/run1/model-1000\n"
          ]
        },
        {
          "output_type": "stream",
          "name": "stderr",
          "text": [
            "690it [1:05:16,  6.18s/it]"
          ]
        },
        {
          "output_type": "stream",
          "name": "stdout",
          "text": [
            "Loading checkpoint checkpoint/run1/model-1000\n"
          ]
        },
        {
          "output_type": "stream",
          "name": "stderr",
          "text": [
            "705it [1:06:42,  6.85s/it]"
          ]
        },
        {
          "output_type": "stream",
          "name": "stdout",
          "text": [
            "Loading checkpoint checkpoint/run1/model-1000\n"
          ]
        },
        {
          "output_type": "stream",
          "name": "stderr",
          "text": [
            "720it [1:08:09,  6.66s/it]"
          ]
        },
        {
          "output_type": "stream",
          "name": "stdout",
          "text": [
            "Loading checkpoint checkpoint/run1/model-1000\n"
          ]
        },
        {
          "output_type": "stream",
          "name": "stderr",
          "text": [
            "735it [1:09:35,  6.51s/it]"
          ]
        },
        {
          "output_type": "stream",
          "name": "stdout",
          "text": [
            "Loading checkpoint checkpoint/run1/model-1000\n"
          ]
        },
        {
          "output_type": "stream",
          "name": "stderr",
          "text": [
            "750it [1:11:01,  6.31s/it]"
          ]
        },
        {
          "output_type": "stream",
          "name": "stdout",
          "text": [
            "Loading checkpoint checkpoint/run1/model-1000\n"
          ]
        },
        {
          "output_type": "stream",
          "name": "stderr",
          "text": [
            "765it [1:12:26,  6.34s/it]"
          ]
        },
        {
          "output_type": "stream",
          "name": "stdout",
          "text": [
            "Loading checkpoint checkpoint/run1/model-1000\n"
          ]
        },
        {
          "output_type": "stream",
          "name": "stderr",
          "text": [
            "780it [1:13:51,  6.50s/it]"
          ]
        },
        {
          "output_type": "stream",
          "name": "stdout",
          "text": [
            "Loading checkpoint checkpoint/run1/model-1000\n"
          ]
        },
        {
          "output_type": "stream",
          "name": "stderr",
          "text": [
            "795it [1:15:17,  6.40s/it]"
          ]
        },
        {
          "output_type": "stream",
          "name": "stdout",
          "text": [
            "Loading checkpoint checkpoint/run1/model-1000\n"
          ]
        },
        {
          "output_type": "stream",
          "name": "stderr",
          "text": [
            "810it [1:16:41,  6.21s/it]"
          ]
        },
        {
          "output_type": "stream",
          "name": "stdout",
          "text": [
            "Loading checkpoint checkpoint/run1/model-1000\n"
          ]
        },
        {
          "output_type": "stream",
          "name": "stderr",
          "text": [
            "825it [1:18:05,  6.16s/it]"
          ]
        },
        {
          "output_type": "stream",
          "name": "stdout",
          "text": [
            "Loading checkpoint checkpoint/run1/model-1000\n"
          ]
        },
        {
          "output_type": "stream",
          "name": "stderr",
          "text": [
            "840it [1:19:31,  6.62s/it]"
          ]
        },
        {
          "output_type": "stream",
          "name": "stdout",
          "text": [
            "Loading checkpoint checkpoint/run1/model-1000\n"
          ]
        },
        {
          "output_type": "stream",
          "name": "stderr",
          "text": [
            "841it [1:19:39,  5.68s/it]\n"
          ]
        }
      ]
    },
    {
      "cell_type": "code",
      "source": [
        "test_df['predictions'] = results"
      ],
      "metadata": {
        "id": "bfw4nPjEwlpj"
      },
      "execution_count": 15,
      "outputs": []
    },
    {
      "cell_type": "code",
      "source": [
        "test_df.to_csv(os.path.join(base_folder, 'GPT', 'results.csv'), index=False)"
      ],
      "metadata": {
        "id": "pA4nv3nmxNVd"
      },
      "execution_count": 18,
      "outputs": []
    },
    {
      "cell_type": "code",
      "source": [],
      "metadata": {
        "id": "YAj95sUcsTy2"
      },
      "execution_count": null,
      "outputs": []
    }
  ]
}