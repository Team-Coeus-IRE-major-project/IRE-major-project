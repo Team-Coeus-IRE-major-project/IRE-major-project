{
 "cells": [
  {
   "cell_type": "markdown",
   "metadata": {},
   "source": [
    "## **Import the Libraries & Getting Data**"
   ]
  },
  {
   "cell_type": "code",
   "execution_count": 7,
   "metadata": {
    "execution": {
     "iopub.execute_input": "2022-11-07T10:27:49.667151Z",
     "iopub.status.busy": "2022-11-07T10:27:49.666834Z",
     "iopub.status.idle": "2022-11-07T10:27:49.678251Z",
     "shell.execute_reply": "2022-11-07T10:27:49.677148Z",
     "shell.execute_reply.started": "2022-11-07T10:27:49.667120Z"
    }
   },
   "outputs": [],
   "source": [
    "import pandas as pd\n",
    "import numpy as np\n",
    "import matplotlib.pyplot as plt\n",
    "%matplotlib inline"
   ]
  },
  {
   "cell_type": "code",
   "execution_count": 8,
   "metadata": {
    "execution": {
     "iopub.execute_input": "2022-11-07T10:27:49.680304Z",
     "iopub.status.busy": "2022-11-07T10:27:49.679884Z",
     "iopub.status.idle": "2022-11-07T10:27:52.728694Z",
     "shell.execute_reply": "2022-11-07T10:27:52.727541Z",
     "shell.execute_reply.started": "2022-11-07T10:27:49.680270Z"
    }
   },
   "outputs": [
    {
     "name": "stderr",
     "output_type": "stream",
     "text": [
      "/tmp/ipykernel_196547/842541664.py:1: DtypeWarning: Columns (10) have mixed types. Specify dtype option on import or set low_memory=False.\n",
      "  movie_metadata = pd.read_csv('../data/movies_metadata.csv')\n"
     ]
    }
   ],
   "source": [
    "movie_metadata = pd.read_csv('../data/movies_metadata.csv')\n",
    "mpst_data = pd.read_csv('../data/mpst_full_data.csv')"
   ]
  },
  {
   "cell_type": "markdown",
   "metadata": {},
   "source": [
    "### **Merging both mpst and movies_metadata files based on imdb_id to get our final dataset**"
   ]
  },
  {
   "cell_type": "code",
   "execution_count": 9,
   "metadata": {
    "execution": {
     "iopub.execute_input": "2022-11-07T10:27:52.731768Z",
     "iopub.status.busy": "2022-11-07T10:27:52.731397Z",
     "iopub.status.idle": "2022-11-07T10:27:52.793363Z",
     "shell.execute_reply": "2022-11-07T10:27:52.792503Z",
     "shell.execute_reply.started": "2022-11-07T10:27:52.731730Z"
    }
   },
   "outputs": [
    {
     "data": {
      "text/plain": [
       "Index(['adult', 'belongs_to_collection', 'budget', 'genres', 'homepage', 'id',\n",
       "       'imdb_id', 'original_language', 'original_title', 'overview',\n",
       "       'popularity', 'poster_path', 'production_companies',\n",
       "       'production_countries', 'release_date', 'revenue', 'runtime',\n",
       "       'spoken_languages', 'status', 'tagline', 'title_x', 'video',\n",
       "       'vote_average', 'vote_count', 'title_y', 'plot_synopsis', 'tags',\n",
       "       'split', 'synopsis_source'],\n",
       "      dtype='object')"
      ]
     },
     "execution_count": 9,
     "metadata": {},
     "output_type": "execute_result"
    }
   ],
   "source": [
    "dataset = pd.merge(movie_metadata , mpst_data, on='imdb_id')\n",
    "dataset.columns"
   ]
  },
  {
   "cell_type": "code",
   "execution_count": 10,
   "metadata": {
    "execution": {
     "iopub.execute_input": "2022-11-07T10:27:52.796806Z",
     "iopub.status.busy": "2022-11-07T10:27:52.796503Z",
     "iopub.status.idle": "2022-11-07T10:27:52.818849Z",
     "shell.execute_reply": "2022-11-07T10:27:52.817831Z",
     "shell.execute_reply.started": "2022-11-07T10:27:52.796779Z"
    }
   },
   "outputs": [
    {
     "data": {
      "text/plain": [
       "(11387, 3)"
      ]
     },
     "execution_count": 10,
     "metadata": {},
     "output_type": "execute_result"
    }
   ],
   "source": [
    "dataset = dataset[['tagline','plot_synopsis','overview']]\n",
    "dataset.shape"
   ]
  },
  {
   "cell_type": "markdown",
   "metadata": {},
   "source": [
    "## **Dataset Cleaning**"
   ]
  },
  {
   "cell_type": "code",
   "execution_count": 11,
   "metadata": {
    "execution": {
     "iopub.execute_input": "2022-11-07T10:27:52.820645Z",
     "iopub.status.busy": "2022-11-07T10:27:52.820299Z",
     "iopub.status.idle": "2022-11-07T10:27:52.962942Z",
     "shell.execute_reply": "2022-11-07T10:27:52.962037Z",
     "shell.execute_reply.started": "2022-11-07T10:27:52.820609Z"
    }
   },
   "outputs": [
    {
     "data": {
      "text/plain": [
       "(8359, 3)"
      ]
     },
     "execution_count": 11,
     "metadata": {},
     "output_type": "execute_result"
    }
   ],
   "source": [
    "df = dataset.dropna(axis=0)\n",
    "df.drop_duplicates(keep='first')\n",
    "df.shape"
   ]
  },
  {
   "cell_type": "code",
   "execution_count": 12,
   "metadata": {
    "execution": {
     "iopub.execute_input": "2022-11-07T10:27:52.964697Z",
     "iopub.status.busy": "2022-11-07T10:27:52.964248Z",
     "iopub.status.idle": "2022-11-07T10:27:52.980791Z",
     "shell.execute_reply": "2022-11-07T10:27:52.979963Z",
     "shell.execute_reply.started": "2022-11-07T10:27:52.964661Z"
    }
   },
   "outputs": [
    {
     "data": {
      "text/html": [
       "<div>\n",
       "<style scoped>\n",
       "    .dataframe tbody tr th:only-of-type {\n",
       "        vertical-align: middle;\n",
       "    }\n",
       "\n",
       "    .dataframe tbody tr th {\n",
       "        vertical-align: top;\n",
       "    }\n",
       "\n",
       "    .dataframe thead th {\n",
       "        text-align: right;\n",
       "    }\n",
       "</style>\n",
       "<table border=\"1\" class=\"dataframe\">\n",
       "  <thead>\n",
       "    <tr style=\"text-align: right;\">\n",
       "      <th></th>\n",
       "      <th>tagline</th>\n",
       "      <th>plot_synopsis</th>\n",
       "      <th>overview</th>\n",
       "    </tr>\n",
       "  </thead>\n",
       "  <tbody>\n",
       "    <tr>\n",
       "      <th>1</th>\n",
       "      <td>Roll the dice and unleash the excitement!</td>\n",
       "      <td>The film begins in 1869 in the town of Brantfo...</td>\n",
       "      <td>When siblings Judy and Peter discover an encha...</td>\n",
       "    </tr>\n",
       "    <tr>\n",
       "      <th>2</th>\n",
       "      <td>Still Yelling. Still Fighting. Still Ready for...</td>\n",
       "      <td>The feud between Max (Walter Matthau) and John...</td>\n",
       "      <td>A family wedding reignites the ancient feud be...</td>\n",
       "    </tr>\n",
       "    <tr>\n",
       "      <th>3</th>\n",
       "      <td>Friends are the people who let you be yourself...</td>\n",
       "      <td>\"Friends are the People who let you be yoursel...</td>\n",
       "      <td>Cheated on, mistreated and stepped on, the wom...</td>\n",
       "    </tr>\n",
       "    <tr>\n",
       "      <th>4</th>\n",
       "      <td>Just When His World Is Back To Normal... He's ...</td>\n",
       "      <td>The film begins five years after the events of...</td>\n",
       "      <td>Just when George Banks has recovered from his ...</td>\n",
       "    </tr>\n",
       "  </tbody>\n",
       "</table>\n",
       "</div>"
      ],
      "text/plain": [
       "                                             tagline  \\\n",
       "1          Roll the dice and unleash the excitement!   \n",
       "2  Still Yelling. Still Fighting. Still Ready for...   \n",
       "3  Friends are the people who let you be yourself...   \n",
       "4  Just When His World Is Back To Normal... He's ...   \n",
       "\n",
       "                                       plot_synopsis  \\\n",
       "1  The film begins in 1869 in the town of Brantfo...   \n",
       "2  The feud between Max (Walter Matthau) and John...   \n",
       "3  \"Friends are the People who let you be yoursel...   \n",
       "4  The film begins five years after the events of...   \n",
       "\n",
       "                                            overview  \n",
       "1  When siblings Judy and Peter discover an encha...  \n",
       "2  A family wedding reignites the ancient feud be...  \n",
       "3  Cheated on, mistreated and stepped on, the wom...  \n",
       "4  Just when George Banks has recovered from his ...  "
      ]
     },
     "execution_count": 12,
     "metadata": {},
     "output_type": "execute_result"
    }
   ],
   "source": [
    "df.head(4)"
   ]
  },
  {
   "cell_type": "code",
   "execution_count": 13,
   "metadata": {
    "execution": {
     "iopub.execute_input": "2022-11-07T10:27:52.982489Z",
     "iopub.status.busy": "2022-11-07T10:27:52.982065Z",
     "iopub.status.idle": "2022-11-07T10:27:53.231919Z",
     "shell.execute_reply": "2022-11-07T10:27:53.230989Z",
     "shell.execute_reply.started": "2022-11-07T10:27:52.982455Z"
    }
   },
   "outputs": [
    {
     "data": {
      "image/png": "[encoded data removed]",
      "text/plain": [
       "<Figure size 640x480 with 1 Axes>"
      ]
     },
     "metadata": {},
     "output_type": "display_data"
    }
   ],
   "source": [
    "number_of_words_tl = df.tagline.apply(lambda x: len(x.split()))\n",
    "plt.hist(number_of_words_tl, bins=20 )\n",
    "plt.xlabel(\"Number of words\")\n",
    "plt.ylabel(\"Number of Data points\")\n",
    "plt.title(\"Number of words in Taglines\")\n",
    "plt.show()"
   ]
  },
  {
   "cell_type": "code",
   "execution_count": 14,
   "metadata": {
    "execution": {
     "iopub.execute_input": "2022-11-07T10:27:53.234205Z",
     "iopub.status.busy": "2022-11-07T10:27:53.233127Z",
     "iopub.status.idle": "2022-11-07T10:27:53.240359Z",
     "shell.execute_reply": "2022-11-07T10:27:53.239501Z",
     "shell.execute_reply.started": "2022-11-07T10:27:53.234167Z"
    }
   },
   "outputs": [],
   "source": [
    "df_sample = df.sample(800,random_state=23)\n",
    "X = np.array(df_sample[\"plot_synopsis\"])\n",
    "y = np.array(df_sample[\"tagline\"])"
   ]
  },
  {
   "cell_type": "code",
   "execution_count": 15,
   "metadata": {
    "execution": {
     "iopub.execute_input": "2022-11-07T10:27:53.245249Z",
     "iopub.status.busy": "2022-11-07T10:27:53.244509Z",
     "iopub.status.idle": "2022-11-07T10:28:15.214541Z",
     "shell.execute_reply": "2022-11-07T10:28:15.213042Z",
     "shell.execute_reply.started": "2022-11-07T10:27:53.245222Z"
    }
   },
   "outputs": [
    {
     "name": "stderr",
     "output_type": "stream",
     "text": [
      "Some weights of the model checkpoint at bert-large-uncased were not used when initializing BertModel: ['cls.predictions.transform.LayerNorm.bias', 'cls.predictions.transform.LayerNorm.weight', 'cls.seq_relationship.bias', 'cls.seq_relationship.weight', 'cls.predictions.bias', 'cls.predictions.transform.dense.weight', 'cls.predictions.transform.dense.bias', 'cls.predictions.decoder.weight']\n",
      "- This IS expected if you are initializing BertModel from the checkpoint of a model trained on another task or with another architecture (e.g. initializing a BertForSequenceClassification model from a BertForPreTraining model).\n",
      "- This IS NOT expected if you are initializing BertModel from the checkpoint of a model that you expect to be exactly identical (initializing a BertForSequenceClassification model from a BertForSequenceClassification model).\n"
     ]
    }
   ],
   "source": [
    "from summarizer import Summarizer\n",
    "model = Summarizer()"
   ]
  },
  {
   "cell_type": "code",
   "execution_count": null,
   "metadata": {
    "execution": {
     "iopub.status.busy": "2022-11-07T10:28:15.215677Z",
     "iopub.status.idle": "2022-11-07T10:28:15.218380Z",
     "shell.execute_reply": "2022-11-07T10:28:15.218201Z",
     "shell.execute_reply.started": "2022-11-07T10:28:15.218181Z"
    }
   },
   "outputs": [
    {
     "name": "stdout",
     "output_type": "stream",
     "text": [
      "0\n"
     ]
    }
   ],
   "source": [
    "pred_tag = []\n",
    "cntr = 0\n",
    "for val in X:\n",
    "    if cntr % 100 == 0:\n",
    "        print(cntr)\n",
    "    pred_tag.append(model(val, num_sentences=1))\n",
    "    cntr+=1\n",
    "#     if cntr % 40 == 0:\n",
    "#         break\n",
    "np_tag = np.array(pred_tag)"
   ]
  },
  {
   "cell_type": "code",
   "execution_count": null,
   "metadata": {
    "execution": {
     "iopub.execute_input": "2022-11-07T10:20:35.335677Z",
     "iopub.status.busy": "2022-11-07T10:20:35.333291Z",
     "iopub.status.idle": "2022-11-07T10:20:35.342476Z",
     "shell.execute_reply": "2022-11-07T10:20:35.341300Z",
     "shell.execute_reply.started": "2022-11-07T10:20:35.335638Z"
    }
   },
   "outputs": [],
   "source": [
    "df_res = pd.DataFrame()"
   ]
  },
  {
   "cell_type": "code",
   "execution_count": null,
   "metadata": {
    "execution": {
     "iopub.execute_input": "2022-11-07T10:20:35.348099Z",
     "iopub.status.busy": "2022-11-07T10:20:35.347268Z",
     "iopub.status.idle": "2022-11-07T10:20:35.359468Z",
     "shell.execute_reply": "2022-11-07T10:20:35.358255Z",
     "shell.execute_reply.started": "2022-11-07T10:20:35.348062Z"
    }
   },
   "outputs": [],
   "source": [
    "df_res[\"plot_synopsis\"] = pd.Series(X)\n",
    "df_res[\"tagline\"] = pd.Series(y)\n",
    "df_res[\"pred_tagline\"] = pd.Series(np_tag)"
   ]
  },
  {
   "cell_type": "code",
   "execution_count": null,
   "metadata": {
    "execution": {
     "iopub.execute_input": "2022-11-07T10:20:35.361238Z",
     "iopub.status.busy": "2022-11-07T10:20:35.360694Z",
     "iopub.status.idle": "2022-11-07T10:20:35.381722Z",
     "shell.execute_reply": "2022-11-07T10:20:35.380818Z",
     "shell.execute_reply.started": "2022-11-07T10:20:35.361202Z"
    }
   },
   "outputs": [],
   "source": [
    "df_res.to_csv(\"Extractive_sum.csv\", index=False)"
   ]
  }
 ],
 "metadata": {
  "kernelspec": {
   "display_name": "Python 3 (ipykernel)",
   "language": "python",
   "name": "python3"
  },
  "language_info": {
   "codemirror_mode": {
    "name": "ipython",
    "version": 3
   },
   "file_extension": ".py",
   "mimetype": "text/x-python",
   "name": "python",
   "nbconvert_exporter": "python",
   "pygments_lexer": "ipython3",
   "version": "3.8.10"
  }
 },
 "nbformat": 4,
 "nbformat_minor": 4
}
