{
 "cells": [
  {
   "cell_type": "markdown",
   "metadata": {},
   "source": [
    "## **Import the Libraries & Getting Data**"
   ]
  },
  {
   "cell_type": "code",
   "execution_count": null,
   "metadata": {
    "execution": {
     "iopub.execute_input": "2022-11-08T08:43:53.041957Z",
     "iopub.status.busy": "2022-11-08T08:43:53.041522Z",
     "iopub.status.idle": "2022-11-08T08:43:53.050631Z",
     "shell.execute_reply": "2022-11-08T08:43:53.049092Z",
     "shell.execute_reply.started": "2022-11-08T08:43:53.041919Z"
    }
   },
   "outputs": [],
   "source": [
    "import pandas as pd\n",
    "import numpy as np\n",
    "import regex as re\n",
    "import matplotlib.pyplot as plt\n",
    "%matplotlib inline\n",
    "from pandas_profiling import ProfileReport"
   ]
  },
  {
   "cell_type": "code",
   "execution_count": null,
   "metadata": {
    "execution": {
     "iopub.execute_input": "2022-11-08T08:42:35.462883Z",
     "iopub.status.busy": "2022-11-08T08:42:35.462514Z",
     "iopub.status.idle": "2022-11-08T08:42:38.729168Z",
     "shell.execute_reply": "2022-11-08T08:42:38.727815Z",
     "shell.execute_reply.started": "2022-11-08T08:42:35.462851Z"
    }
   },
   "outputs": [],
   "source": [
    "movie_metadata = pd.read_csv('data/movies_metadata.csv')\n",
    "mpst_data = pd.read_csv('data/mpst_full_data.csv')"
   ]
  },
  {
   "cell_type": "markdown",
   "metadata": {},
   "source": [
    "### **Merging both mpst and movies_metadata files based on imdb_id to get our final dataset**"
   ]
  },
  {
   "cell_type": "code",
   "execution_count": null,
   "metadata": {
    "execution": {
     "iopub.execute_input": "2022-11-08T08:42:38.733607Z",
     "iopub.status.busy": "2022-11-08T08:42:38.732790Z",
     "iopub.status.idle": "2022-11-08T08:42:38.818315Z",
     "shell.execute_reply": "2022-11-08T08:42:38.817050Z",
     "shell.execute_reply.started": "2022-11-08T08:42:38.733543Z"
    }
   },
   "outputs": [],
   "source": [
    "dataset = pd.merge(movie_metadata , mpst_data, on='imdb_id')\n",
    "dataset.columns"
   ]
  },
  {
   "cell_type": "code",
   "execution_count": null,
   "metadata": {
    "execution": {
     "iopub.execute_input": "2022-11-08T08:42:38.820431Z",
     "iopub.status.busy": "2022-11-08T08:42:38.819946Z",
     "iopub.status.idle": "2022-11-08T08:42:38.848454Z",
     "shell.execute_reply": "2022-11-08T08:42:38.847230Z",
     "shell.execute_reply.started": "2022-11-08T08:42:38.820384Z"
    }
   },
   "outputs": [],
   "source": [
    "dataset = dataset[['tagline','plot_synopsis','overview']]\n",
    "dataset.shape"
   ]
  },
  {
   "cell_type": "markdown",
   "metadata": {},
   "source": [
    "### **Generating the ProfileReport for the dataset**"
   ]
  },
  {
   "cell_type": "code",
   "execution_count": null,
   "metadata": {
    "execution": {
     "iopub.execute_input": "2022-11-08T08:43:06.338938Z",
     "iopub.status.busy": "2022-11-08T08:43:06.338360Z",
     "iopub.status.idle": "2022-11-08T08:43:06.352407Z",
     "shell.execute_reply": "2022-11-08T08:43:06.350947Z",
     "shell.execute_reply.started": "2022-11-08T08:43:06.338887Z"
    }
   },
   "outputs": [],
   "source": [
    "profile = ProfileReport(dataset, title=\"Pandas Profiling Report\")"
   ]
  },
  {
   "cell_type": "code",
   "execution_count": null,
   "metadata": {
    "execution": {
     "iopub.execute_input": "2022-11-08T08:43:06.605243Z",
     "iopub.status.busy": "2022-11-08T08:43:06.604149Z",
     "iopub.status.idle": "2022-11-08T08:43:48.122533Z",
     "shell.execute_reply": "2022-11-08T08:43:48.121319Z",
     "shell.execute_reply.started": "2022-11-08T08:43:06.605191Z"
    }
   },
   "outputs": [],
   "source": [
    "profile.to_widgets()"
   ]
  },
  {
   "cell_type": "markdown",
   "metadata": {},
   "source": [
    "## **Dataset Cleaning**"
   ]
  },
  {
   "cell_type": "code",
   "execution_count": null,
   "metadata": {
    "execution": {
     "iopub.execute_input": "2022-11-08T08:42:38.851097Z",
     "iopub.status.busy": "2022-11-08T08:42:38.850430Z",
     "iopub.status.idle": "2022-11-08T08:42:39.024799Z",
     "shell.execute_reply": "2022-11-08T08:42:39.023703Z",
     "shell.execute_reply.started": "2022-11-08T08:42:38.851059Z"
    }
   },
   "outputs": [],
   "source": [
    "df = dataset.dropna(axis=0)\n",
    "df.drop_duplicates(keep='first')\n",
    "df.shape"
   ]
  },
  {
   "cell_type": "code",
   "execution_count": null,
   "metadata": {
    "execution": {
     "iopub.execute_input": "2022-11-08T08:42:39.026381Z",
     "iopub.status.busy": "2022-11-08T08:42:39.025966Z",
     "iopub.status.idle": "2022-11-08T08:42:39.044040Z",
     "shell.execute_reply": "2022-11-08T08:42:39.042747Z",
     "shell.execute_reply.started": "2022-11-08T08:42:39.026347Z"
    }
   },
   "outputs": [],
   "source": [
    "df.head(4)"
   ]
  },
  {
   "cell_type": "markdown",
   "metadata": {},
   "source": [
    "#### **Analyzing the number of words in each columns of dataset**"
   ]
  },
  {
   "cell_type": "code",
   "execution_count": null,
   "metadata": {
    "execution": {
     "iopub.execute_input": "2022-11-08T08:43:56.842937Z",
     "iopub.status.busy": "2022-11-08T08:43:56.842536Z",
     "iopub.status.idle": "2022-11-08T08:43:57.620652Z",
     "shell.execute_reply": "2022-11-08T08:43:57.619147Z",
     "shell.execute_reply.started": "2022-11-08T08:43:56.842906Z"
    }
   },
   "outputs": [],
   "source": [
    "number_of_words_ps = df.plot_synopsis.apply(lambda x: len(x.split()))\n",
    "plt.hist(number_of_words_ps, bins=20 )\n",
    "plt.xlabel(\"Number of words\")\n",
    "plt.ylabel(\"Number of Data points\")\n",
    "plt.title(\"Number of words in Plot Synopsis\")\n",
    "plt.show()"
   ]
  },
  {
   "cell_type": "code",
   "execution_count": null,
   "metadata": {
    "execution": {
     "iopub.execute_input": "2022-11-08T08:43:58.346929Z",
     "iopub.status.busy": "2022-11-08T08:43:58.346490Z",
     "iopub.status.idle": "2022-11-08T08:43:58.623641Z",
     "shell.execute_reply": "2022-11-08T08:43:58.622224Z",
     "shell.execute_reply.started": "2022-11-08T08:43:58.346893Z"
    }
   },
   "outputs": [],
   "source": [
    "number_of_words_ov = df.overview.apply(lambda x: len(x.split()))\n",
    "plt.hist(number_of_words_ov, bins=20 )\n",
    "plt.xlabel(\"Number of words\")\n",
    "plt.ylabel(\"Number of Data points\")\n",
    "plt.title(\"Number of words in Overview\")\n",
    "plt.show()"
   ]
  },
  {
   "cell_type": "code",
   "execution_count": null,
   "metadata": {
    "execution": {
     "iopub.execute_input": "2022-11-08T08:43:59.097033Z",
     "iopub.status.busy": "2022-11-08T08:43:59.095956Z",
     "iopub.status.idle": "2022-11-08T08:43:59.371991Z",
     "shell.execute_reply": "2022-11-08T08:43:59.368888Z",
     "shell.execute_reply.started": "2022-11-08T08:43:59.096975Z"
    }
   },
   "outputs": [],
   "source": [
    "number_of_words_tl = df.tagline.apply(lambda x: len(x.split()))\n",
    "plt.hist(number_of_words_tl, bins=20 )\n",
    "plt.xlabel(\"Number of words\")\n",
    "plt.ylabel(\"Number of Data points\")\n",
    "plt.title(\"Number of words in Taglines\")\n",
    "plt.show()"
   ]
  },
  {
   "cell_type": "markdown",
   "metadata": {},
   "source": [
    "## **Summarization Models**"
   ]
  },
  {
   "cell_type": "markdown",
   "metadata": {},
   "source": [
    "### Abstractive Summarization"
   ]
  },
  {
   "cell_type": "markdown",
   "metadata": {},
   "source": [
    "#### **T5-Small Model**"
   ]
  },
  {
   "cell_type": "code",
   "execution_count": null,
   "metadata": {
    "execution": {
     "iopub.execute_input": "2022-11-08T08:44:03.056692Z",
     "iopub.status.busy": "2022-11-08T08:44:03.056275Z",
     "iopub.status.idle": "2022-11-08T08:44:03.130132Z",
     "shell.execute_reply": "2022-11-08T08:44:03.128858Z",
     "shell.execute_reply.started": "2022-11-08T08:44:03.056660Z"
    }
   },
   "outputs": [],
   "source": [
    "df_t5_res = pd.read_csv(\"data/Results/t5_results.csv\")\n",
    "df_t5_res.head(5)"
   ]
  },
  {
   "cell_type": "markdown",
   "metadata": {},
   "source": [
    "#### **BART Model**"
   ]
  },
  {
   "cell_type": "code",
   "execution_count": null,
   "metadata": {
    "execution": {
     "iopub.execute_input": "2022-11-08T08:44:03.618233Z",
     "iopub.status.busy": "2022-11-08T08:44:03.617704Z",
     "iopub.status.idle": "2022-11-08T08:44:03.691822Z",
     "shell.execute_reply": "2022-11-08T08:44:03.690810Z",
     "shell.execute_reply.started": "2022-11-08T08:44:03.618189Z"
    }
   },
   "outputs": [],
   "source": [
    "df_bart_res = pd.read_csv(\"data/Results/bart_results.csv\")\n",
    "df_bart_res.head(5)"
   ]
  },
  {
   "cell_type": "markdown",
   "metadata": {},
   "source": [
    "### Extractive Summarization"
   ]
  },
  {
   "cell_type": "code",
   "execution_count": null,
   "metadata": {
    "execution": {
     "iopub.execute_input": "2022-11-08T08:44:04.134791Z",
     "iopub.status.busy": "2022-11-08T08:44:04.134383Z",
     "iopub.status.idle": "2022-11-08T08:44:04.204947Z",
     "shell.execute_reply": "2022-11-08T08:44:04.203125Z",
     "shell.execute_reply.started": "2022-11-08T08:44:04.134760Z"
    }
   },
   "outputs": [],
   "source": [
    "df_extractive_res = pd.read_csv(\"data/Results/extractive_results.csv\")\n",
    "df_extractive_res.head(5)"
   ]
  },
  {
   "cell_type": "markdown",
   "metadata": {},
   "source": [
    "## **Evaluation**"
   ]
  },
  {
   "cell_type": "code",
   "execution_count": null,
   "metadata": {
    "execution": {
     "iopub.execute_input": "2022-11-08T08:44:04.861075Z",
     "iopub.status.busy": "2022-11-08T08:44:04.860402Z",
     "iopub.status.idle": "2022-11-08T08:44:04.867328Z",
     "shell.execute_reply": "2022-11-08T08:44:04.865812Z",
     "shell.execute_reply.started": "2022-11-08T08:44:04.861025Z"
    }
   },
   "outputs": [],
   "source": [
    "import pandas as pd\n",
    "from nltk.translate.bleu_score import sentence_bleu\n",
    "from rouge import Rouge"
   ]
  },
  {
   "cell_type": "markdown",
   "metadata": {},
   "source": [
    "### **Rouge-1 Scores**"
   ]
  },
  {
   "cell_type": "code",
   "execution_count": null,
   "metadata": {
    "execution": {
     "iopub.execute_input": "2022-11-08T08:44:05.554532Z",
     "iopub.status.busy": "2022-11-08T08:44:05.553741Z",
     "iopub.status.idle": "2022-11-08T08:44:05.560798Z",
     "shell.execute_reply": "2022-11-08T08:44:05.559519Z",
     "shell.execute_reply.started": "2022-11-08T08:44:05.554476Z"
    }
   },
   "outputs": [],
   "source": [
    "rouge = Rouge()"
   ]
  },
  {
   "cell_type": "code",
   "execution_count": null,
   "metadata": {
    "execution": {
     "iopub.execute_input": "2022-11-08T08:44:05.928956Z",
     "iopub.status.busy": "2022-11-08T08:44:05.928305Z",
     "iopub.status.idle": "2022-11-08T08:44:05.935418Z",
     "shell.execute_reply": "2022-11-08T08:44:05.933998Z",
     "shell.execute_reply.started": "2022-11-08T08:44:05.928910Z"
    }
   },
   "outputs": [],
   "source": [
    "def get_rouge_score(pred_val,ref_val):\n",
    "    r_scores = rouge.get_scores(pred_val, ref_val, avg=True)\n",
    "    return r_scores['rouge-1']['f']"
   ]
  },
  {
   "cell_type": "code",
   "execution_count": null,
   "metadata": {
    "execution": {
     "iopub.execute_input": "2022-11-08T08:44:06.334390Z",
     "iopub.status.busy": "2022-11-08T08:44:06.333923Z",
     "iopub.status.idle": "2022-11-08T08:44:07.005401Z",
     "shell.execute_reply": "2022-11-08T08:44:07.004067Z",
     "shell.execute_reply.started": "2022-11-08T08:44:06.334352Z"
    }
   },
   "outputs": [],
   "source": [
    "rouge_t5 = get_rouge_score(df_t5_res[\"predictions\"],df_t5_res[\"tagline\"])\n",
    "rouge_bart = get_rouge_score(df_bart_res[\"predictions\"],df_bart_res[\"tagline\"])\n",
    "rouge_ext = get_rouge_score(df_extractive_res[\"predictions\"],df_extractive_res[\"tagline\"])"
   ]
  },
  {
   "cell_type": "markdown",
   "metadata": {},
   "source": [
    "### **BLEU Score**"
   ]
  },
  {
   "cell_type": "code",
   "execution_count": null,
   "metadata": {
    "execution": {
     "iopub.execute_input": "2022-11-08T08:44:08.357654Z",
     "iopub.status.busy": "2022-11-08T08:44:08.357238Z",
     "iopub.status.idle": "2022-11-08T08:44:08.365955Z",
     "shell.execute_reply": "2022-11-08T08:44:08.364576Z",
     "shell.execute_reply.started": "2022-11-08T08:44:08.357621Z"
    }
   },
   "outputs": [],
   "source": [
    "def get_bleu_score(pred_val,ref_val):\n",
    "    avg_blue_score = 0\n",
    "    for i in range(len(pred_val)):\n",
    "        pred = pred_val[i].split(' ')\n",
    "        refer = ref_val[i].split(' ')\n",
    "        avg_blue_score += sentence_bleu([refer], pred)\n",
    "    avg_blue_score = avg_blue_score/len(pred_val)\n",
    "    return avg_blue_score"
   ]
  },
  {
   "cell_type": "code",
   "execution_count": null,
   "metadata": {
    "execution": {
     "iopub.execute_input": "2022-11-08T08:44:08.970951Z",
     "iopub.status.busy": "2022-11-08T08:44:08.970528Z",
     "iopub.status.idle": "2022-11-08T08:44:09.431154Z",
     "shell.execute_reply": "2022-11-08T08:44:09.430119Z",
     "shell.execute_reply.started": "2022-11-08T08:44:08.970913Z"
    }
   },
   "outputs": [],
   "source": [
    "bleu_t5 = get_bleu_score(df_t5_res[\"predictions\"],df_t5_res[\"tagline\"])\n",
    "bleu_bart = get_bleu_score(df_bart_res[\"predictions\"],df_bart_res[\"tagline\"])\n",
    "bleu_ext = get_bleu_score(df_extractive_res[\"predictions\"],df_extractive_res[\"tagline\"])"
   ]
  },
  {
   "cell_type": "markdown",
   "metadata": {},
   "source": [
    "### **Results**"
   ]
  },
  {
   "cell_type": "code",
   "execution_count": null,
   "metadata": {
    "execution": {
     "iopub.execute_input": "2022-11-08T08:44:11.490771Z",
     "iopub.status.busy": "2022-11-08T08:44:11.490381Z",
     "iopub.status.idle": "2022-11-08T08:44:11.689037Z",
     "shell.execute_reply": "2022-11-08T08:44:11.687818Z",
     "shell.execute_reply.started": "2022-11-08T08:44:11.490740Z"
    }
   },
   "outputs": [],
   "source": [
    "plt.bar(['T5','BART','BERT'], [rouge_t5,rouge_bart,rouge_ext],\n",
    "        width = 0.4)\n",
    " \n",
    "plt.xlabel(\"Summarization Models\")\n",
    "plt.ylabel(\"Rouge-1 Score\")\n",
    "plt.title(\"Rouge-1 Score for different Models\")\n",
    "plt.show()"
   ]
  },
  {
   "cell_type": "code",
   "execution_count": null,
   "metadata": {
    "execution": {
     "iopub.execute_input": "2022-11-08T08:44:12.702215Z",
     "iopub.status.busy": "2022-11-08T08:44:12.701707Z",
     "iopub.status.idle": "2022-11-08T08:44:12.910937Z",
     "shell.execute_reply": "2022-11-08T08:44:12.909963Z",
     "shell.execute_reply.started": "2022-11-08T08:44:12.702170Z"
    }
   },
   "outputs": [],
   "source": [
    "plt.bar(['BART','BERT','T5'], [bleu_bart,bleu_ext,bleu_t5],\n",
    "        width = 0.4)\n",
    " \n",
    "plt.xlabel(\"Summarization Models\")\n",
    "plt.ylabel(\"Bleu Score\")\n",
    "plt.title(\"Bleu Score for different Models\")\n",
    "plt.show()"
   ]
  }
 ],
 "metadata": {
  "kernelspec": {
   "display_name": "Python 3 (ipykernel)",
   "language": "python",
   "name": "python3"
  },
  "language_info": {
   "codemirror_mode": {
    "name": "ipython",
    "version": 3
   },
   "file_extension": ".py",
   "mimetype": "text/x-python",
   "name": "python",
   "nbconvert_exporter": "python",
   "pygments_lexer": "ipython3",
   "version": "3.8.10"
  }
 },
 "nbformat": 4,
 "nbformat_minor": 4
}
